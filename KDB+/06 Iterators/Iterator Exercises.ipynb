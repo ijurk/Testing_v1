{
 "cells": [
  {
   "cell_type": "markdown",
   "metadata": {
    "heading_collapsed": true
   },
   "source": [
    "## Simple Iterators"
   ]
  },
  {
   "cell_type": "markdown",
   "metadata": {
    "hidden": true,
    "solution2": "hidden",
    "solution2_first": true
   },
   "source": [
    "* Use `each` to count the length of each individual list from the list of lists `(1 2 3 4 5; \"abc\"; 1.0 2.0)`"
   ]
  },
  {
   "cell_type": "code",
   "execution_count": null,
   "metadata": {
    "hidden": true,
    "solution2": "hidden"
   },
   "outputs": [],
   "source": [
    "count each (1 2 3 4 5; \"abc\"; 1.0 2.0)"
   ]
  },
  {
   "cell_type": "code",
   "execution_count": null,
   "metadata": {
    "hidden": true
   },
   "outputs": [],
   "source": [
    "// write your code here "
   ]
  },
  {
   "cell_type": "markdown",
   "metadata": {
    "hidden": true,
    "solution2": "hidden",
    "solution2_first": true
   },
   "source": [
    "* Use `each` to find the average of each list from the list of lists `(1 2 3 4 5; 10 20 30 ;53.677 22.36 99.4 47.47)`"
   ]
  },
  {
   "cell_type": "code",
   "execution_count": null,
   "metadata": {
    "hidden": true,
    "solution2": "hidden"
   },
   "outputs": [],
   "source": [
    "avg each (1 2 3 4 5; 10 20 30 ;53.677 22.36 99.4 47.47)"
   ]
  },
  {
   "cell_type": "code",
   "execution_count": null,
   "metadata": {
    "hidden": true
   },
   "outputs": [],
   "source": [
    "// write your code here "
   ]
  },
  {
   "cell_type": "markdown",
   "metadata": {
    "hidden": true,
    "solution2": "hidden",
    "solution2_first": true
   },
   "source": [
    "* Given the list pair, `(1 2 3 4;\"abc\")`, [reverse](https://code.kx.com/q/ref/reverse/) the list so that the new list looks like `(\"abc\";1 2 3 4)`"
   ]
  },
  {
   "cell_type": "code",
   "execution_count": null,
   "metadata": {
    "hidden": true,
    "solution2": "hidden"
   },
   "outputs": [],
   "source": [
    "reverse (1 2 3 4;\"abc\")"
   ]
  },
  {
   "cell_type": "code",
   "execution_count": null,
   "metadata": {
    "hidden": true
   },
   "outputs": [],
   "source": [
    "// write your code here "
   ]
  },
  {
   "cell_type": "markdown",
   "metadata": {
    "hidden": true,
    "solution2": "hidden",
    "solution2_first": true
   },
   "source": [
    "* Modify this list so that the new list looks like `(4 3 2 1;\"cba\")`"
   ]
  },
  {
   "cell_type": "code",
   "execution_count": null,
   "metadata": {
    "hidden": true,
    "solution2": "hidden"
   },
   "outputs": [],
   "source": [
    "reverse each (1 2 3 4;\"abc\")"
   ]
  },
  {
   "cell_type": "code",
   "execution_count": null,
   "metadata": {
    "hidden": true
   },
   "outputs": [],
   "source": [
    "// write your code here "
   ]
  },
  {
   "cell_type": "markdown",
   "metadata": {
    "heading_collapsed": true
   },
   "source": [
    "## Iterating Joins\n"
   ]
  },
  {
   "cell_type": "markdown",
   "metadata": {
    "hidden": true,
    "solution2": "hidden",
    "solution2_first": true
   },
   "source": [
    "* Join `x` and `y` into one list - iterators are not required\n",
    "\n",
    "    x: 10 30 20 40\n",
    "    y: 13 34 25 46"
   ]
  },
  {
   "cell_type": "code",
   "execution_count": null,
   "metadata": {
    "hidden": true,
    "solution2": "hidden"
   },
   "outputs": [],
   "source": [
    "x: 10 30 20 40\n",
    "y: 13 34 25 46\n",
    "x,y"
   ]
  },
  {
   "cell_type": "code",
   "execution_count": null,
   "metadata": {
    "hidden": true
   },
   "outputs": [],
   "source": [
    "// write your code here "
   ]
  },
  {
   "cell_type": "markdown",
   "metadata": {
    "hidden": true,
    "solution2": "hidden",
    "solution2_first": true
   },
   "source": [
    "* Join `x` and `y` item by item, returning a list of pairs (type = 0h) i.e.\n",
    "        \n",
    "        10 13 \n",
    "        30 34 \n",
    "        20 25\n",
    "        40 46"
   ]
  },
  {
   "cell_type": "code",
   "execution_count": null,
   "metadata": {
    "hidden": true,
    "solution2": "hidden"
   },
   "outputs": [],
   "source": [
    "x,'y\n",
    "type x,'y"
   ]
  },
  {
   "cell_type": "code",
   "execution_count": null,
   "metadata": {
    "hidden": true
   },
   "outputs": [],
   "source": [
    "// write your code here "
   ]
  },
  {
   "cell_type": "markdown",
   "metadata": {
    "hidden": true,
    "solution2": "hidden",
    "solution2_first": true
   },
   "source": [
    "* Join `x` and `y` in such a way that each of the elements in `x` are joined with all of `y`. (ie. first line should look like `10 13 34 25 46`)"
   ]
  },
  {
   "cell_type": "code",
   "execution_count": null,
   "metadata": {
    "hidden": true,
    "solution2": "hidden"
   },
   "outputs": [],
   "source": [
    "x,\\:y"
   ]
  },
  {
   "cell_type": "code",
   "execution_count": null,
   "metadata": {
    "hidden": true
   },
   "outputs": [],
   "source": [
    "// write your code here "
   ]
  },
  {
   "cell_type": "markdown",
   "metadata": {
    "hidden": true,
    "solution2": "hidden",
    "solution2_first": true
   },
   "source": [
    "* Join `x` and `y` in such a way that the whole of `x` is joined with each individual element of `y` i.e.\n",
    "\n",
    "        10 30 20 40 13 \n",
    "        10 30 20 40 34 \n",
    "        10 30 20 40 25\n",
    "        10 30 20 40 46"
   ]
  },
  {
   "cell_type": "code",
   "execution_count": null,
   "metadata": {
    "hidden": true,
    "solution2": "hidden"
   },
   "outputs": [],
   "source": [
    "x,/:y"
   ]
  },
  {
   "cell_type": "code",
   "execution_count": null,
   "metadata": {
    "hidden": true
   },
   "outputs": [],
   "source": [
    "// write your code here "
   ]
  },
  {
   "cell_type": "markdown",
   "metadata": {
    "heading_collapsed": true
   },
   "source": [
    "## Iterating Keywords"
   ]
  },
  {
   "cell_type": "markdown",
   "metadata": {
    "hidden": true,
    "solution2": "hidden",
    "solution2_first": true
   },
   "source": [
    "* Use the [drop](https://code.kx.com/q/ref/drop/) function to remove the first element from `x` and the last two elements from `y` (within the same statement), answer should look like;\n",
    "\n",
    "        30 20 40\n",
    "        13 34"
   ]
  },
  {
   "cell_type": "code",
   "execution_count": null,
   "metadata": {
    "hidden": true,
    "solution2": "hidden"
   },
   "outputs": [],
   "source": [
    "1 -2 _' (x;y)"
   ]
  },
  {
   "cell_type": "code",
   "execution_count": null,
   "metadata": {
    "hidden": true
   },
   "outputs": [],
   "source": [
    "// write your code here "
   ]
  },
  {
   "cell_type": "markdown",
   "metadata": {
    "hidden": true,
    "solution2": "hidden",
    "solution2_first": true
   },
   "source": [
    "* Choose a random selection of elements from the variable <code>rockList:(\\`i\\`love\\`rockandroll)</code>  - the number of items you choose should be determined by each element of a list `numerialList:(1 4 3 2)`. \n",
    "\n",
    "    Example output: \n",
    "        ,`i\n",
    "        `rockandroll`i`love`love\n",
    "        `i`love`i\n",
    "        `love`i"
   ]
  },
  {
   "cell_type": "code",
   "execution_count": null,
   "metadata": {
    "hidden": true,
    "solution2": "hidden"
   },
   "outputs": [],
   "source": [
    "rockList:(`i`love`rockandroll)\n",
    "numerialList:(1 4 3 2)\n",
    "\n",
    "numerialList?\\:rockList"
   ]
  },
  {
   "cell_type": "code",
   "execution_count": null,
   "metadata": {
    "hidden": true
   },
   "outputs": [],
   "source": [
    "//write your code here"
   ]
  },
  {
   "cell_type": "markdown",
   "metadata": {
    "hidden": true,
    "solution2": "hidden",
    "solution2_first": true
   },
   "source": [
    "* The keyword [`cor`](https://code.kx.com/q/ref/cor/) will calculate the correlation between two series of equal lengths.  Define the following series: \n",
    "\n",
    "        AAPL: 100?10.0\n",
    "        ALL_STOCKS: 100?'(10?100.0)\n",
    "\n",
    "Use an iterators to calculate the correlation of the series `AAPL` with each series in `ALL_STOCKS`"
   ]
  },
  {
   "cell_type": "code",
   "execution_count": null,
   "metadata": {
    "hidden": true,
    "solution2": "hidden"
   },
   "outputs": [],
   "source": [
    "AAPL: 100?10.0 \n",
    "AAPL\n",
    "ALL_STOCKS: 100?'(10?100.0)\n",
    "ALL_STOCKS"
   ]
  },
  {
   "cell_type": "code",
   "execution_count": null,
   "metadata": {
    "hidden": true,
    "solution2": "hidden"
   },
   "outputs": [],
   "source": [
    "AAPL cor/: ALL_STOCKS\n",
    "count AAPL cor/: ALL_STOCKS   //have 10 items because there are ten series in ALL_STOCKS"
   ]
  },
  {
   "cell_type": "code",
   "execution_count": null,
   "metadata": {
    "hidden": true
   },
   "outputs": [],
   "source": [
    "// write your code here "
   ]
  },
  {
   "cell_type": "markdown",
   "metadata": {
    "hidden": true,
    "solution2": "hidden",
    "solution2_first": true
   },
   "source": [
    "* Using the `ALL_STOCKS` list of series, calculate the correlation of each series in `ALL_STOCKS` with every other series"
   ]
  },
  {
   "cell_type": "code",
   "execution_count": null,
   "metadata": {
    "hidden": true,
    "solution2": "hidden"
   },
   "outputs": [],
   "source": [
    "ALL_STOCKS cor/:\\: ALL_STOCKS   "
   ]
  },
  {
   "cell_type": "code",
   "execution_count": null,
   "metadata": {
    "hidden": true
   },
   "outputs": [],
   "source": [
    "// write your code here "
   ]
  },
  {
   "cell_type": "markdown",
   "metadata": {
    "heading_collapsed": true
   },
   "source": [
    "## Iterating Custom Functions"
   ]
  },
  {
   "cell_type": "markdown",
   "metadata": {
    "hidden": true,
    "solution2": "hidden",
    "solution2_first": true
   },
   "source": [
    "* Using `each both (')` write a function, `combineStringLists` that combines two corresponding strings from 2 equal length lists of strings. \n",
    "  For example \n",
    "        \n",
    "        combineStringLists[(\"This is \" ;\"Next is \";\"Last is \");(\"line 1\";\"line 2\";\"line 3\")]\n",
    "        \n",
    "        gives\n",
    "        \n",
    "        \"This is line 1\"\n",
    "        \"Next is line 2\"\n",
    "        \"Last is line 3\"\n"
   ]
  },
  {
   "cell_type": "code",
   "execution_count": null,
   "metadata": {
    "hidden": true,
    "solution2": "hidden"
   },
   "outputs": [],
   "source": [
    "combineStringLists:{x,'y}"
   ]
  },
  {
   "cell_type": "code",
   "execution_count": null,
   "metadata": {
    "hidden": true
   },
   "outputs": [],
   "source": [
    "// write your code here "
   ]
  },
  {
   "cell_type": "code",
   "execution_count": null,
   "metadata": {
    "hidden": true
   },
   "outputs": [],
   "source": [
    "combineStringLists[(\"This is \" ;\"Next is \";\"Last is \");(\"line 1\";\"line 2\";\"line 3\")]   // Test your code!"
   ]
  },
  {
   "cell_type": "markdown",
   "metadata": {
    "hidden": true,
    "solution2": "hidden",
    "solution2_first": true
   },
   "source": [
    "* Use `each right` write a function, `prefixingAString` which joins a given string to the front of a given list of strings. For   example\n",
    "\n",
    "        prefixingAString[\"This is \" ;(\"line 1\";\"line 2\";\"line 3\")]\n",
    "        \n",
    "        gives\n",
    "        \n",
    "        \"This is line 1\"\n",
    "        \"This is line 2\"\n",
    "        \"This is line 3\""
   ]
  },
  {
   "cell_type": "code",
   "execution_count": null,
   "metadata": {
    "hidden": true,
    "solution2": "hidden"
   },
   "outputs": [],
   "source": [
    "prefixingAString:{x,/:y}"
   ]
  },
  {
   "cell_type": "code",
   "execution_count": null,
   "metadata": {
    "hidden": true
   },
   "outputs": [],
   "source": [
    "// write your code here "
   ]
  },
  {
   "cell_type": "code",
   "execution_count": null,
   "metadata": {
    "hidden": true
   },
   "outputs": [],
   "source": [
    "prefixingAString[\"This is \" ;(\"line 1\";\"line 2\";\"line 3\")]    // Test your code!"
   ]
  },
  {
   "cell_type": "markdown",
   "metadata": {
    "hidden": true,
    "solution2": "hidden",
    "solution2_first": true
   },
   "source": [
    "* Write a function, `characterDrop` , using `each left` that will drop a given character from each string in a list of strings. For example \n",
    "\n",
    "        characterDrop[(\"On!e\";\"TwKo\";\"Thrree\";\"Fo*ur\"); 2]\n",
    "        \n",
    "        gives\n",
    "        \n",
    "        \"One\"\n",
    "        \"Two\"\n",
    "        \"Three\"\n",
    "        \"Four\""
   ]
  },
  {
   "cell_type": "code",
   "execution_count": null,
   "metadata": {
    "hidden": true,
    "solution2": "hidden"
   },
   "outputs": [],
   "source": [
    "characterDrop:{x _\\: y}"
   ]
  },
  {
   "cell_type": "code",
   "execution_count": null,
   "metadata": {
    "hidden": true
   },
   "outputs": [],
   "source": [
    "// write your code here "
   ]
  },
  {
   "cell_type": "code",
   "execution_count": null,
   "metadata": {
    "hidden": true
   },
   "outputs": [],
   "source": [
    "characterDrop[(\"On!e\";\"TwKo\";\"Thrree\";\"Fo*ur\"); 2]    // Test you code!"
   ]
  }
 ],
 "metadata": {
  "kernelspec": {
   "display_name": "Q (kdb+)",
   "language": "q",
   "name": "qpk"
  },
  "language_info": {
   "file_extension": ".q",
   "mimetype": "text/x-q",
   "name": "q",
   "version": "3.6.0"
  },
  "toc": {
   "base_numbering": 1,
   "nav_menu": {},
   "number_sections": true,
   "sideBar": true,
   "skip_h1_title": false,
   "title_cell": "Table of Contents",
   "title_sidebar": "Contents",
   "toc_cell": false,
   "toc_position": {},
   "toc_section_display": true,
   "toc_window_display": false
  }
 },
 "nbformat": 4,
 "nbformat_minor": 2
}
