{
 "cells": [
  {
   "cell_type": "markdown",
   "metadata": {},
   "source": [
    "<img src=\"../qbies.png\" style=\"width: 100px;padding-right:5px;padding-top:1px;padding-left:5px;\" align=\"left\"/>\n",
    " <p style=\"padding-left:125px;padding-top: 30px\";><font size=\"+2\"><b> Practical Guidance - Iterators</b></font><p>"
   ]
  },
  {
   "cell_type": "markdown",
   "metadata": {
    "heading_collapsed": true
   },
   "source": [
    "## Accumulating Iterators - Advanced Topic"
   ]
  },
  {
   "cell_type": "markdown",
   "metadata": {
    "hidden": true
   },
   "source": [
    "[Accumulation](https://code.kx.com/q/ref/accumulators/) iterators execute repeatedly over the values returned from calling the modified function. \n"
   ]
  },
  {
   "cell_type": "markdown",
   "metadata": {
    "hidden": true
   },
   "source": [
    "There are two accumulator iterations in kdb+/q, both of which operate in the exact same fashion, excepting their return value. These functions are: \n",
    "* Scan (`\\`) \n",
    "* Over (`/`)\n",
    "\n",
    "The difference between the two is that when scan (`\\`) returns the intermediate values associated with each execution, while over (`/`) returns just the final value. Over requires less memory. \n",
    "\n",
    "\n",
    "**These iterators aren't part of the curriculum for the Kx Fundamentals course and are instead introduced in the Kx Advanced course, the below serves as an introduction for the eager attendee.**\n"
   ]
  },
  {
   "cell_type": "markdown",
   "metadata": {
    "heading_collapsed": true,
    "hidden": true
   },
   "source": [
    "### Scan\n",
    "\n",
    "The iterator scan, denoted by `\\` (backslash) or the reserved word `scan`, has many behaviours, one of which is to  modify a dyadic or monadic function.\n",
    "\n",
    "When scan acts upon a dyadic function, it creates a uniform monadic function. In mathematical notation, the output of a scan function is as follows:\n",
    "\\begin{align}\n",
    "y_0=x_0 \n",
    ",y_n=f(y_{n-1};x_n)\n",
    "\\end{align}\n",
    "\n",
    "Where $x_n$ is the $n^{th}$ element of the input list, $y_n$ is the $n^{th}$ element of the returned output list, and $f$ is our function. "
   ]
  },
  {
   "cell_type": "markdown",
   "metadata": {
    "hidden": true
   },
   "source": [
    "Examples are perhaps the most illustrative: "
   ]
  },
  {
   "cell_type": "code",
   "execution_count": 7,
   "metadata": {
    "hidden": true
   },
   "outputs": [
    {
     "data": {
      "text/plain": [
       "1 3 6 10 15\n"
      ]
     },
     "execution_count": 7,
     "metadata": {},
     "output_type": "execute_result"
    }
   ],
   "source": [
    "(+\\)1 2 3 4 5                       //solution is (1) (1)+2 (1+2)+3 (1+2+3)+4 (1+2+3+4)+5"
   ]
  },
  {
   "cell_type": "markdown",
   "metadata": {
    "hidden": true
   },
   "source": [
    "Lets break down each step of how we produce our output: \n",
    "> 1. We start our return with the first item of our input `1`. \n",
    "* After this we apply `+` with inputs `+[1;2]` to return `3`. \n",
    "*  Next, use our previous return `3`as the first input and `3` as the second input to evaluate `+[3;3]` as `6`\n",
    "* Next, use our previous return `6` as the first input and `4` as the second input to evaluate `+[6;4]` as `10`\n",
    "* Finally, use our previous return `10` as the first input and `5` as the second input to evaluate `+[10;5]` as `15`\n",
    "\n",
    "If we wanted to use the keyword `scan` instead we use the below syntax."
   ]
  },
  {
   "cell_type": "code",
   "execution_count": 8,
   "metadata": {
    "hidden": true
   },
   "outputs": [
    {
     "data": {
      "text/plain": [
       "1 3 6 10 15\n"
      ]
     },
     "execution_count": 8,
     "metadata": {},
     "output_type": "execute_result"
    }
   ],
   "source": [
    "(+) scan 1 2 3 4 5                  //note that this is the same as sums"
   ]
  },
  {
   "cell_type": "markdown",
   "metadata": {
    "hidden": true
   },
   "source": [
    "Again, this consecutive summing is such a popular operation that there is a keyword dedicated to it - [`sums`](https://code.kx.com/q/ref/sum/). "
   ]
  },
  {
   "cell_type": "code",
   "execution_count": 9,
   "metadata": {
    "hidden": true
   },
   "outputs": [
    {
     "data": {
      "text/plain": [
       "1 3 6 10 15\n"
      ]
     },
     "execution_count": 9,
     "metadata": {},
     "output_type": "execute_result"
    },
    {
     "data": {
      "text/plain": [
       "+\\\n"
      ]
     },
     "execution_count": 9,
     "metadata": {},
     "output_type": "execute_result"
    }
   ],
   "source": [
    "sums 1 2 3 4 5 \n",
    "sums                                //we can see the definition of sums"
   ]
  },
  {
   "cell_type": "markdown",
   "metadata": {
    "hidden": true
   },
   "source": [
    "If we wanted to append one element of a list to the next to a list in each iteration, we can do so using scan: "
   ]
  },
  {
   "cell_type": "code",
   "execution_count": 10,
   "metadata": {
    "hidden": true
   },
   "outputs": [
    {
     "data": {
      "text/plain": [
       ",1\n",
       "1 2\n",
       "1 2 3\n",
       "1 2 3 4\n",
       "1 2 3 4 5\n"
      ]
     },
     "execution_count": 10,
     "metadata": {},
     "output_type": "execute_result"
    }
   ],
   "source": [
    "(,\\)(1 +til 5)"
   ]
  },
  {
   "cell_type": "markdown",
   "metadata": {
    "heading_collapsed": true,
    "hidden": true
   },
   "source": [
    "###### Worked Example \n",
    "\n",
    "This iterator isn't solely reserved for use with inbuilt function, it can also be applied to our functions. \n",
    "\n",
    "Lets work through an example of compounding interest on money in a savings account:\n",
    "\n",
    "**Given**: savings account balance, interest rate\n",
    "\n",
    "**Find**: a function that will tell us our yearly return"
   ]
  },
  {
   "cell_type": "code",
   "execution_count": 11,
   "metadata": {
    "hidden": true
   },
   "outputs": [
    {
     "data": {
      "text/plain": [
       "10120f\n"
      ]
     },
     "execution_count": 11,
     "metadata": {},
     "output_type": "execute_result"
    }
   ],
   "source": [
    "yearlyReturn:{[savingsBalance;interest] rate: 1+0.01*interest;  //multiplying is a \"cheaper\" operation than division\n",
    "                        savingsBalance*rate}  \n",
    "yearlyReturn[10000;1.2]   //account balance at the end of one year with the at 1.2% savings interest rate "
   ]
  },
  {
   "cell_type": "markdown",
   "metadata": {
    "hidden": true
   },
   "source": [
    "Let's start with an estimation of the next few years interest rates, and for comparison purposes lets have a look at the S&P annual change over the last five years: "
   ]
  },
  {
   "cell_type": "code",
   "execution_count": 12,
   "metadata": {
    "hidden": true
   },
   "outputs": [],
   "source": [
    "interestRates: 1 1 1.25 2 1.6 1.5            //2016, 2017, 2018, 2019, 2020 YTD per Ally bank - https://www.consumerismcommentary.com/rates/\n",
    "last5yearsSnP: 9.54 19.42 -6.24 28.88 -5.77  //2016, 2017, 2018, 2019, 2020 YTD - https://www.macrotrends.net/2526/sp-500-historical-annual-returns"
   ]
  },
  {
   "cell_type": "markdown",
   "metadata": {
    "hidden": true
   },
   "source": [
    "We can calculate the compounding interest on this by providing a starting account balance and then supplying the subsequent rates:"
   ]
  },
  {
   "cell_type": "code",
   "execution_count": 13,
   "metadata": {
    "hidden": true
   },
   "outputs": [
    {
     "data": {
      "text/plain": [
       "10000 10100 10201 10328.51 10535.08 10703.64 10864.2\n"
      ]
     },
     "execution_count": 13,
     "metadata": {},
     "output_type": "execute_result"
    },
    {
     "data": {
      "text/plain": [
       "10000 10954 13081.27 12265 15807.13 14895.06\n"
      ]
     },
     "execution_count": 13,
     "metadata": {},
     "output_type": "execute_result"
    }
   ],
   "source": [
    "(yearlyReturn\\) 10000f,interestRates   //compounding at saving rate over last 5 years\n",
    "(yearlyReturn\\) 10000f,last5yearsSnP   //compounding at S&P return over last 5 years"
   ]
  },
  {
   "cell_type": "markdown",
   "metadata": {
    "hidden": true
   },
   "source": [
    "Compounding is important because we see at the end we have quite a big difference!"
   ]
  },
  {
   "cell_type": "markdown",
   "metadata": {
    "heading_collapsed": true,
    "hidden": true
   },
   "source": [
    "### Over\n",
    "\n",
    "The adverb `over`, denoted by `/` (forward slash) or the reserved word `over`, operates in the same way as scan, but `over` only returns the **last item** that `scan` produces. "
   ]
  },
  {
   "cell_type": "code",
   "execution_count": 14,
   "metadata": {
    "hidden": true
   },
   "outputs": [
    {
     "data": {
      "text/plain": [
       "15\n"
      ]
     },
     "execution_count": 14,
     "metadata": {},
     "output_type": "execute_result"
    },
    {
     "data": {
      "text/plain": [
       "15\n"
      ]
     },
     "execution_count": 14,
     "metadata": {},
     "output_type": "execute_result"
    }
   ],
   "source": [
    "(+/)1 2 3 4 5\n",
    "(+) over 1 2 3 4 5"
   ]
  },
  {
   "cell_type": "code",
   "execution_count": 15,
   "metadata": {
    "hidden": true
   },
   "outputs": [
    {
     "data": {
      "text/plain": [
       "15\n"
      ]
     },
     "execution_count": 15,
     "metadata": {},
     "output_type": "execute_result"
    },
    {
     "data": {
      "text/plain": [
       "1 2 3 4 5\n"
      ]
     },
     "execution_count": 15,
     "metadata": {},
     "output_type": "execute_result"
    }
   ],
   "source": [
    "sum 1 2 3 4 5\n",
    "(,) over (1 +til 5)"
   ]
  },
  {
   "cell_type": "code",
   "execution_count": 16,
   "metadata": {
    "hidden": true
   },
   "outputs": [
    {
     "data": {
      "text/plain": [
       "10864.2\n"
      ]
     },
     "execution_count": 16,
     "metadata": {},
     "output_type": "execute_result"
    },
    {
     "data": {
      "text/plain": [
       "14895.06\n"
      ]
     },
     "execution_count": 16,
     "metadata": {},
     "output_type": "execute_result"
    }
   ],
   "source": [
    "(yearlyReturn/)[10000f;interestRates]\n",
    "(yearlyReturn/)[10000f;last5yearsSnP]"
   ]
  },
  {
   "cell_type": "markdown",
   "metadata": {
    "hidden": true
   },
   "source": [
    "<img src=\"../qbies.png\" style=\"width: 50px;padding-right:5px;padding-top:5px;padding-left:5px;\" align=\"left\"/>\n",
    "\n",
    "<p style='color:#273a6e'><i> If puzzled by the result of using <code>over</code>, try replacing it with <code>scan</code> and examining the intermediate results!</i></p>"
   ]
  },
  {
   "cell_type": "markdown",
   "metadata": {
    "heading_collapsed": true
   },
   "source": [
    "## Iterators versus Loops (do and while)"
   ]
  },
  {
   "cell_type": "markdown",
   "metadata": {
    "hidden": true
   },
   "source": [
    "The control words [`do`](https://code.kx.com/q/ref/do/) and [`while`](https://code.kx.com/q/ref/while/) allow q programmers to write explicit loops. However loops/iteration can almost always be defined using iterators, yielding code that is shorter, faster and less prone to error.\n",
    "\n",
    "Often the implementation is relatively easy, using Each, Each Left and Each Right to cycle through a list and amend its items.\n",
    "\n",
    "Suppose we wanted to check if either of the integers 2 or 3 are present in some lists. This can be achieved with a while loop."
   ]
  },
  {
   "cell_type": "code",
   "execution_count": 17,
   "metadata": {
    "hidden": true
   },
   "outputs": [
    {
     "name": "stdout",
     "output_type": "stream",
     "text": [
      "1 2 3\n",
      "3 4 5\n",
      "4 5 6\n"
     ]
    },
    {
     "data": {
      "text/plain": [
       "110b\n"
      ]
     },
     "execution_count": 17,
     "metadata": {},
     "output_type": "execute_result"
    },
    {
     "data": {
      "text/plain": [
       "284\n"
      ]
     },
     "execution_count": 17,
     "metadata": {},
     "output_type": "execute_result"
    }
   ],
   "source": [
    "show m:(1 2 3;3 4 5;4 5 6)   / three lists\n",
    "{i:0;a:();while[i<count x;a,:enlist any 2 3 in x[i];i+:1];a} m\n",
    "\\t:100000 {i:0;a:();while[i<count x;a,:enlist any 2 3 in x[i];i+:1];a} m"
   ]
  },
  {
   "cell_type": "markdown",
   "metadata": {
    "hidden": true
   },
   "source": [
    "However, iterators allow neater, more efficient code; easier to read and cheaper to maintain."
   ]
  },
  {
   "cell_type": "code",
   "execution_count": 18,
   "metadata": {
    "hidden": true
   },
   "outputs": [
    {
     "data": {
      "text/plain": [
       "110b\n"
      ]
     },
     "execution_count": 18,
     "metadata": {},
     "output_type": "execute_result"
    }
   ],
   "source": [
    "any each 2 3 in/: m"
   ]
  },
  {
   "cell_type": "code",
   "execution_count": 19,
   "metadata": {
    "hidden": true
   },
   "outputs": [
    {
     "data": {
      "text/plain": [
       "178\n"
      ]
     },
     "execution_count": 19,
     "metadata": {},
     "output_type": "execute_result"
    }
   ],
   "source": [
    "\\t:100000 any each 2 3 in/: m"
   ]
  },
  {
   "cell_type": "markdown",
   "metadata": {
    "hidden": true
   },
   "source": [
    "Similarly we can use the Over iterator to deal easily with situations which would be handled by loops in C-like languages.\n",
    "\n",
    "Suppose you wanted to join several tables."
   ]
  },
  {
   "cell_type": "code",
   "execution_count": 36,
   "metadata": {
    "hidden": true
   },
   "outputs": [
    {
     "name": "stdout",
     "output_type": "stream",
     "text": [
      "(+(,`sym)!,`a`b`c)!+`pr0`vol0!(31.65205 28.76346 0.4505872;24 51 58)\n",
      "(+(,`sym)!,`a`b`c)!+`pr1`vol1!(5.876775 46.17193 20.07968;91 44 15)\n",
      "(+(,`sym)!,`a`b`c)!+`pr2`vol2!(10.43307 49.53558 28.97401;82 90 66)\n",
      "(+(,`sym)!,`a`b`c)!+`pr3`vol3!(29.94584 2.440864 45.03495;93 5 58)\n"
     ]
    }
   ],
   "source": [
    "//Create a list of tables, of random length\n",
    "show tt:{1!flip(`sym;`$\"pr\",x;`$\"vol\",x)!(`a`b`c;3?50.0;3?100)}each string til 2+rand 10"
   ]
  },
  {
   "cell_type": "code",
   "execution_count": 37,
   "metadata": {
    "hidden": true
   },
   "outputs": [
    {
     "data": {
      "text/plain": [
       "sym| pr0       vol0\n",
       "---| --------------\n",
       "a  | 31.65205  24  \n",
       "b  | 28.76346  51  \n",
       "c  | 0.4505872 58  \n"
      ]
     },
     "execution_count": 37,
     "metadata": {},
     "output_type": "execute_result"
    }
   ],
   "source": [
    "//one table \n",
    "tt[0] "
   ]
  },
  {
   "cell_type": "code",
   "execution_count": 38,
   "metadata": {
    "hidden": true
   },
   "outputs": [
    {
     "data": {
      "text/plain": [
       "sym pr0       vol0 pr1      vol1 pr2      vol2 pr3      vol3\n",
       "------------------------------------------------------------\n",
       "a   31.65205  24   5.876775 91   10.43307 82   29.94584 93  \n",
       "b   28.76346  51   46.17193 44   49.53558 90   2.440864 5   \n",
       "c   0.4505872 58   20.07968 15   28.97401 66   45.03495 58  \n"
      ]
     },
     "execution_count": 38,
     "metadata": {},
     "output_type": "execute_result"
    }
   ],
   "source": [
    "//Join the tables using a while loop\n",
    "{a:([]sym:`a`b`c);i:0;while[i<count[x];a:a lj x[i];i+:1];a}tt"
   ]
  },
  {
   "cell_type": "code",
   "execution_count": 39,
   "metadata": {
    "hidden": true
   },
   "outputs": [
    {
     "data": {
      "text/plain": [
       "sym pr0       vol0 pr1      vol1 pr2      vol2 pr3      vol3\n",
       "------------------------------------------------------------\n",
       "a   31.65205  24   5.876775 91   10.43307 82   29.94584 93  \n",
       "b   28.76346  51   46.17193 44   49.53558 90   2.440864 5   \n",
       "c   0.4505872 58   20.07968 15   28.97401 66   45.03495 58  \n"
      ]
     },
     "execution_count": 39,
     "metadata": {},
     "output_type": "execute_result"
    }
   ],
   "source": [
    "//Join the tables using Over\n",
    "0!(lj/)tt\n",
    "\\c 200 100 "
   ]
  },
  {
   "cell_type": "markdown",
   "metadata": {
    "hidden": true
   },
   "source": [
    "<img src=\"../qbies.png\" style=\"width: 50px;padding-right:5px;padding-top:5px;padding-left:5px;\" align=\"left\"/>\n",
    "\n",
    "<p style='color:#273a6e'><i> Write loops only when you can find no solution using iterators.</i></p>"
   ]
  },
  {
   "cell_type": "markdown",
   "metadata": {
    "heading_collapsed": true
   },
   "source": [
    "## Combining iterators"
   ]
  },
  {
   "cell_type": "markdown",
   "metadata": {
    "hidden": true
   },
   "source": [
    "We can calculate [Pascal’s Triangle](https://en.wikipedia.org/wiki/Pascal%27s_triangle) using Scan and Each Prior.\n",
    "\n",
    "We already have a sufficient grasp of the accumulators to see the Triangle immediately as successive results from some use of Scan. We need only a function to define one row of the Triangle in terms of the row above it. That could hardly be simpler. Each row is derived from its parent by summing adjacent pairs of items.\n",
    "\n"
   ]
  },
  {
   "cell_type": "code",
   "execution_count": 6,
   "metadata": {
    "hidden": true
   },
   "outputs": [
    {
     "data": {
      "text/plain": [
       "1\n",
       "1 1\n",
       "1 2 1\n",
       "1 3 3 1\n",
       "1 4 6 4 1\n",
       "1 5 10 10 5 1\n",
       "1 6 15 20 15 6 1\n",
       "1 7 21 35 35 21 7 1\n"
      ]
     },
     "execution_count": 6,
     "metadata": {},
     "output_type": "execute_result"
    }
   ],
   "source": [
    "7 {(+)prior x,0}\\ 1"
   ]
  },
  {
   "cell_type": "markdown",
   "metadata": {
    "hidden": true
   },
   "source": [
    "Notice that the last expression gave us eight rows of the Triangle, not seven. The first item of the result was the original argument, followed by the results of seven successive evaluations.\n",
    "\n",
    "If the left argument of the derived function is zero, there will be no evaluations. The original argument will still be returned as the first (and only) item of the result. It doesn’t even have to be in the domain of the value."
   ]
  }
 ],
 "metadata": {
  "kernelspec": {
   "display_name": "Q (kdb+)",
   "language": "q",
   "name": "qpk"
  },
  "language_info": {
   "file_extension": ".q",
   "mimetype": "text/x-q",
   "name": "q",
   "version": "3.6.0"
  },
  "toc": {
   "base_numbering": 1,
   "nav_menu": {},
   "number_sections": true,
   "sideBar": true,
   "skip_h1_title": false,
   "title_cell": "Table of Contents",
   "title_sidebar": "Contents",
   "toc_cell": false,
   "toc_position": {
    "height": "calc(100% - 180px)",
    "left": "10px",
    "top": "150px",
    "width": "384px"
   },
   "toc_section_display": true,
   "toc_window_display": true
  }
 },
 "nbformat": 4,
 "nbformat_minor": 4
}
