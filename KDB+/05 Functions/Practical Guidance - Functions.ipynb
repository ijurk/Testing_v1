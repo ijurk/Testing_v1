{
 "cells": [
  {
   "cell_type": "markdown",
   "metadata": {},
   "source": [
    "<img src=\"../qbies.png\" style=\"width: 100px;padding-right:5px;padding-top:1px;padding-left:5px;\" align=\"left\"/>\n",
    "\n",
    "<p style=\"padding-left:125px;padding-top: 30px\";><font size=\"+2\"><b> Practical Guidance - Functions\n",
    "    </b></font><p>"
   ]
  },
  {
   "cell_type": "markdown",
   "metadata": {
    "heading_collapsed": true
   },
   "source": [
    "# Coding Guidelines \n",
    "There are a few coding guidelines governing the structure we recommend in a lambda function and these are laid out in this section."
   ]
  },
  {
   "cell_type": "markdown",
   "metadata": {
    "heading_collapsed": true,
    "hidden": true
   },
   "source": [
    "## Function Names, Variables & Arguments\n",
    "It is good practice to use descriptive names for functions/variables/arguments to make our code clearer for the reader. \n",
    "\n"
   ]
  },
  {
   "cell_type": "markdown",
   "metadata": {
    "hidden": true
   },
   "source": [
    "Use the **lowerCamel** naming convention for function names, arguments & variables. This means that a variable with one word in it (e.g. price) is written price, whereas a word with two or more words is written by capitalizing the second and subsequent words e.g. \n",
    "* size is written **size** \n",
    "* last price is written **lastPrice** \n",
    "* last fill size is written **lastFillSize**. \n",
    "\n",
    "\n",
    "This makes it easier to read than lastfillsize.\n",
    "\n",
    "You also have license to remove some letters in a variable, provided the word is still easily understood and there is no ambiguity. \n",
    "Some examples:\n",
    "\n",
    "| Meaning     |    Bad Examples  |    Good Examples           |\n",
    "|:---|:---|:---|\n",
    "|\"price\"     |    p         | price               \n",
    "|\"price\"           |    Price        | px  (common abbreviation in Finance)      \n",
    "|\"size\"       |   s          | size               \n",
    "|\"size\"      |   Size        |sz  (common abbreviation in Finance) \n",
    "|\"last price\"  |  lp   | lastPrice   \n",
    "| \"last price\" |  LastPrice   |  lastpx \n",
    "|\"get last size\" |glz            | getLastSize \n",
    "| \"get last size\"|            | getLastSz \n",
    "|\"ensure string\"| ensurestring| ensureString \n",
    "|\"ensure string\"| es| ensureStr (str is usually understood as string)"
   ]
  },
  {
   "cell_type": "markdown",
   "metadata": {
    "heading_collapsed": true,
    "hidden": true
   },
   "source": [
    "## Layout\n",
    "\n",
    "A function should be written in a clear, logical fashion so that it is easy for somebody else to read. Well-named functions, variables and arguments are the first part of this. "
   ]
  },
  {
   "cell_type": "markdown",
   "metadata": {
    "hidden": true
   },
   "source": [
    "Here are some other general conventions that should be followed when writing functions:\n",
    "\n",
    "* **Explicit Argument Declaration**: x,y and z are great, as we all know, and if we have a very short function in which it is blatantly obvious what x,y and z are then it is ok to not declare them. If, on the other hand there is any room for ambiguity then the argument(s) should probably be declared.\n",
    "\n",
    "* **Don't do too much on one line**: If you find that a line has 2, 3 or 4 levels of bracket nesting, breaking it up into intermediary steps can often make it easier to read.\n",
    "\n",
    "* **Use indenting for \"if\"s**: This makes it easier to tell where the if starts and ends\n",
    "\n",
    "* **Comments**: Use comments to provide extra information to the reader that might not be clear from reading the code\n",
    "\n",
    "* **Avoid Hard Coding**: Always use global variables for configuration as opposed to hard coding them into the function. This allows the developer to easily see the variables at the top of the file, and allows you to alter the variables while the process is running without having to redefine the function.\n",
    "\n",
    "* **Don't use `:` to return at the end**: This is a matter of style preference, and for consistency we all follow this rule. You should only use `:` to return EARLY from a function. You don't need one in the last expression unless it is at the end of an if\n",
    "\n",
    "Let's take the following function as an example:"
   ]
  },
  {
   "cell_type": "code",
   "execution_count": 1,
   "metadata": {
    "hidden": true
   },
   "outputs": [],
   "source": [
    "getPrevailingQuote:{\n",
    "   if[not x in `JPM`GE`MSFT;'\"Invalid sym \",string x];\n",
    "   aj[`sym`time;select from Quote where sym=x;update`g#sym from select from Trade where sym=x,time within 09:30 16:00]}  "
   ]
  },
  {
   "cell_type": "markdown",
   "metadata": {
    "hidden": true
   },
   "source": [
    "It has the following flaws:\n",
    "\n",
    "* *Not immediately clear how many arguments the function takes, and what they represent* - namely using implicit variables for a big function should be avoided, instead we should use explicit definition. If in doubt, be explicit.\n",
    "\n",
    "* *Hard codes filters - we've hard-coded the time range we're looking at to be 09:30-16:00*. Instead, we should either pass these as parameters or use global variables.\n",
    "\n",
    "* *Difficult to read - the code is all squashed together on the same line*. Ideally we should indent for new parameters where appropriate, or define in local scope and use subsequently for long expressions.\n",
    "\n",
    "* *Not much room for comments, and also no comments included!* Where assumptions are made, or code is less clear we should comment.\n",
    "\n",
    "* *Difficult to debug due to lack of intermediary steps.* By splitting the function into smaller more discrete steps we can debug more easily.\n",
    "\n",
    "Now if we take the following example:"
   ]
  },
  {
   "cell_type": "code",
   "execution_count": 2,
   "metadata": {
    "hidden": true
   },
   "outputs": [],
   "source": [
    ".cfg.VALID_SYMS:`JPM`GE`MSFT;\n",
    ".cfg.MARKET_HOURS:09:30 16:00;\n",
    "\n",
    "getPrevailingQuote:{[s] \n",
    " if[not s in .cfg.VALID_SYMS;\n",
    "   '\"Invalid sym \",string s];\n",
    " quotes:select from Quote where sym=s;\n",
    " trades:select from Trade where sym=s,time within .cfg.MARKET_HOURS;  // exclude trades outside of market hours\n",
    " aj[`sym`time;trades;update`g#sym from quotes]                        // `g# improves performance\n",
    " }"
   ]
  },
  {
   "cell_type": "markdown",
   "metadata": {
    "hidden": true
   },
   "source": [
    "We can see that it is easier to read for somebody who hasn't seen it before, and will be easier to debug and maintain."
   ]
  },
  {
   "cell_type": "markdown",
   "metadata": {
    "hidden": true
   },
   "source": [
    "<img src=\"../qbies.png\" style=\"width: 50px;padding-right:5px;padding-top:10px;padding-left:5px;\" align=\"left\"/>\n",
    "\n",
    "<p style='color:#273a6e'><i>In a q script, the closing bracket of a function/lambda <b>must be</b> at least one space away from the margin, otherwise the script will error. This is one of the rare cases where kdb+/q requires whitespace! </i></p>"
   ]
  },
  {
   "cell_type": "code",
   "execution_count": 2,
   "metadata": {
    "hidden": true
   },
   "outputs": [
    {
     "ename": "\u001b[0;31mparse error\u001b[0m",
     "evalue": "\u001b[0;31m{\u001b[0m",
     "output_type": "error",
     "traceback": [
      "\u001b[0;31mparse error\u001b[0m",
      "\u001b[0;31m{\u001b[0m"
     ]
    }
   ],
   "source": [
    "/ – Fails to load! \n",
    "getTrades:{[s]\n",
    " select from Trade where sym=s\n",
    "}"
   ]
  },
  {
   "cell_type": "code",
   "execution_count": 3,
   "metadata": {
    "hidden": true
   },
   "outputs": [],
   "source": [
    "/ – Works! \n",
    "getTrades:{[s]\n",
    " select from Trade where sym=s\n",
    " }       // Closing bracket must be off the margin"
   ]
  },
  {
   "cell_type": "markdown",
   "metadata": {},
   "source": [
    "# Advice for writing functions"
   ]
  },
  {
   "cell_type": "markdown",
   "metadata": {},
   "source": [
    "## Getting started "
   ]
  },
  {
   "cell_type": "markdown",
   "metadata": {},
   "source": [
    "##### Define the Requirements\n",
    "\n",
    "The best place to start is to fully define the requirements for the function: \n",
    "* What input is this expected to take? - consider behaviour with both atoms and lists\n",
    "* Is this input likely to change/grow? (see **Function Parameters >8** for more discussion on this)\n",
    "* Are there any \"default\" parameters? (see **Function Parameters >8** for more discussion on this)\n",
    "* What edge cases are there to that input? (if any) \n",
    "* What behaviour is expected/required on unexpected input?\n",
    "* Where will this function run? \n",
    "    * This helps determine if logging is required e.g. in a function for data loading we should include logging to help debug, however, if it is running in a latency sensitive environment we probably won't include logging.\n",
    "    * This also helps to determine if there are any performance requirements for the function \n",
    "* What output is required/expected?\n"
   ]
  },
  {
   "cell_type": "markdown",
   "metadata": {},
   "source": [
    "##### Start with pseudocode \n",
    "Once you have the requirements defined, it then becomes a case of sketching out the pseudocode for the problem. Consider the following: \n",
    "* What data do I need for each step? \n",
    "* What is the most efficient way of performing the operations to consistently reduce the data/timing load etc? \n",
    "* Do I have all cases accounted for? \n",
    "* Is my output consistent?"
   ]
  },
  {
   "cell_type": "markdown",
   "metadata": {},
   "source": [
    "##### Define the code tests (Test driven development) \n",
    "\n",
    "Test all known requirements "
   ]
  },
  {
   "cell_type": "markdown",
   "metadata": {},
   "source": [
    "##### Write the code!"
   ]
  },
  {
   "cell_type": "markdown",
   "metadata": {},
   "source": [
    "##### TEST \n",
    "Many institutions have their own internal testing frameworks, methodologies etc. If you're not working within an already existing framework and aren't keen to write your own, Kx provides a free unit-testing library called [qcumber](https://code.kx.com/developer/qcumber/), that offers assertion based testing, benchmarking capabilities, and property based testing. This is available for download and use [here](https://code.kx.com/developer/libraries-scripts/)."
   ]
  },
  {
   "cell_type": "markdown",
   "metadata": {},
   "source": [
    "Iterate between all of these until complete "
   ]
  },
  {
   "cell_type": "markdown",
   "metadata": {
    "heading_collapsed": true
   },
   "source": [
    "## Worked Example "
   ]
  },
  {
   "cell_type": "markdown",
   "metadata": {
    "hidden": true
   },
   "source": [
    "        Request:*Write a function that returns a null type of whatever is passed*\n",
    "\n",
    "Requirements:\n",
    "* Expected input - not specified so must be able to cope with both atoms and lists \n",
    "* Edge Cases: \n",
    "    * Null types don't exist for Booleans and Bytes - what is expected behaviour here? \n",
    "    * What is expected behaviour with General Lists? \n",
    "    * All other types e.g. functions tables etc. \n",
    "\n",
    "Responses to initial queries: \n",
    "* General lists - this should throw an error '\"No stinking General Lists!\" \n",
    "* Booleans,Bytes - write to stdErr \"This might be a bad idea... \" and return the equivalent 0 value \n",
    "* Other types - return an empty list. \n",
    "\n",
    "Pseudocoding: \n",
    "* Put all our exceptions first to avoid code errors: \n",
    "    1. Check the type of the input - account for both lists and atoms\n",
    "    * Check for input types > 19 (see [datatypes](https://code.kx.com/q/basics/datatypes/)) since returning an empty list is very lightweight, so for efficiency we should put that first. \n",
    "    * Check for input of a general lists - throw error  if so \n",
    "    * Check Boolean/Byte type - if so stderr warning and return the 0 value \n",
    "    * All else, return the null: \n",
    "        * Use the type of the input to cast the null long `0N`\n",
    "        * (Alternatively, could make this a list and index beyond the list to get a null of the same type - this would be handier if we *did* want to handle general lists by returning the type of the first input for example) \n",
    " \n",
    "\n",
    "Test cases: \n",
    "* Test with explicit edge cases Boolean, General Lists, types > 19\n",
    "* Test with other inputs e.g. Characters, symbols, times etc\n",
    "* Test with atoms and simple lists"
   ]
  },
  {
   "cell_type": "code",
   "execution_count": 4,
   "metadata": {
    "hidden": true
   },
   "outputs": [],
   "source": [
    "//Write the code! \n",
    "returnNull:{[input]  tp:abs type input;   //1. getting the abs type to account for lists \n",
    "                     if[tp > 19;          //2. checking for types > 19\n",
    "                         :()];            //early force return the empty list for non data based types\n",
    "                     if[0=tp;             //3. check if General list\n",
    "                         '\"No stinking General Lists!\"];\n",
    "                     if[tp in 1 4h;       //4. check if Boolean/Guid\n",
    "                         -2 \"This might be a bad idea ...\";\n",
    "                         :tp$0];          //return the 0 value equiv for booleans and guids\n",
    "                     tp$0N\n",
    "     } "
   ]
  },
  {
   "cell_type": "code",
   "execution_count": 5,
   "metadata": {
    "hidden": true
   },
   "outputs": [
    {
     "name": "stderr",
     "output_type": "stream",
     "text": [
      "This might be a bad idea ...\n"
     ]
    },
    {
     "data": {
      "text/plain": [
       "0b\n"
      ]
     },
     "execution_count": 5,
     "metadata": {},
     "output_type": "execute_result"
    }
   ],
   "source": [
    "//Test the code!\n",
    "returnNull 0b"
   ]
  },
  {
   "cell_type": "code",
   "execution_count": 5,
   "metadata": {
    "hidden": true
   },
   "outputs": [
    {
     "ename": "\u001b[0;31mNo stinking General Lists!\u001b[0m",
     "evalue": "\u001b[0;31mNo stinking General Lists!\u001b[0m",
     "output_type": "error",
     "traceback": [
      "\u001b[0;31mevaluation error:\n\u001b[0m",
      "\u001b[0;31mNo stinking General Lists!\u001b[0m",
      "\u001b[0;31m\u001b[0m",
      "\u001b[0;31m  [1]  returnNull:\n                     if[0=tp;             //3. check if General list\n                         '\"No stinking General Lists!\"];\n                         ^\n                     if[tp in 1 4h;       //4. check if Boolean/Guid\n\u001b[0m",
      "\u001b[0;31m  [0]  returnNull (0;`a)\n       ^\n\u001b[0m"
     ]
    }
   ],
   "source": [
    "returnNull (0;`a)"
   ]
  },
  {
   "cell_type": "code",
   "execution_count": 6,
   "metadata": {
    "hidden": true
   },
   "outputs": [
    {
     "data": {
      "text/plain": []
     },
     "execution_count": 6,
     "metadata": {},
     "output_type": "execute_result"
    }
   ],
   "source": [
    "returnNull {x+y} //returns empty list"
   ]
  },
  {
   "cell_type": "code",
   "execution_count": 7,
   "metadata": {
    "hidden": true
   },
   "outputs": [
    {
     "data": {
      "text/plain": [
       "0Ne\n"
      ]
     },
     "execution_count": 7,
     "metadata": {},
     "output_type": "execute_result"
    },
    {
     "data": {
      "text/plain": [
       "0Ne\n"
      ]
     },
     "execution_count": 7,
     "metadata": {},
     "output_type": "execute_result"
    }
   ],
   "source": [
    "returnNull 4e        //test atom \n",
    "returnNull 41 2 1e   //test list"
   ]
  },
  {
   "cell_type": "code",
   "execution_count": 8,
   "metadata": {
    "hidden": true
   },
   "outputs": [
    {
     "data": {
      "text/plain": [
       "\"\\000\"\n"
      ]
     },
     "execution_count": 8,
     "metadata": {},
     "output_type": "execute_result"
    }
   ],
   "source": [
    "returnNull \"this\"  //string "
   ]
  },
  {
   "cell_type": "code",
   "execution_count": 8,
   "metadata": {
    "hidden": true
   },
   "outputs": [
    {
     "ename": "\u001b[0;31mtype\u001b[0m",
     "evalue": "\u001b[0;31mtype\u001b[0m",
     "output_type": "error",
     "traceback": [
      "\u001b[0;31mevaluation error:\n\u001b[0m",
      "\u001b[0;31mtype\u001b[0m",
      "\u001b[0;31m\u001b[0m",
      "\u001b[0;31m  [1]  returnNull:\n                         :tp$0];          //return the 0 value equiv for booleans and guids\n                     tp$0N\n                       ^\n     }\n\u001b[0m",
      "\u001b[0;31m  [0]  returnNull 1?0Ng   //guid\n       ^\n\u001b[0m"
     ]
    }
   ],
   "source": [
    "returnNull 1?0Ng   //guid"
   ]
  },
  {
   "cell_type": "markdown",
   "metadata": {
    "hidden": true
   },
   "source": [
    "Looks like we caught two edge cases in testing! \n",
    "* Character input doesn't look quite right but didn't throw an error \n",
    "* GUIDs threw an error\n",
    "\n",
    "We now need to fix the output for these two types - there's nothing here that seems like we need to go back and ask about. "
   ]
  },
  {
   "cell_type": "code",
   "execution_count": 9,
   "metadata": {
    "hidden": true
   },
   "outputs": [],
   "source": [
    "//Write the code! \n",
    "returnNull:{[input]  tp:abs type input;   \n",
    "                     if[tp > 19;          \n",
    "                         :()];            \n",
    "                     if[0=tp;             \n",
    "                         '\"No stinking General Lists!\"];\n",
    "                     if[tp in 1 4h;       \n",
    "                         -2 \"This might be a bad idea ...\";\n",
    "                         :tp$0];\n",
    "                     $[tp = 10;\n",
    "                            \" \"; \n",
    "                         tp = 2; \n",
    "                            0Ng; \n",
    "                             tp$0N]                   \n",
    "     } "
   ]
  },
  {
   "cell_type": "code",
   "execution_count": 10,
   "metadata": {
    "hidden": true
   },
   "outputs": [
    {
     "name": "stderr",
     "output_type": "stream",
     "text": [
      "This might be a bad idea ...\n"
     ]
    },
    {
     "data": {
      "text/plain": [
       "0b\n"
      ]
     },
     "execution_count": 10,
     "metadata": {},
     "output_type": "execute_result"
    },
    {
     "data": {
      "text/plain": []
     },
     "execution_count": 10,
     "metadata": {},
     "output_type": "execute_result"
    },
    {
     "data": {
      "text/plain": [
       "0Ne\n"
      ]
     },
     "execution_count": 10,
     "metadata": {},
     "output_type": "execute_result"
    },
    {
     "data": {
      "text/plain": [
       "0Ne\n"
      ]
     },
     "execution_count": 10,
     "metadata": {},
     "output_type": "execute_result"
    },
    {
     "data": {
      "text/plain": [
       "00000000-0000-0000-0000-000000000000\n"
      ]
     },
     "execution_count": 10,
     "metadata": {},
     "output_type": "execute_result"
    },
    {
     "data": {
      "text/plain": [
       "\" \"\n"
      ]
     },
     "execution_count": 10,
     "metadata": {},
     "output_type": "execute_result"
    },
    {
     "data": {
      "text/plain": [
       "0Nv\n"
      ]
     },
     "execution_count": 10,
     "metadata": {},
     "output_type": "execute_result"
    }
   ],
   "source": [
    "//retest!\n",
    "returnNull 0b\n",
    "returnNull {x+y} \n",
    "returnNull 4e        \n",
    "returnNull 41 2 1e \n",
    "returnNull 1?0Ng\n",
    "returnNull \"this\"\n",
    "returnNull 09:00:00"
   ]
  },
  {
   "cell_type": "markdown",
   "metadata": {
    "hidden": true
   },
   "source": [
    "Great looks like we're code complete!\n",
    "\n",
    "For reference, a more general way to do this (if we didn't have specific error and standard error write requirements for particular input) would be the below: "
   ]
  },
  {
   "cell_type": "code",
   "execution_count": 11,
   "metadata": {
    "hidden": true
   },
   "outputs": [],
   "source": [
    "returnNull:{[input] ((),input)[0W]}  //making the input a list if not already and indexing beyond the domain"
   ]
  },
  {
   "cell_type": "code",
   "execution_count": 12,
   "metadata": {
    "hidden": true
   },
   "outputs": [
    {
     "data": {
      "text/plain": [
       "0b\n"
      ]
     },
     "execution_count": 12,
     "metadata": {},
     "output_type": "execute_result"
    },
    {
     "data": {
      "text/plain": [
       "0Ne\n"
      ]
     },
     "execution_count": 12,
     "metadata": {},
     "output_type": "execute_result"
    },
    {
     "data": {
      "text/plain": [
       "0Ne\n"
      ]
     },
     "execution_count": 12,
     "metadata": {},
     "output_type": "execute_result"
    },
    {
     "data": {
      "text/plain": [
       "00000000-0000-0000-0000-000000000000\n"
      ]
     },
     "execution_count": 12,
     "metadata": {},
     "output_type": "execute_result"
    },
    {
     "data": {
      "text/plain": [
       "\" \"\n"
      ]
     },
     "execution_count": 12,
     "metadata": {},
     "output_type": "execute_result"
    },
    {
     "data": {
      "text/plain": [
       "0Nv\n"
      ]
     },
     "execution_count": 12,
     "metadata": {},
     "output_type": "execute_result"
    }
   ],
   "source": [
    "returnNull 0b\n",
    "returnNull {x+y} \n",
    "returnNull 4e        \n",
    "returnNull 41 2 1e \n",
    "returnNull 1?0Ng\n",
    "returnNull \"this\"\n",
    "returnNull 09:00:00"
   ]
  },
  {
   "cell_type": "markdown",
   "metadata": {
    "heading_collapsed": true
   },
   "source": [
    "## Avoid scope clashes"
   ]
  },
  {
   "cell_type": "markdown",
   "metadata": {
    "hidden": true
   },
   "source": [
    "Avoid updating Global scope variables unless this is something you have to do (e.g. inserting data into a table). This means we should avoid the following syntaxes: \n",
    "* Global assignment using `::`\n",
    "* Using the keyword `set` \n",
    "* Amend in place/Amend by reference syntax - usually familiar to C developers e.g. `x+:1` - this updates a *global* `x`, not the `x` in the function scope! "
   ]
  },
  {
   "cell_type": "code",
   "execution_count": 13,
   "metadata": {
    "hidden": true
   },
   "outputs": [],
   "source": [
    "f:{GLOBAL_X::x} //avoid double colon assignment unless you know you want to do this! "
   ]
  },
  {
   "cell_type": "code",
   "execution_count": 14,
   "metadata": {
    "hidden": true
   },
   "outputs": [],
   "source": [
    "f:{`SETTING_GLOBAL set x} //again, setting a global"
   ]
  },
  {
   "cell_type": "code",
   "execution_count": 15,
   "metadata": {
    "hidden": true
   },
   "outputs": [
    {
     "data": {
      "text/plain": [
       "0\n"
      ]
     },
     "execution_count": 15,
     "metadata": {},
     "output_type": "execute_result"
    },
    {
     "data": {
      "text/plain": [
       "110\n"
      ]
     },
     "execution_count": 15,
     "metadata": {},
     "output_type": "execute_result"
    }
   ],
   "source": [
    "m:100\n",
    "myCount:{m:0;{m+:1} each x;m}   //this is insidious, just avoid this syntax until you're more familiar \n",
    "myCount[til 10]\n",
    "m"
   ]
  },
  {
   "cell_type": "code",
   "execution_count": 16,
   "metadata": {
    "hidden": true
   },
   "outputs": [
    {
     "data": {
      "text/plain": [
       "0\n"
      ]
     },
     "execution_count": 16,
     "metadata": {},
     "output_type": "execute_result"
    },
    {
     "data": {
      "text/plain": [
       "100\n"
      ]
     },
     "execution_count": 16,
     "metadata": {},
     "output_type": "execute_result"
    }
   ],
   "source": [
    "m:100\n",
    "myCount:{m:0;{[m]m:m+1} each x;m} //explicit parameter declaration and assignment\n",
    "myCount[til 10]\n",
    "m"
   ]
  },
  {
   "cell_type": "markdown",
   "metadata": {},
   "source": [
    "# Function Parameters >8 \n",
    "While kdb+/q limits the number of inputs to a function to 8, this isn't the restriction it first appears to be since we can pass arguments like lists or dictionaries. "
   ]
  },
  {
   "cell_type": "markdown",
   "metadata": {
    "heading_collapsed": true
   },
   "source": [
    "## Lists \n",
    "If we wanted to pass more arguments than 8 we can do so as a list: "
   ]
  },
  {
   "cell_type": "code",
   "execution_count": 17,
   "metadata": {
    "hidden": true
   },
   "outputs": [
    {
     "name": "stdout",
     "output_type": "stream",
     "text": [
      "Variables:1 8\n"
     ]
    },
    {
     "data": {
      "text/plain": [
       "10\n"
      ]
     },
     "execution_count": 17,
     "metadata": {},
     "output_type": "execute_result"
    }
   ],
   "source": [
    "f:{[listArg] var2:listArg[1]; \n",
    "            var9:listArg[8];\n",
    "            -1\"Variables:\",string[var2],\" \",string[var9]; \n",
    "            var9+2*var2\n",
    "    }\n",
    "f[til 10]"
   ]
  },
  {
   "cell_type": "markdown",
   "metadata": {},
   "source": [
    "## Dictionaries\n",
    "Better yet, we can pass a dictionary - since this stores key value pairs, we can retrieve variables by their reference name making code more readable and supportable. "
   ]
  },
  {
   "cell_type": "code",
   "execution_count": 18,
   "metadata": {},
   "outputs": [
    {
     "name": "stdout",
     "output_type": "stream",
     "text": [
      "v1 | 0\n",
      "v2 | 1\n",
      "v3 | 2\n",
      "v4 | 3\n",
      "v5 | 4\n",
      "v6 | 5\n",
      "v7 | 6\n",
      "v8 | 7\n",
      "v9 | 8\n",
      "v10| 9\n",
      "Variables:1 8\n"
     ]
    },
    {
     "data": {
      "text/plain": [
       "10\n"
      ]
     },
     "execution_count": 18,
     "metadata": {},
     "output_type": "execute_result"
    }
   ],
   "source": [
    "show d:`v1`v2`v3`v4`v5`v6`v7`v8`v9`v10!til 10;\n",
    "f:{[varDict] -1\"Variables:\",string[varDict[`v2]],\" \",string[varDict[`v9]]; \n",
    "            varDict[`v9]+2*varDict[`v2]\n",
    "    }\n",
    "f[d]"
   ]
  },
  {
   "cell_type": "markdown",
   "metadata": {},
   "source": [
    "The beauty of using dictionaries is that we can modify our dictionary to only have the two keys needed for our function and the code would still run. "
   ]
  },
  {
   "cell_type": "code",
   "execution_count": 19,
   "metadata": {},
   "outputs": [
    {
     "name": "stdout",
     "output_type": "stream",
     "text": [
      "v2| 10\n",
      "v9| 20\n",
      "Variables:10 20\n"
     ]
    },
    {
     "data": {
      "text/plain": [
       "40\n"
      ]
     },
     "execution_count": 19,
     "metadata": {},
     "output_type": "execute_result"
    }
   ],
   "source": [
    "show d2:`v2`v9! 10 20\n",
    "f[d2]"
   ]
  },
  {
   "cell_type": "markdown",
   "metadata": {},
   "source": [
    "Dictionaries also allow us to set default values for input if it's not passed: "
   ]
  },
  {
   "cell_type": "code",
   "execution_count": 20,
   "metadata": {},
   "outputs": [
    {
     "name": "stdout",
     "output_type": "stream",
     "text": [
      "Variables::: ::\n",
      "Variables:10 20\n",
      "Variables: 10\n"
     ]
    },
    {
     "data": {
      "text/plain": [
       "120\n"
      ]
     },
     "execution_count": 20,
     "metadata": {},
     "output_type": "execute_result"
    },
    {
     "data": {
      "text/plain": [
       "40\n"
      ]
     },
     "execution_count": 20,
     "metadata": {},
     "output_type": "execute_result"
    },
    {
     "data": {
      "text/plain": [
       "30\n"
      ]
     },
     "execution_count": 20,
     "metadata": {},
     "output_type": "execute_result"
    }
   ],
   "source": [
    "f:{[varDict] -1\"Variables:\",string[varDict[`v2]],\" \",string[varDict[`v9]]; \n",
    "            default: `v9`v2!100 10;\n",
    "            varDict: default,varDict;\n",
    "            varDict[`v9]+2*varDict[`v2]\n",
    "    }\n",
    "f[enlist[`]!enlist[::]]  //no assigned values for v9 or v2 - empty dictionary - uses default\n",
    "f[d2]                    //values passed and used\n",
    "f[enlist[`v9]!enlist 10] //only one passed\n"
   ]
  },
  {
   "cell_type": "markdown",
   "metadata": {},
   "source": [
    "<img src=\"../qbies.png\" style=\"width: 50px;padding-right:5px;padding-top:30px;padding-left:5px;\" align=\"left\"/>\n",
    "\n",
    "<p style='color:#273a6e'><i> Use dictionaries for any functions where the number of inputs will or could change! If you have a function with three inputs in your code base, and you then update the function to take only two inputs, every instance in your code base will now throw rank errors! However, if you decide you want to change the way a function written with a dictionary input works, you don't necessarily need to change every line in the code base to modify the way the function is called! </i></p>"
   ]
  }
 ],
 "metadata": {
  "kernelspec": {
   "display_name": "Q (kdb+)",
   "language": "q",
   "name": "qpk"
  },
  "language_info": {
   "file_extension": ".q",
   "mimetype": "text/x-q",
   "name": "q",
   "version": "3.6.0"
  },
  "toc": {
   "base_numbering": 1,
   "nav_menu": {},
   "number_sections": true,
   "sideBar": true,
   "skip_h1_title": false,
   "title_cell": "Table of Contents",
   "title_sidebar": "Contents",
   "toc_cell": false,
   "toc_position": {},
   "toc_section_display": true,
   "toc_window_display": true
  }
 },
 "nbformat": 4,
 "nbformat_minor": 4
}
