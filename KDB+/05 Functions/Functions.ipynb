{
 "cells": [
  {
   "cell_type": "markdown",
   "metadata": {},
   "source": [
    "**Learning Outcomes**\n",
    "\n",
    "To understand: \n",
    "* What are functions?\n",
    "* Function valence\n",
    "* Defining and applying Functions\n",
    "* Explicit and Implicit parameters\n",
    "* Function Scope \n",
    "* How to create a projection\n",
    "* Applying projections\n"
   ]
  },
  {
   "cell_type": "markdown",
   "metadata": {},
   "source": [
    "# Introduction\n",
    "\n",
    "Functions are key components for manipulating data in kdb+, they transform an input through a sequence of expressions which are evaluated and usually (but it's not required) the final output of these expressions is returned as the function output.  "
   ]
  },
  {
   "cell_type": "markdown",
   "metadata": {},
   "source": [
    "# What are functions?\n"
   ]
  },
  {
   "cell_type": "markdown",
   "metadata": {},
   "source": [
    "Intrinsically functions are described by the following: \n",
    "* Their input parameters (this can be none) - known as the function valence, kdb+/q functions can have up to 8 parameters\n",
    "* The function logic - the code you write to make the function do what you want\n",
    "* The function return (this can also be nothing) - what output is returned by the function"
   ]
  },
  {
   "cell_type": "markdown",
   "metadata": {},
   "source": [
    "## Function Valence \n",
    "The function valence means the number of arguments, or input parameters a function needs to run. If you provide a lesser number of parameters than is required to a function you create a projection, if you provide more, you will get a `'rank`  error. \n",
    "\n",
    "To see what happens in these cases we can look at the in-built primitive `+` which takes two inputs: "
   ]
  },
  {
   "cell_type": "code",
   "execution_count": 1,
   "metadata": {},
   "outputs": [
    {
     "data": {
      "text/plain": [
       "7\n"
      ]
     },
     "execution_count": 1,
     "metadata": {},
     "output_type": "execute_result"
    }
   ],
   "source": [
    "+[3;4]     //providing two parameters as expected"
   ]
  },
  {
   "cell_type": "code",
   "execution_count": 2,
   "metadata": {},
   "outputs": [
    {
     "data": {
      "text/plain": [
       "+[3;]\n"
      ]
     },
     "execution_count": 2,
     "metadata": {},
     "output_type": "execute_result"
    }
   ],
   "source": [
    "+[3;]      //providing just one parameter"
   ]
  },
  {
   "cell_type": "code",
   "execution_count": 2,
   "metadata": {},
   "outputs": [
    {
     "ename": "\u001b[0;31mrank\u001b[0m",
     "evalue": "\u001b[0;31mrank\u001b[0m",
     "output_type": "error",
     "traceback": [
      "\u001b[0;31mevaluation error:\n\u001b[0m",
      "\u001b[0;31mrank\u001b[0m",
      "\u001b[0;31m\u001b[0m",
      "\u001b[0;31m  [0]  +[3;4;1]   //providing three parameters\n       ^\n\u001b[0m"
     ]
    }
   ],
   "source": [
    "+[3;4;1]   //providing three parameters"
   ]
  },
  {
   "cell_type": "markdown",
   "metadata": {},
   "source": [
    "Binary operations (taking two parameters or inputs) in mathematics are called dyadic functions in q, and unary (taking one parameter or input) operations are called monadic functions. \n",
    "\n",
    "\n",
    "The minimum and maximum number of parameters to a function are zero and eight respectively. "
   ]
  },
  {
   "cell_type": "code",
   "execution_count": 3,
   "metadata": {},
   "outputs": [
    {
     "data": {
      "text/plain": [
       "-1 -2 -3\n"
      ]
     },
     "execution_count": 3,
     "metadata": {},
     "output_type": "execute_result"
    }
   ],
   "source": [
    "neg 1 2 3   //example of a monadic function "
   ]
  },
  {
   "cell_type": "code",
   "execution_count": 4,
   "metadata": {},
   "outputs": [
    {
     "data": {
      "text/plain": [
       "0\n"
      ]
     },
     "execution_count": 4,
     "metadata": {},
     "output_type": "execute_result"
    }
   ],
   "source": [
    ".Q.gc[]  //no input passed!- Niladic function - gets rid of all the data in the memory that is not assigned to anything"
   ]
  },
  {
   "cell_type": "markdown",
   "metadata": {
    "solution2": "shown",
    "solution2_first": true
   },
   "source": [
    "What would you expect if you called `neg` like `neg[1;2;3]`? How is that different from `neg[1 2 3]` or `neg 1 2 3`?"
   ]
  },
  {
   "cell_type": "code",
   "execution_count": 4,
   "metadata": {
    "solution2": "shown"
   },
   "outputs": [
    {
     "data": {
      "text/plain": [
       "-1 -2 -3\n"
      ]
     },
     "execution_count": 5,
     "metadata": {},
     "output_type": "execute_result"
    },
    {
     "data": {
      "text/plain": [
       "-1 -2 -3\n"
      ]
     },
     "execution_count": 5,
     "metadata": {},
     "output_type": "execute_result"
    },
    {
     "ename": "\u001b[0;31mrank\u001b[0m",
     "evalue": "\u001b[0;31mrank\u001b[0m",
     "output_type": "error",
     "traceback": [
      "\u001b[0;31mevaluation error:\n\u001b[0m",
      "\u001b[0;31mrank\u001b[0m",
      "\u001b[0;31m\u001b[0m",
      "\u001b[0;31m  [0]  neg[1;2;3] //this would give a rank error as the semi colon delimits function parameters - passing 3 input parameters\n       ^\n\u001b[0m"
     ]
    }
   ],
   "source": [
    "neg[1 2 3] //this would apply the neg operator on the vector\n",
    "neg 1 2 3 //this would also apply the neg operator on the vector - different syntax\n",
    "neg[1;2;3] //this would give a rank error as the semi colon delimits function parameters - passing 3 input parameters"
   ]
  },
  {
   "cell_type": "markdown",
   "metadata": {
    "solution2": "hidden",
    "solution2_first": true
   },
   "source": [
    "##### Exercise\n",
    "\n",
    "How many arguments does the operator [`mod`](https://code.kx.com/q/ref/mod/) have? "
   ]
  },
  {
   "cell_type": "code",
   "execution_count": null,
   "metadata": {
    "solution2": "hidden"
   },
   "outputs": [],
   "source": [
    "mod[10 15 20;10] // The correct answer is 2. "
   ]
  },
  {
   "cell_type": "code",
   "execution_count": 5,
   "metadata": {},
   "outputs": [],
   "source": [
    "//write your answer here 2"
   ]
  },
  {
   "cell_type": "markdown",
   "metadata": {},
   "source": [
    "## Defining a function\n",
    "\n",
    "The syntax of function definition is a matching pair of curly braces `{` and `}` - the smallest possible function we can define is actually the following: "
   ]
  },
  {
   "cell_type": "code",
   "execution_count": 6,
   "metadata": {},
   "outputs": [],
   "source": [
    "f:{}          //minimal function definition"
   ]
  },
  {
   "cell_type": "code",
   "execution_count": 7,
   "metadata": {},
   "outputs": [
    {
     "data": {
      "text/plain": [
       "100h\n"
      ]
     },
     "execution_count": 7,
     "metadata": {},
     "output_type": "execute_result"
    }
   ],
   "source": [
    "type f        //lambda - user defined function"
   ]
  },
  {
   "cell_type": "code",
   "execution_count": 8,
   "metadata": {},
   "outputs": [],
   "source": [
    "f[]           //calling our function which takes no input"
   ]
  },
  {
   "cell_type": "code",
   "execution_count": 9,
   "metadata": {},
   "outputs": [
    {
     "data": {
      "text/plain": [
       "1\n"
      ]
     },
     "execution_count": 9,
     "metadata": {},
     "output_type": "execute_result"
    }
   ],
   "source": [
    "count f[]     "
   ]
  },
  {
   "cell_type": "code",
   "execution_count": 10,
   "metadata": {},
   "outputs": [
    {
     "data": {
      "text/plain": [
       "1b\n"
      ]
     },
     "execution_count": 10,
     "metadata": {},
     "output_type": "execute_result"
    }
   ],
   "source": [
    "(::)~f[]      //nothing returned (::) is null return "
   ]
  },
  {
   "cell_type": "code",
   "execution_count": null,
   "metadata": {},
   "outputs": [],
   "source": [
    "{}[]~f[]      //we don't have to assign the function to a variable to use it"
   ]
  },
  {
   "cell_type": "markdown",
   "metadata": {},
   "source": [
    "### Function parameters \n",
    "We can specify parameters by using `[]` to enclose the list of our parameter values - the parameter names are then used throughout the rest of the function logic to reference the value passed for that input reference. "
   ]
  },
  {
   "cell_type": "code",
   "execution_count": 11,
   "metadata": {},
   "outputs": [
    {
     "data": {
      "text/plain": [
       "1\n"
      ]
     },
     "execution_count": 11,
     "metadata": {},
     "output_type": "execute_result"
    }
   ],
   "source": [
    "f:{[parameter] parameter}                                 //function with one input\n",
    "f[1]"
   ]
  },
  {
   "cell_type": "code",
   "execution_count": 12,
   "metadata": {},
   "outputs": [
    {
     "data": {
      "text/plain": [
       "{[numerator;denominator] numerator%denominator}[1]\n"
      ]
     },
     "execution_count": 12,
     "metadata": {},
     "output_type": "execute_result"
    }
   ],
   "source": [
    "divide:{[numerator;denominator] numerator%denominator}    //function with two inputs\n",
    "divide[1]                                             //not enouogh param "
   ]
  },
  {
   "cell_type": "code",
   "execution_count": 15,
   "metadata": {},
   "outputs": [
    {
     "data": {
      "text/plain": [
       "1b\n"
      ]
     },
     "execution_count": 15,
     "metadata": {},
     "output_type": "execute_result"
    },
    {
     "data": {
      "text/plain": [
       "0.5\n"
      ]
     },
     "execution_count": 15,
     "metadata": {},
     "output_type": "execute_result"
    }
   ],
   "source": [
    "divide[1;2]~divide[1] 2  //function arguments are assigned in order of passing\n",
    "divide[1;2]"
   ]
  },
  {
   "cell_type": "markdown",
   "metadata": {
    "solution2": "hidden",
    "solution2_first": true
   },
   "source": [
    "##### Exercise \n",
    "\n",
    "Define a function `range` that takes one parameter input `l` (a list) and doesn't do anything. \n",
    "\n",
    "What happens if you call this with one input e.g. `range[1]`? What about two inputs e.g. `range[1;2]`?"
   ]
  },
  {
   "cell_type": "code",
   "execution_count": null,
   "metadata": {
    "solution2": "hidden"
   },
   "outputs": [],
   "source": [
    "range:{[l] }"
   ]
  },
  {
   "cell_type": "code",
   "execution_count": null,
   "metadata": {
    "solution2": "hidden"
   },
   "outputs": [],
   "source": [
    "range 1  //the function doesn't return anything but it runs"
   ]
  },
  {
   "cell_type": "code",
   "execution_count": null,
   "metadata": {
    "solution2": "hidden"
   },
   "outputs": [],
   "source": [
    "range[1;2]  //too many parameters - rank error "
   ]
  },
  {
   "cell_type": "code",
   "execution_count": 19,
   "metadata": {},
   "outputs": [],
   "source": [
    "//write your function here\n",
    "range:{[l] }"
   ]
  },
  {
   "cell_type": "code",
   "execution_count": 20,
   "metadata": {},
   "outputs": [],
   "source": [
    "range[1]"
   ]
  },
  {
   "cell_type": "code",
   "execution_count": 20,
   "metadata": {},
   "outputs": [
    {
     "ename": "\u001b[0;31mrank\u001b[0m",
     "evalue": "\u001b[0;31mrank\u001b[0m",
     "output_type": "error",
     "traceback": [
      "\u001b[0;31mevaluation error:\n\u001b[0m",
      "\u001b[0;31mrank\u001b[0m",
      "\u001b[0;31m\u001b[0m",
      "\u001b[0;31m  [0]  range[1;2]\n       ^\n\u001b[0m"
     ]
    }
   ],
   "source": [
    "range[1;2]"
   ]
  },
  {
   "cell_type": "markdown",
   "metadata": {},
   "source": [
    "### Function Logic \n",
    "\n",
    "The code we choose to include within our function is referred to as the function logic and is comprised of a series of q expressions. "
   ]
  },
  {
   "cell_type": "markdown",
   "metadata": {},
   "source": [
    "We can chain together our statements for code clarity and to allow us to work through multiple lines of expressions where needed:"
   ]
  },
  {
   "cell_type": "code",
   "execution_count": 21,
   "metadata": {},
   "outputs": [
    {
     "data": {
      "text/plain": [
       "21.11111\n"
      ]
     },
     "execution_count": 21,
     "metadata": {},
     "output_type": "execute_result"
    }
   ],
   "source": [
    "convertToCelcius:{[farenheit] \n",
    "            offset:farenheit-32;   //defining the initial offset value\n",
    "            offset*5%9           //multiplying by the appropriate ratio after offsetting\n",
    "            }\n",
    "convertToCelcius[70]  //translating the temperature from farenheit to celcius"
   ]
  },
  {
   "cell_type": "markdown",
   "metadata": {
    "solution2": "shown",
    "solution2_first": true
   },
   "source": [
    "##### Exercise \n",
    "\n",
    "Define a function `range` that will calculate the range of numbers in a list. This function should have one parameter `l`, the list being passed. \n",
    "\n",
    "Calling `range` with an input -10 20 30 40 50  should return 60. "
   ]
  },
  {
   "cell_type": "code",
   "execution_count": null,
   "metadata": {
    "solution2": "shown"
   },
   "outputs": [],
   "source": [
    "range:{[l] max[l]- min l}\n",
    "range -10 20 30 40 50"
   ]
  },
  {
   "cell_type": "code",
   "execution_count": 24,
   "metadata": {},
   "outputs": [
    {
     "data": {
      "text/plain": [
       "60\n"
      ]
     },
     "execution_count": 24,
     "metadata": {},
     "output_type": "execute_result"
    }
   ],
   "source": [
    "//write your function here\n",
    "range:{[l]\n",
    "        min_l: min l;\n",
    "        max_l: max l;\n",
    "        max_l - min_l}\n",
    "range[-10 20 30 40 50]"
   ]
  },
  {
   "cell_type": "code",
   "execution_count": 27,
   "metadata": {},
   "outputs": [
    {
     "data": {
      "text/plain": [
       "-10\n"
      ]
     },
     "execution_count": 27,
     "metadata": {},
     "output_type": "execute_result"
    },
    {
     "data": {
      "text/plain": [
       "60\n"
      ]
     },
     "execution_count": 27,
     "metadata": {},
     "output_type": "execute_result"
    }
   ],
   "source": [
    "l: -10 20 30 40 50\n",
    "min l\n",
    "t: l - min l\n",
    "max t"
   ]
  },
  {
   "cell_type": "markdown",
   "metadata": {},
   "source": [
    "### Returning from a Function \n",
    "\n",
    "We can see the functions `divide` and `convertToCelcius` above returned values - this is because the last q expression in each function definition wasn't suppressed by a semicolon."
   ]
  },
  {
   "cell_type": "code",
   "execution_count": 28,
   "metadata": {},
   "outputs": [],
   "source": [
    "convertToCelcius:{[farenheit] offset:farenheit-32;   \n",
    "                            offset*5%9;             //adding a semicolon after the statement\n",
    "                    }                               //no other expressions to evaluate\n",
    "convertToCelcius[70]    "
   ]
  },
  {
   "cell_type": "markdown",
   "metadata": {},
   "source": [
    "We can force an early return from a function by using `:` to indicate what we want to return. We can see this more clearly if we add a print statement to our function:"
   ]
  },
  {
   "cell_type": "code",
   "execution_count": 29,
   "metadata": {},
   "outputs": [
    {
     "name": "stdout",
     "output_type": "stream",
     "text": [
      "Finished offset, starting ratio conversion\n"
     ]
    }
   ],
   "source": [
    "//Example 1 - output suppressed\n",
    "convertToCelcius:{[farenheit] offset:farenheit-32;   \n",
    "                            -1 \"Finished offset, starting ratio conversion\"; //printing to stdout to log\n",
    "                            offset*5%9;             //no return\n",
    "                    }                               \n",
    "convertToCelcius[70]   //no return, but still prints"
   ]
  },
  {
   "cell_type": "code",
   "execution_count": 34,
   "metadata": {},
   "outputs": [
    {
     "name": "stdout",
     "output_type": "stream",
     "text": [
      "Finished offset, starting ratio conversion\n"
     ]
    },
    {
     "data": {
      "text/plain": [
       "21.11111\n"
      ]
     },
     "execution_count": 34,
     "metadata": {},
     "output_type": "execute_result"
    }
   ],
   "source": [
    "//Example 2 - force return\n",
    "convertToCelcius:{[farenheit] offset:farenheit-32;   \n",
    "                            -1 \"Finished offset, starting ratio conversion\";\n",
    "                            :offset*5%9;            //using : to force return   \n",
    "                    }                               \n",
    "convertToCelcius[70]   //returns the ouput and prints"
   ]
  },
  {
   "cell_type": "code",
   "execution_count": 35,
   "metadata": {},
   "outputs": [
    {
     "data": {
      "text/plain": [
       "38\n"
      ]
     },
     "execution_count": 35,
     "metadata": {},
     "output_type": "execute_result"
    }
   ],
   "source": [
    "//Example 3  - force return before print\n",
    "convertToCelcius:{[farenheit] :offset:farenheit-32; //using : to force return   \n",
    "                            -1 \"Finished offset, starting ratio conversion\";\n",
    "                            offset*5%9;              \n",
    "                    }                               \n",
    "convertToCelcius[70]   //returns just offset value before print"
   ]
  },
  {
   "cell_type": "code",
   "execution_count": 37,
   "metadata": {},
   "outputs": [
    {
     "name": "stdout",
     "output_type": "stream",
     "text": [
      "Finished offset, starting ratio conversion\n"
     ]
    },
    {
     "data": {
      "text/plain": [
       "21.11111\n"
      ]
     },
     "execution_count": 37,
     "metadata": {},
     "output_type": "execute_result"
    }
   ],
   "source": [
    "//Example 4 - return without suppression \n",
    "convertToCelcius:{[farenheit] offset:farenheit-32; \n",
    "                            -1 \"Finished offset, starting ratio conversion\";\n",
    "                            offset*5%9           //no force return, just returning the last expression     \n",
    "                    }                               \n",
    "convertToCelcius[70]   "
   ]
  },
  {
   "cell_type": "markdown",
   "metadata": {},
   "source": [
    "If we look again at our `divide` function, we can use force return to return a default value if we pass a divisor of zero:"
   ]
  },
  {
   "cell_type": "code",
   "execution_count": 38,
   "metadata": {},
   "outputs": [
    {
     "data": {
      "text/plain": [
       "5f\n"
      ]
     },
     "execution_count": 38,
     "metadata": {},
     "output_type": "execute_result"
    },
    {
     "data": {
      "text/plain": [
       "20f\n"
      ]
     },
     "execution_count": 38,
     "metadata": {},
     "output_type": "execute_result"
    }
   ],
   "source": [
    "cappedDivide:{[numerator;denominator] \n",
    "                    if[denominator=0; :20f];  //if[1b; do these things], if[0b;they don't get done]\n",
    "                    v:numerator%denominator} \n",
    "cappedDivide[100;20]\n",
    "cappedDivide[100;0]"
   ]
  },
  {
   "cell_type": "markdown",
   "metadata": {},
   "source": [
    "We could have avoided all of that hassle of force returning etc just by using the `min` function -  there are usually many ways to achieve the same thing!  "
   ]
  },
  {
   "cell_type": "code",
   "execution_count": 39,
   "metadata": {},
   "outputs": [
    {
     "data": {
      "text/plain": [
       "20f\n"
      ]
     },
     "execution_count": 39,
     "metadata": {},
     "output_type": "execute_result"
    },
    {
     "data": {
      "text/plain": [
       "5f\n"
      ]
     },
     "execution_count": 39,
     "metadata": {},
     "output_type": "execute_result"
    },
    {
     "data": {
      "text/plain": [
       "20f\n"
      ]
     },
     "execution_count": 39,
     "metadata": {},
     "output_type": "execute_result"
    }
   ],
   "source": [
    "cappedDivide:{[numerator;denominator] \n",
    "                   min(20f;numerator%denominator)} \n",
    "cappedDivide[100;3]\n",
    "cappedDivide[100;20]\n",
    "cappedDivide[100;0]"
   ]
  },
  {
   "cell_type": "markdown",
   "metadata": {
    "solution2": "shown",
    "solution2_first": true
   },
   "source": [
    "##### Exercise\n",
    "\n",
    "Redefine the `range` function to return the result using the force return.  "
   ]
  },
  {
   "cell_type": "code",
   "execution_count": null,
   "metadata": {
    "solution2": "shown"
   },
   "outputs": [],
   "source": [
    "range:{[l] r:max[l]-min l; //assigning the result to a variable\n",
    "    :r; //using the force return\n",
    " }\n",
    "l:10?100  //defining a random list \n",
    "range[l]  //finding the range"
   ]
  },
  {
   "cell_type": "code",
   "execution_count": 40,
   "metadata": {},
   "outputs": [
    {
     "data": {
      "text/plain": [
       "89\n"
      ]
     },
     "execution_count": 40,
     "metadata": {},
     "output_type": "execute_result"
    }
   ],
   "source": [
    "//write your function here\n",
    "range:{[l] r:max l - min l;\n",
    "        :r;}\n",
    "l: 10?100\n",
    "range[l]"
   ]
  },
  {
   "cell_type": "markdown",
   "metadata": {},
   "source": [
    "### Applying a function\n",
    "\n",
    "When we apply a function, it causes the expressions in the function body to be evaluated in sequence, substituting the value of each argument for the corresponding input parameters. To pass parameters to a function we can use the functional syntax we've used before: "
   ]
  },
  {
   "cell_type": "code",
   "execution_count": 41,
   "metadata": {},
   "outputs": [
    {
     "data": {
      "text/plain": [
       "9\n"
      ]
     },
     "execution_count": 41,
     "metadata": {},
     "output_type": "execute_result"
    },
    {
     "data": {
      "text/plain": [
       "16\n"
      ]
     },
     "execution_count": 41,
     "metadata": {},
     "output_type": "execute_result"
    }
   ],
   "source": [
    "{[a]a*a}[3]\n",
    "\n",
    "square:{[a]a*a}\n",
    "square[4]"
   ]
  },
  {
   "cell_type": "markdown",
   "metadata": {},
   "source": [
    "One way in which user defined functions differ from native functions in kdb+/q is that we can't make use of the 'infix' notation that kdb+/q does - e.g. for a primitive with two inputs like `%` we can write this in a few ways:  "
   ]
  },
  {
   "cell_type": "code",
   "execution_count": 42,
   "metadata": {},
   "outputs": [
    {
     "data": {
      "text/plain": [
       "0.6\n"
      ]
     },
     "execution_count": 42,
     "metadata": {},
     "output_type": "execute_result"
    },
    {
     "data": {
      "text/plain": [
       "0.6\n"
      ]
     },
     "execution_count": 42,
     "metadata": {},
     "output_type": "execute_result"
    },
    {
     "data": {
      "text/plain": [
       "0.6\n"
      ]
     },
     "execution_count": 42,
     "metadata": {},
     "output_type": "execute_result"
    },
    {
     "data": {
      "text/plain": [
       "0.6\n"
      ]
     },
     "execution_count": 42,
     "metadata": {},
     "output_type": "execute_result"
    },
    {
     "data": {
      "text/plain": [
       "0.6\n"
      ]
     },
     "execution_count": 42,
     "metadata": {},
     "output_type": "execute_result"
    }
   ],
   "source": [
    "3 % 5       //infix notation \n",
    "%[3;5]      //functional notation\n",
    "%[;5] 3     //eliding the first argument to pass the second \n",
    "%[3][5]     //projecting over the first argument and then calling with the second explicity \n",
    "%[3] 5      //projecting over the first argument and then applying implicity to the RHS value of 5"
   ]
  },
  {
   "cell_type": "markdown",
   "metadata": {},
   "source": [
    "But for our user defined functions we can only make use of the functional way of calling:"
   ]
  },
  {
   "cell_type": "code",
   "execution_count": 42,
   "metadata": {},
   "outputs": [
    {
     "data": {
      "text/plain": [
       "0.6\n"
      ]
     },
     "execution_count": 43,
     "metadata": {},
     "output_type": "execute_result"
    },
    {
     "data": {
      "text/plain": [
       "0.6\n"
      ]
     },
     "execution_count": 43,
     "metadata": {},
     "output_type": "execute_result"
    },
    {
     "data": {
      "text/plain": [
       "0.6\n"
      ]
     },
     "execution_count": 43,
     "metadata": {},
     "output_type": "execute_result"
    },
    {
     "data": {
      "text/plain": [
       "0.6\n"
      ]
     },
     "execution_count": 43,
     "metadata": {},
     "output_type": "execute_result"
    },
    {
     "data": {
      "text/plain": [
       "0.6\n"
      ]
     },
     "execution_count": 43,
     "metadata": {},
     "output_type": "execute_result"
    },
    {
     "ename": "\u001b[0;31mtype\u001b[0m",
     "evalue": "\u001b[0;31mtype\u001b[0m",
     "output_type": "error",
     "traceback": [
      "\u001b[0;31mevaluation error:\n\u001b[0m",
      "\u001b[0;31mtype\u001b[0m",
      "\u001b[0;31m\u001b[0m",
      "\u001b[0;31m  [0]  3 divide 5     //infix calling throws an error\n       ^\n\u001b[0m"
     ]
    }
   ],
   "source": [
    "divide:{[numerator;denominator] numerator%denominator} \n",
    "\n",
    "divide[3;5]    //functionally calling\n",
    "divide[3][5]\n",
    "divide[3] 5 \n",
    "divide[;5] 3\n",
    "divide[;5][3]\n",
    "3 divide 5     //infix calling throws an error"
   ]
  },
  {
   "cell_type": "markdown",
   "metadata": {},
   "source": [
    "<img src=\"../qbies.png\" style=\"width: 50px;padding-right:5px;padding-top:10px;padding-left:5px;\" align=\"left\"/>\n",
    "\n",
    "<p style='color:#273a6e'><i> Remember the number of input parameter(s) in the application of a function must match the definition. An application with too many arguments generates a `rank error. An application with too little arguments turns the function into a projection</i></p>"
   ]
  },
  {
   "cell_type": "markdown",
   "metadata": {
    "solution2": "hidden",
    "solution2_first": true
   },
   "source": [
    "##### Exercise\n",
    "\n",
    "Create a function with three parameters `x`,`y` and `z`. The function logic should return `x` plus `y` multiplied by `z`"
   ]
  },
  {
   "cell_type": "code",
   "execution_count": null,
   "metadata": {},
   "outputs": [],
   "source": []
  },
  {
   "cell_type": "code",
   "execution_count": null,
   "metadata": {
    "solution2": "hidden"
   },
   "outputs": [],
   "source": [
    "func1:{[x;y;z] (x+y)*z}"
   ]
  },
  {
   "cell_type": "code",
   "execution_count": 45,
   "metadata": {},
   "outputs": [
    {
     "data": {
      "text/plain": [
       "24\n"
      ]
     },
     "execution_count": 45,
     "metadata": {},
     "output_type": "execute_result"
    }
   ],
   "source": [
    "// Enter your Q code here \n",
    "fun:{[x;y;z] z*x+y}\n",
    "fun[1;5;4]"
   ]
  },
  {
   "cell_type": "markdown",
   "metadata": {
    "solution2": "shown",
    "solution2_first": true
   },
   "source": [
    "Create a function that produces `n` random integers between 0-100 where `n` is a parameter"
   ]
  },
  {
   "cell_type": "code",
   "execution_count": null,
   "metadata": {
    "solution2": "shown"
   },
   "outputs": [],
   "source": [
    "func2:{[n] n?101i}  //specifing 101 as we want to include 100 "
   ]
  },
  {
   "cell_type": "code",
   "execution_count": 46,
   "metadata": {},
   "outputs": [
    {
     "data": {
      "text/plain": [
       "93 54 38i\n"
      ]
     },
     "execution_count": 46,
     "metadata": {},
     "output_type": "execute_result"
    }
   ],
   "source": [
    "// Enter your Q code here \n",
    "rand2:{[n] n?101i}\n",
    "rand2[3]"
   ]
  },
  {
   "cell_type": "markdown",
   "metadata": {},
   "source": [
    "# Explicit and Implicit parameters"
   ]
  },
  {
   "cell_type": "markdown",
   "metadata": {},
   "source": [
    "## Explicit Parameters\n",
    "\n",
    "To explicitly declare the parameters to a function we define them within the square brackets immediately after the\n",
    "opening curly bracket, and if there is more than one parameter to be declared, we separate these parameters\n",
    "with semicolons `;`. For example:"
   ]
  },
  {
   "cell_type": "code",
   "execution_count": 47,
   "metadata": {},
   "outputs": [],
   "source": [
    "sumStats:{[l] //single input function with 4 expressions\n",
    "    countL:count l; //calculating number of elements in list \n",
    "    minL:min l; //calculating min of list \n",
    "    maxL:max l; //calculating max of list\n",
    "    avgL:avg l; //calculating average of list\n",
    "    :(countL;minL;maxL;avgL) //using force return \n",
    " }"
   ]
  },
  {
   "cell_type": "code",
   "execution_count": 48,
   "metadata": {},
   "outputs": [
    {
     "name": "stdout",
     "output_type": "stream",
     "text": [
      "97 88 58 68 45 2 39 64 49 82\n",
      "10\n",
      "2\n",
      "97\n",
      "59.2\n"
     ]
    }
   ],
   "source": [
    "show L:10?100 //creating random list\n",
    "show s1:sumStats[L] //execute the function and assign result to global variable s1"
   ]
  },
  {
   "cell_type": "markdown",
   "metadata": {
    "solution2": "shown",
    "solution2_first": true
   },
   "source": [
    "##### Exercise\n",
    "Create a function `rectangleArea1` that returns the area of a rectangle using two explicit parameters, length and width. \n",
    "\n",
    "Using the function, calculate the area of a rectangle with length 5.93 and width 3.87.  "
   ]
  },
  {
   "cell_type": "code",
   "execution_count": null,
   "metadata": {
    "solution2": "shown"
   },
   "outputs": [],
   "source": [
    "rectangleArea1:{[length;width] length * width}\n",
    "rectangleArea1[5.93;3.87]"
   ]
  },
  {
   "cell_type": "code",
   "execution_count": 49,
   "metadata": {},
   "outputs": [
    {
     "data": {
      "text/plain": [
       "22.9491\n"
      ]
     },
     "execution_count": 49,
     "metadata": {},
     "output_type": "execute_result"
    }
   ],
   "source": [
    "// write your function here\n",
    "rectangleArea1:{[l;w] l*w}\n",
    "rectangleArea1[5.93;3.87]"
   ]
  },
  {
   "cell_type": "markdown",
   "metadata": {},
   "source": [
    "## Implicit Parameters\n",
    "If there are no parameters explicitly declared at the start of a function definition (no square\n",
    "brackets), then up to three inputs can be implicitly available if defined within the function body. These are by\n",
    "name `x`,`y` and `z`."
   ]
  },
  {
   "cell_type": "code",
   "execution_count": 50,
   "metadata": {},
   "outputs": [
    {
     "name": "stdout",
     "output_type": "stream",
     "text": [
      "{x-1}\n"
     ]
    },
    {
     "data": {
      "text/plain": [
       "0 1\n"
      ]
     },
     "execution_count": 50,
     "metadata": {},
     "output_type": "execute_result"
    }
   ],
   "source": [
    "show f4:{x-1} //Function takes a single input and implicitly returns a result\n",
    "f4[1 2]"
   ]
  },
  {
   "cell_type": "code",
   "execution_count": 51,
   "metadata": {},
   "outputs": [
    {
     "name": "stdout",
     "output_type": "stream",
     "text": [
      "{r:x-y;\n",
      "    :r}\n"
     ]
    },
    {
     "data": {
      "text/plain": [
       "1\n"
      ]
     },
     "execution_count": 51,
     "metadata": {},
     "output_type": "execute_result"
    }
   ],
   "source": [
    "show f5:{r:x-y;\n",
    "    :r} //Function takes 2 inputs and explicitly returns a result\n",
    "f5[3;2]"
   ]
  },
  {
   "cell_type": "code",
   "execution_count": 52,
   "metadata": {},
   "outputs": [
    {
     "name": "stdout",
     "output_type": "stream",
     "text": [
      "{:x-y*z}\n"
     ]
    },
    {
     "data": {
      "text/plain": [
       "-10\n"
      ]
     },
     "execution_count": 52,
     "metadata": {},
     "output_type": "execute_result"
    }
   ],
   "source": [
    "show f6:{:x-y*z} //Function takes 3 inputs and explicitly returns a result\n",
    "f6[10;20;f5[3;2]]"
   ]
  },
  {
   "cell_type": "markdown",
   "metadata": {},
   "source": [
    "This also only works for these three values, trying to do this with `a`,`b` and `c` would be unsuccessful."
   ]
  },
  {
   "cell_type": "markdown",
   "metadata": {
    "solution2": "hidden",
    "solution2_first": true
   },
   "source": [
    "##### Exercise \n",
    "Create a function `rectangleArea2` to find the area of a rectangle with length 7.93 and width 1.87 using implicit parameters"
   ]
  },
  {
   "cell_type": "code",
   "execution_count": null,
   "metadata": {
    "solution2": "hidden"
   },
   "outputs": [],
   "source": [
    "rectangleArea2:{x*y}  //using implicit parameters\n",
    "rectangleArea2[7.93;1.87]"
   ]
  },
  {
   "cell_type": "code",
   "execution_count": 60,
   "metadata": {},
   "outputs": [
    {
     "ename": "\u001b[0;31mrank\u001b[0m",
     "evalue": "\u001b[0;31mrank\u001b[0m",
     "output_type": "error",
     "traceback": [
      "\u001b[0;31mevaluation error:\n\u001b[0m",
      "\u001b[0;31mrank\u001b[0m",
      "\u001b[0;31m\u001b[0m",
      "\u001b[0;31m  [0]  rectangleArea2[7.93;1.87]\n       ^\n\u001b[0m"
     ]
    }
   ],
   "source": [
    "/ write your function here\n",
    "rectangleArea2:{x*y} //only can use x y z\n",
    "rectangleArea2:{l*w} //gives error \n",
    "rectangleArea2[7.93;1.87]"
   ]
  },
  {
   "cell_type": "markdown",
   "metadata": {},
   "source": [
    "##  Comparison\n",
    "Let's suppose we want to define a function called `getCircleArea`, which takes the radius as its sole argument and returns the area of such a circle. For the purposes of this exercise we will assume π=3.14159"
   ]
  },
  {
   "cell_type": "code",
   "execution_count": null,
   "metadata": {},
   "outputs": [],
   "source": [
    "getCircleArea:{[radius] 3.14159*radius*radius};   // using explicit argument here, \n",
    "                                                  // which must be defined at the start of the lambda in square brackets\n",
    "getCircleArea 4"
   ]
  },
  {
   "cell_type": "markdown",
   "metadata": {},
   "source": [
    "If we chose not to explicitly declare the argument and instead used the implicit argument x:"
   ]
  },
  {
   "cell_type": "code",
   "execution_count": null,
   "metadata": {},
   "outputs": [],
   "source": [
    "getCircleArea:{3.14159*x*x};   // use x instead of explicit argument, no square brackets required\n",
    "getCircleArea 4                // function behaviour is unchanged"
   ]
  },
  {
   "cell_type": "markdown",
   "metadata": {
    "solution2": "shown",
    "solution2_first": true
   },
   "source": [
    "##### Exercise \n",
    "Create a monadic function to find  all the odd numbers in a list and multiple them by 10."
   ]
  },
  {
   "cell_type": "code",
   "execution_count": null,
   "metadata": {
    "solution2": "shown"
   },
   "outputs": [],
   "source": [
    "oddFunc:{[i]\n",
    "    oddNum:i where 1=i mod 2; //finding all the odd numbers\n",
    "    @[i;oddNum;*;10]} //multiple by 10\n",
    "oddFunc[1 2 3 4]"
   ]
  },
  {
   "cell_type": "code",
   "execution_count": 58,
   "metadata": {},
   "outputs": [
    {
     "data": {
      "text/plain": [
       "10 30\n"
      ]
     },
     "execution_count": 58,
     "metadata": {},
     "output_type": "execute_result"
    }
   ],
   "source": [
    "// your answer here\n",
    "oddf:{[l] 10*l where 1=l mod 2}\n",
    "oddf[1 2 3 4]\n"
   ]
  },
  {
   "cell_type": "markdown",
   "metadata": {
    "solution2": "shown",
    "solution2_first": true
   },
   "source": [
    "Create a dyadic function `vol` that takes a radius and a length to calculate the volume of a cylinder ($V=l*\\pi r^2$ - Use 3.14 for $\\pi$)"
   ]
  },
  {
   "cell_type": "code",
   "execution_count": null,
   "metadata": {
    "solution2": "shown"
   },
   "outputs": [],
   "source": [
    "vol:{y*3.14*x*x}\n",
    "vol[2;3]"
   ]
  },
  {
   "cell_type": "code",
   "execution_count": null,
   "metadata": {},
   "outputs": [],
   "source": [
    "// your answer here\n",
    "vol:{[r,l] l*3.14*r2}"
   ]
  },
  {
   "cell_type": "markdown",
   "metadata": {},
   "source": [
    "# Function Scope\n",
    "\n",
    "Within programming languages that utilize functions, there is the concept of [function scope](https://en.wikipedia.org/wiki/Scope_(computer_science)#Function_scope) which refers to the \"view\" of the variables that are accessible to a function during it's execution. "
   ]
  },
  {
   "cell_type": "markdown",
   "metadata": {},
   "source": [
    "## Local Scope\n",
    "\n",
    "The *local scope* of a function refers to the variables that are available and accessible within the execution of a function. Variables which only exist for the duration of the function execution and fail to be accessible after function execution are deemed to be *local* to the function execution, and therefore *local variables*.\n",
    "\n",
    "The most simple example of variables that are local only to the scope of a function are the parameters of function: "
   ]
  },
  {
   "cell_type": "code",
   "execution_count": null,
   "metadata": {},
   "outputs": [],
   "source": [
    "f:{[param1] -1 \"Parameter passed: \",string param1; param1*2}   \n",
    "f[2]\n",
    "param1     //not defined outside of our function in what is called the \"global\" scope"
   ]
  },
  {
   "cell_type": "markdown",
   "metadata": {},
   "source": [
    "Another example of local variables are the intermediate variables that we might define within our function logic: "
   ]
  },
  {
   "cell_type": "code",
   "execution_count": null,
   "metadata": {},
   "outputs": [],
   "source": [
    "f:{local:42; -1\"Value of local: \",string local; local+x} // \"local\" is a local variable\n",
    "f[10]\n",
    "local"
   ]
  },
  {
   "cell_type": "markdown",
   "metadata": {},
   "source": [
    " A local variable is not visible within the body of a local function defined within the same function and same scope.\n",
    "We can best clarify what exactly is meant by this with an example: "
   ]
  },
  {
   "cell_type": "code",
   "execution_count": null,
   "metadata": {},
   "outputs": [],
   "source": [
    "f:{localToF:21;      //create variable within the scope of function f\n",
    "    g:{localToF*2}; //create new function within the scope of our function \n",
    "    g[]             //call g within the function f\n",
    "  }            \n",
    "f[]     //g can't access  the localvariable localToF"
   ]
  },
  {
   "cell_type": "markdown",
   "metadata": {},
   "source": [
    "If we wanted `g` to have access to that variable we would need to pass it as a parameter as follows: "
   ]
  },
  {
   "cell_type": "code",
   "execution_count": null,
   "metadata": {},
   "outputs": [],
   "source": [
    "f:{localToF:21;                               //create variable within the scope of function f\n",
    "    g:{[passedFromFtoG] passedFromFtoG*2};    //create new function within the scope of our function \n",
    "    g[localToF]                               //call g within the function f passing our local variable as an input\n",
    "  }            \n",
    "f[]"
   ]
  },
  {
   "cell_type": "markdown",
   "metadata": {
    "solution2": "shown",
    "solution2_first": true
   },
   "source": [
    "##### Exercise \n",
    "Create a function `circumferenceOfCircle` that defines a local variable `pi:3.14` and finds the [circumference](https://www.mathplanet.com/education/pre-algebra/more-about-equation-and-inequalities/calculating-the-circumference-of-a-circle) of a circle. \n",
    "\n",
    "Calculate the circumference of a circle with radius 6. Check to see if pi is defined in the process."
   ]
  },
  {
   "cell_type": "code",
   "execution_count": null,
   "metadata": {
    "solution2": "shown"
   },
   "outputs": [],
   "source": [
    "circumferenceOfCircle:{[r]\n",
    "  pi:3.14; //defining local variable\n",
    "  2*pi*r  //calculating circumference\n",
    " }\n",
    "\n",
    "circumferenceOfCircle[6]\n",
    "pi //inspecting pi - not defined as it's a local variable"
   ]
  },
  {
   "cell_type": "code",
   "execution_count": 63,
   "metadata": {},
   "outputs": [
    {
     "data": {
      "text/plain": [
       "37.68\n"
      ]
     },
     "execution_count": 63,
     "metadata": {},
     "output_type": "execute_result"
    }
   ],
   "source": [
    "//write your function here\n",
    "circumferenceOfCircle:{[r] pi:3.14;\n",
    "                            2*pi*r}\n",
    "circumferenceOfCircle[6]"
   ]
  },
  {
   "cell_type": "markdown",
   "metadata": {},
   "source": [
    "## Global Scope\n",
    "\n",
    "A variable assigned outside of a function is called a *global variable*"
   ]
  },
  {
   "cell_type": "code",
   "execution_count": 64,
   "metadata": {},
   "outputs": [
    {
     "data": {
      "text/plain": [
       "12\n"
      ]
     },
     "execution_count": 64,
     "metadata": {},
     "output_type": "execute_result"
    }
   ],
   "source": [
    "f:{b:2; b*x}  //defining locally\n",
    "f[6]"
   ]
  },
  {
   "cell_type": "markdown",
   "metadata": {},
   "source": [
    "When a function calls for a variable, it first \"looks\" locally, and then if the variable can't be found in local scope, the function \"looks\" globally. If the variable can't be found in either scope then the function will error.  "
   ]
  },
  {
   "cell_type": "code",
   "execution_count": 64,
   "metadata": {},
   "outputs": [
    {
     "data": {
      "text/plain": [
       "4\n"
      ]
     },
     "execution_count": 65,
     "metadata": {},
     "output_type": "execute_result"
    },
    {
     "data": {
      "text/plain": [
       "`.\n"
      ]
     },
     "execution_count": 65,
     "metadata": {},
     "output_type": "execute_result"
    },
    {
     "ename": "\u001b[0;31mb\u001b[0m",
     "evalue": "\u001b[0;31mb\u001b[0m",
     "output_type": "error",
     "traceback": [
      "\u001b[0;31mevaluation error:\n\u001b[0m",
      "\u001b[0;31mb\u001b[0m",
      "\u001b[0;31m\u001b[0m",
      "\u001b[0;31m  [1]  f:{b*x}\n          ^\n\u001b[0m",
      "\u001b[0;31m  [0]  f[1]             //b now undefined \n       ^\n\u001b[0m"
     ]
    }
   ],
   "source": [
    "b:4\n",
    "f:{b*x}          //calling b but we haven't defined it locally \n",
    "f[1]\n",
    "delete b from `. //removing b from the global scope \n",
    "f[1]             //b now undefined "
   ]
  },
  {
   "cell_type": "markdown",
   "metadata": {},
   "source": [
    "If we wanted to define global variables from within our function, we can do so using `set` (call-by-name) or double colon assignment `::`, provided there is no local variable with the same name."
   ]
  },
  {
   "cell_type": "code",
   "execution_count": 65,
   "metadata": {},
   "outputs": [
    {
     "data": {
      "text/plain": [
       "`.\n"
      ]
     },
     "execution_count": 65,
     "metadata": {},
     "output_type": "execute_result"
    },
    {
     "data": {
      "text/plain": [
       "47\n"
      ]
     },
     "execution_count": 65,
     "metadata": {},
     "output_type": "execute_result"
    },
    {
     "data": {
      "text/plain": [
       "74\n"
      ]
     },
     "execution_count": 65,
     "metadata": {},
     "output_type": "execute_result"
    }
   ],
   "source": [
    "delete b, c from `.  //clearing b and c from global scope \n",
    "{`b set 47;c::74;}[] // We can see both b & c are defined outside the function after execution\n",
    "b\n",
    "c"
   ]
  },
  {
   "cell_type": "markdown",
   "metadata": {},
   "source": [
    "If you try to use `::` to set a global variable of the same name as a local variable, then you only succeed in updating the local scope. In the next example we see local-global name collision using `::` which doesn't throw errors"
   ]
  },
  {
   "cell_type": "code",
   "execution_count": 66,
   "metadata": {},
   "outputs": [
    {
     "data": {
      "text/plain": [
       "70\n"
      ]
     },
     "execution_count": 66,
     "metadata": {},
     "output_type": "execute_result"
    },
    {
     "data": {
      "text/plain": [
       "7\n"
      ]
     },
     "execution_count": 66,
     "metadata": {},
     "output_type": "execute_result"
    }
   ],
   "source": [
    "/setting b:6 globally\n",
    "b:6\n",
    "/assigning b:7 globally\n",
    "f:{b::7; x*b}\n",
    "\n",
    "f[10] //x*b = 10*7 = 70\n",
    "\n",
    "/b:7 assigned globally\n",
    "b     // using :: (no local-global name collision): assign successfully as global"
   ]
  },
  {
   "cell_type": "code",
   "execution_count": 68,
   "metadata": {},
   "outputs": [
    {
     "data": {
      "text/plain": [
       "98\n"
      ]
     },
     "execution_count": 68,
     "metadata": {},
     "output_type": "execute_result"
    },
    {
     "data": {
      "text/plain": [
       "6\n"
      ]
     },
     "execution_count": 68,
     "metadata": {},
     "output_type": "execute_result"
    }
   ],
   "source": [
    "/setting b:6 globally\n",
    "b:6                  \n",
    "/setting b:42 locally, attempt to set b::x globally but unable to due to collision, only sets it locally\n",
    "f:{b:42; b::x; b}\n",
    "/b:42 locally, b:98 locally(unable to set globally), output of b is then 98\n",
    "f[98]\n",
    "/b remains as 6\n",
    "b      // using :: (local-global name collision): assigns the local, not the global "
   ]
  },
  {
   "cell_type": "markdown",
   "metadata": {
    "solution2": "shown",
    "solution2_first": true
   },
   "source": [
    "What would happen in the above example if we used `set` to define the global variable from inside the function call instead of using `::` ?"
   ]
  },
  {
   "cell_type": "code",
   "execution_count": 67,
   "metadata": {
    "solution2": "shown"
   },
   "outputs": [
    {
     "data": {
      "text/plain": [
       "42\n"
      ]
     },
     "execution_count": 67,
     "metadata": {},
     "output_type": "execute_result"
    },
    {
     "data": {
      "text/plain": [
       "98\n"
      ]
     },
     "execution_count": 67,
     "metadata": {},
     "output_type": "execute_result"
    }
   ],
   "source": [
    "/resetting b:6 globally\n",
    "b:6                  \n",
    "/setting b:42 locally, setting b set x globally and doesn't overwrite the local variable\n",
    "f:{b:42; `b set x; b}\n",
    "\n",
    "/b:42 locally, b:98 set globally, output of function is local variable b is 42 \n",
    "f[98]\n",
    "/b globally changes to 98\n",
    "b      // using set assigns the global"
   ]
  },
  {
   "cell_type": "markdown",
   "metadata": {
    "solution2": "hidden",
    "solution2_first": true
   },
   "source": [
    "##### Exercise \n",
    "\n",
    "Create a function that creates a global variable `LAST_CALLED` which stores the time that the function was last called at. \n",
    "\n",
    "This function should take two inputs, and return the result of multiplying them together."
   ]
  },
  {
   "cell_type": "code",
   "execution_count": null,
   "metadata": {
    "solution2": "hidden"
   },
   "outputs": [],
   "source": [
    "globalFunc:{LAST_CALLED::.z.t;x*y} //setting the global value to current time\n",
    "\n",
    "globalFunc[2;3] //calling the new function\n",
    "LAST_CALLED //inspecting last_called"
   ]
  },
  {
   "cell_type": "code",
   "execution_count": 71,
   "metadata": {},
   "outputs": [
    {
     "data": {
      "text/plain": [
       "10\n"
      ]
     },
     "execution_count": 71,
     "metadata": {},
     "output_type": "execute_result"
    },
    {
     "data": {
      "text/plain": [
       "12:40:53.307\n"
      ]
     },
     "execution_count": 71,
     "metadata": {},
     "output_type": "execute_result"
    }
   ],
   "source": [
    "//your answer here\n",
    "fun1:{[x;y]LAST_CALLED::.z.t;x*y}\n",
    "fun1[2;5]\n",
    "LAST_CALLED"
   ]
  },
  {
   "cell_type": "markdown",
   "metadata": {},
   "source": [
    "# Projections \n",
    "\n",
    "A projection is created by passing a function less than it's total required arguments. It is used when we want to keep one or more of the arguments constant."
   ]
  },
  {
   "cell_type": "markdown",
   "metadata": {},
   "source": [
    "## Creating Projections\n",
    "\n",
    "Let's take the example of the addition operator, `+`, which takes 2 arguments. If we want to create a projection from the `+` operator, we must pass in 1 argument as opposed to 2."
   ]
  },
  {
   "cell_type": "code",
   "execution_count": 73,
   "metadata": {},
   "outputs": [
    {
     "data": {
      "text/plain": [
       "+[2]\n"
      ]
     },
     "execution_count": 73,
     "metadata": {},
     "output_type": "execute_result"
    },
    {
     "data": {
      "text/plain": [
       "3 4 6 5.2\n"
      ]
     },
     "execution_count": 73,
     "metadata": {},
     "output_type": "execute_result"
    }
   ],
   "source": [
    "addTwo:2+ //creating a projection - binding the first input to be 2 \n",
    "addTwo\n",
    "addTwo 1 2 4 3.2"
   ]
  },
  {
   "cell_type": "markdown",
   "metadata": {},
   "source": [
    "##### Using a primitive operator\n",
    "\n",
    "Looking at creating a projection from a primative operator, let's take the following as an example:"
   ]
  },
  {
   "cell_type": "code",
   "execution_count": 74,
   "metadata": {},
   "outputs": [
    {
     "data": {
      "text/plain": [
       "14\n"
      ]
     },
     "execution_count": 74,
     "metadata": {},
     "output_type": "execute_result"
    },
    {
     "data": {
      "text/plain": [
       "14\n"
      ]
     },
     "execution_count": 74,
     "metadata": {},
     "output_type": "execute_result"
    }
   ],
   "source": [
    "9+5                    // normal operation of + using infix notation\n",
    "+[9;5]                 // can also be called with square bracket notation, passing in 2 arguments"
   ]
  },
  {
   "cell_type": "markdown",
   "metadata": {},
   "source": [
    "If we wanted to create a new function that would add 9 to each argument passed to the function, we could create a projection like follows:"
   ]
  },
  {
   "cell_type": "code",
   "execution_count": 75,
   "metadata": {},
   "outputs": [
    {
     "data": {
      "text/plain": [
       "+[9]\n"
      ]
     },
     "execution_count": 75,
     "metadata": {},
     "output_type": "execute_result"
    },
    {
     "data": {
      "text/plain": [
       "+[9]\n"
      ]
     },
     "execution_count": 75,
     "metadata": {},
     "output_type": "execute_result"
    }
   ],
   "source": [
    "add9a:9+                  //using infix notation\n",
    "add9b:+[9]               //using the square bracket notation\n",
    "add9a\n",
    "add9b"
   ]
  },
  {
   "cell_type": "markdown",
   "metadata": {},
   "source": [
    "##### Creating a projection using a lambda \n",
    "\n",
    " What happens if we have a lambda that we would like create a projection from ?"
   ]
  },
  {
   "cell_type": "code",
   "execution_count": 78,
   "metadata": {},
   "outputs": [
    {
     "data": {
      "text/plain": [
       "{x+y}[4]\n"
      ]
     },
     "execution_count": 78,
     "metadata": {},
     "output_type": "execute_result"
    },
    {
     "data": {
      "text/plain": [
       "14\n"
      ]
     },
     "execution_count": 78,
     "metadata": {},
     "output_type": "execute_result"
    }
   ],
   "source": [
    "add:{x+y}\n",
    "add4:add 4             //calling a dyadic function with one argument creates a projection\n",
    "add4\n",
    "add4 10"
   ]
  },
  {
   "cell_type": "markdown",
   "metadata": {},
   "source": [
    "##### Projecting other arguments\n",
    "Until now, we have only projected the first argument of a function - however we can project any argument in q! \n",
    "\n",
    "We can show how this can be done using the primitive operator `%` to create a projection that will half each argument passed:"
   ]
  },
  {
   "cell_type": "code",
   "execution_count": 78,
   "metadata": {},
   "outputs": [
    {
     "ename": "\u001b[0;31mparse error\u001b[0m",
     "evalue": "\u001b[0;31m%\u001b[0m",
     "output_type": "error",
     "traceback": [
      "\u001b[0;31mparse error\u001b[0m",
      "\u001b[0;31m%\u001b[0m"
     ]
    }
   ],
   "source": [
    "half:%2 // infix notation - in this case, y is the argument that we are projecting so this errors"
   ]
  },
  {
   "cell_type": "markdown",
   "metadata": {},
   "source": [
    "We have to use square bracket notation if we want to project arguments that aren't the first argument. We do this in a similar way to index elision. "
   ]
  },
  {
   "cell_type": "code",
   "execution_count": 79,
   "metadata": {},
   "outputs": [
    {
     "data": {
      "text/plain": [
       "1.5\n"
      ]
     },
     "execution_count": 79,
     "metadata": {},
     "output_type": "execute_result"
    }
   ],
   "source": [
    "half:%[;2]  // to create a projection where the second argument is held constant, simply omit the first argument\n",
    "half 3"
   ]
  },
  {
   "cell_type": "markdown",
   "metadata": {
    "solution2": "shown",
    "solution2_first": true
   },
   "source": [
    "##### Exercise  \n",
    "Create a projection called `modSeven` that calculates the input modulo 7. \n",
    "\n",
    "Check the projection with an input 15"
   ]
  },
  {
   "cell_type": "code",
   "execution_count": null,
   "metadata": {
    "solution2": "shown"
   },
   "outputs": [],
   "source": [
    "modSeven:mod[;7]\n",
    "modSeven 15 //checking it works"
   ]
  },
  {
   "cell_type": "code",
   "execution_count": 80,
   "metadata": {},
   "outputs": [
    {
     "data": {
      "text/plain": [
       "1\n"
      ]
     },
     "execution_count": 80,
     "metadata": {},
     "output_type": "execute_result"
    }
   ],
   "source": [
    "// write your projection here\n",
    "modSeven:mod[;7]\n",
    "modSeven 15"
   ]
  },
  {
   "cell_type": "markdown",
   "metadata": {},
   "source": [
    "## Applying projections\n",
    "Let's take a look at the projections that we created in the previous section `add9` and `add4`."
   ]
  },
  {
   "cell_type": "code",
   "execution_count": 81,
   "metadata": {},
   "outputs": [
    {
     "data": {
      "text/plain": [
       "+[9]\n"
      ]
     },
     "execution_count": 81,
     "metadata": {},
     "output_type": "execute_result"
    },
    {
     "data": {
      "text/plain": [
       "{x+y}[4]\n"
      ]
     },
     "execution_count": 81,
     "metadata": {},
     "output_type": "execute_result"
    }
   ],
   "source": [
    "add9a\n",
    "add4"
   ]
  },
  {
   "cell_type": "code",
   "execution_count": 82,
   "metadata": {},
   "outputs": [
    {
     "data": {
      "text/plain": [
       "19\n"
      ]
     },
     "execution_count": 82,
     "metadata": {},
     "output_type": "execute_result"
    },
    {
     "data": {
      "text/plain": [
       "14\n"
      ]
     },
     "execution_count": 82,
     "metadata": {},
     "output_type": "execute_result"
    },
    {
     "data": {
      "text/plain": [
       "19 29 39\n"
      ]
     },
     "execution_count": 82,
     "metadata": {},
     "output_type": "execute_result"
    },
    {
     "data": {
      "text/plain": [
       "14 24 34\n"
      ]
     },
     "execution_count": 82,
     "metadata": {},
     "output_type": "execute_result"
    }
   ],
   "source": [
    "add9a 10    // we can now re-use this projection and pass in a 2nd argument\n",
    "add4 10 \n",
    "add9a 10 20 30 //will work for lists \n",
    "add4 10 20 30"
   ]
  },
  {
   "cell_type": "markdown",
   "metadata": {
    "solution2": "hidden",
    "solution2_first": true
   },
   "source": [
    "##### Exercise \n",
    "Using the projection `modSeven`, apply it to the series 0-10."
   ]
  },
  {
   "cell_type": "code",
   "execution_count": null,
   "metadata": {
    "solution2": "hidden"
   },
   "outputs": [],
   "source": [
    "modSeven til 11 "
   ]
  },
  {
   "cell_type": "code",
   "execution_count": 83,
   "metadata": {},
   "outputs": [
    {
     "data": {
      "text/plain": [
       "0 1 2 3 4 5 6 0 1 2 3\n"
      ]
     },
     "execution_count": 83,
     "metadata": {},
     "output_type": "execute_result"
    }
   ],
   "source": [
    "// write your answer here\n",
    "modSeven til 11"
   ]
  }
 ],
 "metadata": {
  "kernelspec": {
   "display_name": "Q (kdb+)",
   "language": "q",
   "name": "qpk"
  },
  "language_info": {
   "file_extension": ".q",
   "mimetype": "text/x-q",
   "name": "q",
   "version": "3.6.0"
  },
  "toc": {
   "base_numbering": 1,
   "nav_menu": {},
   "number_sections": true,
   "sideBar": true,
   "skip_h1_title": false,
   "title_cell": "Table of Contents",
   "title_sidebar": "Contents",
   "toc_cell": false,
   "toc_position": {
    "height": "calc(100% - 180px)",
    "left": "10px",
    "top": "150px",
    "width": "165px"
   },
   "toc_section_display": true,
   "toc_window_display": true
  }
 },
 "nbformat": 4,
 "nbformat_minor": 4
}
