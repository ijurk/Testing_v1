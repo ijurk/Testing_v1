{
 "cells": [
  {
   "cell_type": "markdown",
   "metadata": {},
   "source": [
    "# Kx Training: Exercises - Functions"
   ]
  },
  {
   "cell_type": "markdown",
   "metadata": {},
   "source": [
    "## Mathematical Functions "
   ]
  },
  {
   "cell_type": "markdown",
   "metadata": {
    "solution2": "hidden",
    "solution2_first": true
   },
   "source": [
    "Create a dyadic function `add` which takes two parameters and adds them <br>\n",
    "\n",
    "Example: \n",
    "\n",
    "    add[10;5]\n",
    "    15"
   ]
  },
  {
   "cell_type": "code",
   "execution_count": null,
   "metadata": {
    "solution2": "hidden"
   },
   "outputs": [],
   "source": [
    "add:{x+y}\n",
    "add[10;5]"
   ]
  },
  {
   "cell_type": "code",
   "execution_count": null,
   "metadata": {},
   "outputs": [],
   "source": [
    "//your answer here"
   ]
  },
  {
   "cell_type": "markdown",
   "metadata": {
    "solution2": "hidden",
    "solution2_first": true
   },
   "source": [
    "Create a dyadic function `res` which is equivalent to : <br>\n",
    "\n",
    "\\begin{equation*}\n",
    "res= - \\frac{y(x+1)^2}{(2(x+1))-1}\n",
    "\\end{equation*}\n",
    "(What is the minimum number of brackets you *have* to use?) <br>\n",
    "\n",
    "Example: \n",
    "\n",
    "    res[2;3]\n",
    "    -5.4"
   ]
  },
  {
   "cell_type": "code",
   "execution_count": null,
   "metadata": {
    "solution2": "hidden"
   },
   "outputs": [],
   "source": [
    "/Use xexp for power and Use % for division;\n",
    "res:{neg (y*(1+x) xexp 2) %-1+2*1+x}\n",
    "res[2;3]"
   ]
  },
  {
   "cell_type": "code",
   "execution_count": null,
   "metadata": {},
   "outputs": [],
   "source": [
    "//your answer here"
   ]
  },
  {
   "cell_type": "markdown",
   "metadata": {
    "solution2": "hidden",
    "solution2_first": true
   },
   "source": [
    "Create a monadic function `isGreaterThan100` that returns a boolean true or false indicating whether the sole argument passed in is greater than or equal to 100\n",
    "\n",
    "Example: \n",
    "\n",
    "    isGreaterThan100[150]\n",
    "    1b\n",
    "    \n",
    "    isGreaterThan100[99]\n",
    "    0b"
   ]
  },
  {
   "cell_type": "code",
   "execution_count": null,
   "metadata": {
    "solution2": "hidden"
   },
   "outputs": [],
   "source": [
    "isGreaterThan100:{x>=100}\n",
    "isGreaterThan100[150]\n",
    "isGreaterThan100[99]"
   ]
  },
  {
   "cell_type": "code",
   "execution_count": null,
   "metadata": {},
   "outputs": [],
   "source": [
    "//your answer here"
   ]
  },
  {
   "cell_type": "markdown",
   "metadata": {
    "solution2": "hidden",
    "solution2_first": true
   },
   "source": [
    "Create a monadic function `isWholeNumber` that returns a boolean indicating whether the sole argument passed is a whole number or not\n",
    "\n",
    " **Note**<br>\n",
    "A whole number in q is one of the following types:\n",
    "* short (-5h)\n",
    "* int (-6h)\n",
    "* long (-7h)\n",
    "\n",
    "Example: \n",
    "\n",
    "    isWholeNumber[4h]\n",
    "    1b\n",
    "    \n",
    "    isWholeNumber[2.1]\n",
    "    0b"
   ]
  },
  {
   "cell_type": "code",
   "execution_count": null,
   "metadata": {
    "solution2": "hidden"
   },
   "outputs": [],
   "source": [
    "isWholeNumber:{type[x] in -5 -6 -7h}\n",
    "isWholeNumber[4h]\n",
    "isWholeNumber[2.1]"
   ]
  },
  {
   "cell_type": "code",
   "execution_count": null,
   "metadata": {},
   "outputs": [],
   "source": [
    "//your answer here"
   ]
  },
  {
   "cell_type": "markdown",
   "metadata": {
    "solution2": "hidden",
    "solution2_first": true
   },
   "source": [
    "Create a dyadic function `whereDivisible` that takes a numeric list and a long as its two arguments and returns the items in the list that are wholly divisible by the long\n",
    "\n",
    "Example: \n",
    "\n",
    "    whereDivisibleBy[1 3 5 6 10 20;5]\n",
    "    5 10 20"
   ]
  },
  {
   "cell_type": "code",
   "execution_count": null,
   "metadata": {
    "solution2": "hidden"
   },
   "outputs": [],
   "source": [
    "whereDivisibleBy:{x where 0=x mod y}\n",
    "whereDivisibleBy[1 3 5 6 10 20;5]"
   ]
  },
  {
   "cell_type": "code",
   "execution_count": null,
   "metadata": {},
   "outputs": [],
   "source": [
    "//your answer here"
   ]
  },
  {
   "cell_type": "markdown",
   "metadata": {
    "solution2": "hidden",
    "solution2_first": true
   },
   "source": [
    "Create a function `roundDown` that can take either a number or a list of numbers as its argument(s) and returns the number(s) rounded down to the next lowest whole number\n",
    "\n",
    "\n",
    "Example:\n",
    "\n",
    "    roundDown[7.8]\n",
    "    7"
   ]
  },
  {
   "cell_type": "code",
   "execution_count": null,
   "metadata": {
    "solution2": "hidden"
   },
   "outputs": [],
   "source": [
    "roundDown:{floor x}\n",
    "roundDown[7.8]"
   ]
  },
  {
   "cell_type": "code",
   "execution_count": null,
   "metadata": {},
   "outputs": [],
   "source": [
    "//your answer here"
   ]
  },
  {
   "cell_type": "markdown",
   "metadata": {
    "heading_collapsed": true
   },
   "source": [
    "## List Manipulation functions"
   ]
  },
  {
   "cell_type": "markdown",
   "metadata": {
    "hidden": true,
    "solution2": "hidden",
    "solution2_first": true
   },
   "source": [
    "Create a monadic function `replaceLastNumber` that replaces the last number of a list of longs with 99<br>\n",
    "\n",
    "Example:\n",
    "\n",
    "    replaceLastNumber[1 2 3 4 5 6]\n",
    "    1 2 3 4 5 99"
   ]
  },
  {
   "cell_type": "code",
   "execution_count": null,
   "metadata": {
    "hidden": true,
    "solution2": "hidden"
   },
   "outputs": [],
   "source": [
    "replaceLastNumber:{@[x;count[x]-1;:;99]}\n",
    "replaceLastNumber[1 2 3 4 5 6]"
   ]
  },
  {
   "cell_type": "code",
   "execution_count": null,
   "metadata": {
    "hidden": true
   },
   "outputs": [],
   "source": [
    "//your answer here"
   ]
  },
  {
   "cell_type": "markdown",
   "metadata": {
    "hidden": true,
    "solution2": "hidden",
    "solution2_first": true
   },
   "source": [
    "Create a monadic function `doubleSecondItem` that accepts a list and returns the list with the second item doubled. \n",
    "\n",
    "Example:\n",
    "\n",
    "    doubleSecondItem[1 2 3 4 5 6]\n",
    "    1 4 3 4 5 6"
   ]
  },
  {
   "cell_type": "code",
   "execution_count": null,
   "metadata": {
    "hidden": true,
    "solution2": "hidden"
   },
   "outputs": [],
   "source": [
    "doubleSecondItem:{@[x;1;{2*x}]} //doubleSecondItem:{@[x;1;2*]} also valid\n",
    "doubleSecondItem[1 2 3 4 5 6]"
   ]
  },
  {
   "cell_type": "code",
   "execution_count": null,
   "metadata": {
    "hidden": true
   },
   "outputs": [],
   "source": [
    "//your answer here"
   ]
  },
  {
   "cell_type": "markdown",
   "metadata": {
    "hidden": true,
    "solution2": "hidden",
    "solution2_first": true
   },
   "source": [
    "Create a monadic function `transpose` that accepts an M x N matrix and returns an N x M matrix\n",
    "\n",
    "Example: \n",
    "\n",
    "    transpose(1 2 3 4;10 20 30 40;100 200 300 400)\n",
    "    1 10 100\n",
    "    2 20 200\n",
    "    3 30 300\n",
    "    4 40 400"
   ]
  },
  {
   "cell_type": "code",
   "execution_count": null,
   "metadata": {
    "hidden": true,
    "solution2": "hidden"
   },
   "outputs": [],
   "source": [
    "transpose:{flip x}\n",
    "transpose(1 2 3 4;10 20 30 40;100 200 300 400)"
   ]
  },
  {
   "cell_type": "code",
   "execution_count": null,
   "metadata": {
    "hidden": true
   },
   "outputs": [],
   "source": [
    "//your answer here"
   ]
  },
  {
   "cell_type": "markdown",
   "metadata": {
    "hidden": true,
    "solution2": "hidden",
    "solution2_first": true
   },
   "source": [
    "Create a dyadic function `getIndexOf` that takes a list and an item in the list as it's two arguments and returns the index of an item in the list\n",
    "\n",
    "Example: \n",
    "\n",
    "    getIndexOf[`john`mike`pat`tim`harry;`pat]\n",
    "    2"
   ]
  },
  {
   "cell_type": "code",
   "execution_count": null,
   "metadata": {
    "hidden": true,
    "solution2": "hidden"
   },
   "outputs": [],
   "source": [
    "getIndexOf:{x?y}\n",
    "getIndexOf[`john`mike`pat`tim`harry;`pat]"
   ]
  },
  {
   "cell_type": "code",
   "execution_count": null,
   "metadata": {
    "hidden": true
   },
   "outputs": [],
   "source": [
    "//your answer here"
   ]
  },
  {
   "cell_type": "markdown",
   "metadata": {
    "heading_collapsed": true
   },
   "source": [
    "## Casting functions"
   ]
  },
  {
   "cell_type": "markdown",
   "metadata": {
    "hidden": true,
    "solution2": "hidden",
    "solution2_first": true
   },
   "source": [
    "Create a triadic function `fromDelimitedString` that takes the following arguments:\n",
    "- delimiter string e.g. \",\"  \"|\" etc\n",
    "- the types that the string should be cast to e.g. \"SJF\" would cast the string into a symbol, long and float respectively \n",
    "- the string itself<br>\n",
    "\n",
    "and returns a list cast to the desired type.\n",
    "\n",
    "Example: \n",
    "\n",
    "    fromDelimitedString[\",\";\"SJF*\";\"JPM,100,4.5,test string\"]\n",
    "    `JPM\n",
    "    100\n",
    "    4.5\n",
    "    \"test string\""
   ]
  },
  {
   "cell_type": "code",
   "execution_count": null,
   "metadata": {
    "hidden": true,
    "solution2": "hidden"
   },
   "outputs": [],
   "source": [
    "fromDelimitedString:{y$x vs z}\n",
    "fromDelimitedString[\",\";\"SJF*\";\"JPM,100,4.5,test string\"]"
   ]
  },
  {
   "cell_type": "code",
   "execution_count": null,
   "metadata": {
    "hidden": true
   },
   "outputs": [],
   "source": [
    "//your answer here"
   ]
  },
  {
   "cell_type": "markdown",
   "metadata": {
    "hidden": true,
    "solution2": "hidden",
    "solution2_first": true
   },
   "source": [
    "Create a dyadic function `toFullName` that accepts a first name and last name (both symbols) as it's arguments which returns a single symbol that is the person's full name consisting of a white space between the first and last names.\n",
    "\n",
    "Example of Code:\n",
    "\n",
    "    toFullName[`John;`Murphy]\n",
    "    `John Murphy"
   ]
  },
  {
   "cell_type": "code",
   "execution_count": null,
   "metadata": {
    "hidden": true,
    "solution2": "hidden"
   },
   "outputs": [],
   "source": [
    "toFullName:{`$\" \" sv string (x;y)}\n",
    "toFullName[`John;`Murphy]"
   ]
  },
  {
   "cell_type": "code",
   "execution_count": null,
   "metadata": {
    "hidden": true
   },
   "outputs": [],
   "source": [
    "//your answer here"
   ]
  },
  {
   "cell_type": "markdown",
   "metadata": {
    "hidden": true,
    "solution2": "hidden",
    "solution2_first": true
   },
   "source": [
    "Create a monadic function `roundToNearest` that takes a numeric atom or list (any numeric types) and returns the number(s) rounded to the nearest whole number(s), as type long.\n",
    "\n",
    "Example of Code:\n",
    "\n",
    "    roundToNearest 4.1 4.3 4.5 4.8 5.0\n",
    "    4 4 5 5 5"
   ]
  },
  {
   "cell_type": "code",
   "execution_count": null,
   "metadata": {
    "hidden": true,
    "solution2": "hidden"
   },
   "outputs": [],
   "source": [
    "roundToNearest:{`long$x}\n",
    "roundToNearest 4.1 4.3 4.5 4.8 5.0"
   ]
  },
  {
   "cell_type": "code",
   "execution_count": null,
   "metadata": {
    "hidden": true
   },
   "outputs": [],
   "source": [
    "//your answer here"
   ]
  },
  {
   "cell_type": "markdown",
   "metadata": {
    "hidden": true,
    "solution2": "hidden",
    "solution2_first": true
   },
   "source": [
    "Create a monadic function `parsePath` that takes a full q filepath (as a string) [\":/mount/folder/file.txt\"] and returns the directory and file (as strings)\n",
    "\n",
    "Example of Code:\n",
    "\n",
    "    parsePath[\":/mount/folder/file.txt\"]\n",
    "    \":/mount/folder\"\n",
    "    \"file.txt\""
   ]
  },
  {
   "cell_type": "code",
   "execution_count": null,
   "metadata": {
    "hidden": true,
    "solution2": "hidden"
   },
   "outputs": [],
   "source": [
    "parsePath:{string ` vs hsym`$x}\n",
    "parsePath[\":/mount/folder/file.txt\"]"
   ]
  },
  {
   "cell_type": "code",
   "execution_count": null,
   "metadata": {
    "hidden": true
   },
   "outputs": [],
   "source": [
    "//your answer here"
   ]
  }
 ],
 "metadata": {
  "kernelspec": {
   "display_name": "Q (kdb+)",
   "language": "q",
   "name": "qpk"
  },
  "language_info": {
   "file_extension": ".q",
   "mimetype": "text/x-q",
   "name": "q",
   "version": "3.6.0"
  },
  "toc": {
   "base_numbering": 1,
   "nav_menu": {},
   "number_sections": true,
   "sideBar": true,
   "skip_h1_title": false,
   "title_cell": "Table of Contents",
   "title_sidebar": "Contents",
   "toc_cell": false,
   "toc_position": {},
   "toc_section_display": true,
   "toc_window_display": true
  }
 },
 "nbformat": 4,
 "nbformat_minor": 4
}
