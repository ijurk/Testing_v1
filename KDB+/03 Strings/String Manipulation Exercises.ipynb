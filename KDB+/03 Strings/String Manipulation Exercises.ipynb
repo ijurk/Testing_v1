{
 "cells": [
  {
   "cell_type": "markdown",
   "metadata": {},
   "source": [
    "# Kx Training: Exercises - String Manipulation"
   ]
  },
  {
   "cell_type": "markdown",
   "metadata": {},
   "source": [
    "## Creation and indexing"
   ]
  },
  {
   "cell_type": "markdown",
   "metadata": {
    "solution2": "hidden",
    "solution2_first": true
   },
   "source": [
    "Return tomorrow's date as a string \n",
    "\n",
    "Example : \n",
    "\n",
    "    From 2020.01.01\n",
    "    To \"2020.01.01\""
   ]
  },
  {
   "cell_type": "code",
   "execution_count": null,
   "metadata": {
    "solution2": "hidden"
   },
   "outputs": [],
   "source": [
    "string .z.D+1"
   ]
  },
  {
   "cell_type": "code",
   "execution_count": null,
   "metadata": {},
   "outputs": [],
   "source": [
    " //your answer here"
   ]
  },
  {
   "cell_type": "markdown",
   "metadata": {
    "solution2": "hidden",
    "solution2_first": true
   },
   "source": [
    "Get `“o”` from `“hello”` in as many different ways as you can using different q functions"
   ]
  },
  {
   "cell_type": "code",
   "execution_count": null,
   "metadata": {
    "solution2": "hidden"
   },
   "outputs": [],
   "source": [
    "\"hello\" 4\n",
    "\"hello\"[4]\n",
    "\"hello\" \"hello\" ss \"o\"      //using ss to get index of \"o\"\n",
    "last \"hello\"                //using last to get the last character in the list\n",
    "\"hello\" where \"hello\" =\"o\"  //using where to find the indexes = \"o\", or in \"o\", or \"hello\"?\"o\""
   ]
  },
  {
   "cell_type": "code",
   "execution_count": null,
   "metadata": {},
   "outputs": [],
   "source": [
    " //your answer here"
   ]
  },
  {
   "cell_type": "markdown",
   "metadata": {
    "solution2": "hidden",
    "solution2_first": true
   },
   "source": [
    "For the string `\"kdb plus is fun\"` <br>\n",
    "\n",
    "- Get the indices of blank spaces <br>"
   ]
  },
  {
   "cell_type": "code",
   "execution_count": null,
   "metadata": {
    "solution2": "hidden"
   },
   "outputs": [],
   "source": [
    "a: \"kdb plus is fun\"\n",
    "null a         //a null character is \" \"\n",
    "where null a   \n",
    "where a=\" \"    //can be explicit"
   ]
  },
  {
   "cell_type": "code",
   "execution_count": null,
   "metadata": {},
   "outputs": [],
   "source": [
    " //your answer here"
   ]
  },
  {
   "cell_type": "markdown",
   "metadata": {
    "solution2": "hidden",
    "solution2_first": true
   },
   "source": [
    "- Get the indices of non-blank spaces"
   ]
  },
  {
   "cell_type": "code",
   "execution_count": null,
   "metadata": {
    "solution2": "hidden"
   },
   "outputs": [],
   "source": [
    "where not null a"
   ]
  },
  {
   "cell_type": "code",
   "execution_count": null,
   "metadata": {},
   "outputs": [],
   "source": [
    " //your answer here"
   ]
  },
  {
   "cell_type": "markdown",
   "metadata": {},
   "source": [
    "## String Functions"
   ]
  },
  {
   "cell_type": "markdown",
   "metadata": {
    "solution2": "hidden",
    "solution2_first": true
   },
   "source": [
    "Using the string `\"kdb plus is fun\"`, replace the blank spaces in the sentence with `“_”` so it reads `“kdb_plus_is_fun”` <br>"
   ]
  },
  {
   "cell_type": "code",
   "execution_count": null,
   "metadata": {
    "solution2": "hidden"
   },
   "outputs": [],
   "source": [
    "a:\"kdb plus is fun\"\n",
    "ssr[a;\" \";\"_\"]  //string; search ; and replace"
   ]
  },
  {
   "cell_type": "code",
   "execution_count": null,
   "metadata": {},
   "outputs": [],
   "source": [
    " //your answer here"
   ]
  },
  {
   "cell_type": "markdown",
   "metadata": {
    "solution2": "hidden",
    "solution2_first": true
   },
   "source": [
    "Using the string `\"kdb plus is fun\"`, return a 4 item list of strings: <code>dList:(\"kdb\";\"plus\";\"is\";\"fun\")</code> <br>"
   ]
  },
  {
   "cell_type": "code",
   "execution_count": null,
   "metadata": {
    "solution2": "hidden"
   },
   "outputs": [],
   "source": [
    "show dList:\" \" vs a  //vector string - splitting on \" \""
   ]
  },
  {
   "cell_type": "code",
   "execution_count": null,
   "metadata": {},
   "outputs": [],
   "source": [
    " //your answer here"
   ]
  },
  {
   "cell_type": "markdown",
   "metadata": {
    "solution2": "hidden",
    "solution2_first": true
   },
   "source": [
    "Given the list of strings `dList`, create the string `“Kdb Plus Is Fun”` – note the first letters in the list are lowercase but in the result are uppercase.  \n",
    "\n",
    "Can you do this using the string `\"kdb_plus_is_fun\"`? <br>"
   ]
  },
  {
   "cell_type": "code",
   "execution_count": null,
   "metadata": {
    "solution2": "hidden"
   },
   "outputs": [],
   "source": [
    "dList[;0]:upper dList[;0]  //updating the first index of each list\n",
    "\" \"sv dList            //joining each string with spaces between"
   ]
  },
  {
   "cell_type": "code",
   "execution_count": null,
   "metadata": {
    "solution2": "hidden"
   },
   "outputs": [],
   "source": [
    "//if we were starting from the original string \n",
    "show a:\"kdb_plus_is_fun\"\n",
    "show inds: 0,1+ where a=\"_\"  //first index and then the first character after spaces\n",
    "show a:@[a;inds;upper]\n",
    "show ssr[a;\"_\";\" \"]"
   ]
  },
  {
   "cell_type": "code",
   "execution_count": null,
   "metadata": {
    "solution2": "hidden"
   },
   "outputs": [],
   "source": [
    "//all on one line together\n",
    "show a:\"kdb_plus_is_fun\"\n",
    "ssr[;\"_\";\" \"] @[a;0,1+where a=\"_\";upper]"
   ]
  },
  {
   "cell_type": "code",
   "execution_count": null,
   "metadata": {},
   "outputs": [],
   "source": [
    " //your answer here"
   ]
  },
  {
   "cell_type": "markdown",
   "metadata": {
    "solution2": "hidden",
    "solution2_first": true
   },
   "source": [
    "Convert the following string to be all in lowercase `\"lOwErCaSe\"` "
   ]
  },
  {
   "cell_type": "code",
   "execution_count": null,
   "metadata": {
    "solution2": "hidden"
   },
   "outputs": [],
   "source": [
    "lower \"lOwErCaSe\""
   ]
  },
  {
   "cell_type": "code",
   "execution_count": null,
   "metadata": {},
   "outputs": [],
   "source": [
    " //your answer here"
   ]
  },
  {
   "cell_type": "markdown",
   "metadata": {
    "solution2": "hidden",
    "solution2_first": true
   },
   "source": [
    "Remove the excess spaces at the end of this string but keep the space at the start `\"   Abc         \"` "
   ]
  },
  {
   "cell_type": "code",
   "execution_count": null,
   "metadata": {
    "solution2": "hidden"
   },
   "outputs": [],
   "source": [
    "rtrim \"   Abc         \""
   ]
  },
  {
   "cell_type": "code",
   "execution_count": null,
   "metadata": {},
   "outputs": [],
   "source": [
    " //your answer here"
   ]
  },
  {
   "cell_type": "markdown",
   "metadata": {
    "solution2": "hidden",
    "solution2_first": true
   },
   "source": [
    "Create the string `\"NEWRY\"` from the string `\"     newry    \"` using string manipulation."
   ]
  },
  {
   "cell_type": "code",
   "execution_count": null,
   "metadata": {
    "solution2": "hidden"
   },
   "outputs": [],
   "source": [
    "upper trim \"     newry    \""
   ]
  },
  {
   "cell_type": "code",
   "execution_count": null,
   "metadata": {},
   "outputs": [],
   "source": [
    " //your answer here"
   ]
  },
  {
   "cell_type": "markdown",
   "metadata": {},
   "source": [
    "## String Comparison and Basic Regex"
   ]
  },
  {
   "cell_type": "markdown",
   "metadata": {
    "solution2": "hidden",
    "solution2_first": true
   },
   "source": [
    "Using an in-built operator, find out if the following strings are all capitalized:  \n",
    "+ \"a\"\n",
    "+ \"aaB\"\n",
    "+ \"BBB\"\n",
    "+ \"ABC_123\"\n",
    "\n",
    "If the string is capitalized, then it should return `1b`"
   ]
  },
  {
   "cell_type": "code",
   "execution_count": null,
   "metadata": {
    "solution2": "hidden"
   },
   "outputs": [],
   "source": [
    "\"a\"~upper \"a\"\n",
    "\"aaB\"~upper \"aaB\"\n",
    "\"BBB\"~upper \"BBB\"\n",
    "\"ABC_123\"~upper \"ABC_123\""
   ]
  },
  {
   "cell_type": "code",
   "execution_count": null,
   "metadata": {},
   "outputs": [],
   "source": [
    " //your answer here"
   ]
  },
  {
   "cell_type": "markdown",
   "metadata": {
    "solution2": "hidden",
    "solution2_first": true
   },
   "source": [
    "Using an in-built operator, find out if the following strings starts with \"abc\"\n",
    "+ \"abcdef\"\n",
    "+ \"bcdabcef\"\n",
    "+ \"kdb\"\n",
    "\n",
    "If the string starts with \"abc\", then it should return `1b`"
   ]
  },
  {
   "cell_type": "code",
   "execution_count": null,
   "metadata": {
    "solution2": "hidden"
   },
   "outputs": [],
   "source": [
    "match: \"abc*\"\n",
    "\"abcdef\" like match\n",
    "\"bcdabcef\" like match\n",
    "\"kdb\" like match"
   ]
  },
  {
   "cell_type": "code",
   "execution_count": null,
   "metadata": {},
   "outputs": [],
   "source": [
    " //your answer here"
   ]
  },
  {
   "cell_type": "markdown",
   "metadata": {
    "solution2": "hidden",
    "solution2_first": true
   },
   "source": [
    "Using an in-built operator, find out if the following strings contain the pattern \"abc\"\n",
    "+ \"abcdef\"\n",
    "+ \"bcdabcef\"\n",
    "+ \"kdb\"\n",
    "\n",
    "\n",
    "If the string contains the pattern \"abc\", then it should return `1b`"
   ]
  },
  {
   "cell_type": "code",
   "execution_count": null,
   "metadata": {
    "solution2": "hidden"
   },
   "outputs": [],
   "source": [
    "match: \"*abc*\"         //wildcard either side\n",
    "\"abcdef\" like match\n",
    "\"bcdabcef\" like match\n",
    "\"kdb\" like match"
   ]
  },
  {
   "cell_type": "code",
   "execution_count": null,
   "metadata": {},
   "outputs": [],
   "source": [
    "//your answer here "
   ]
  },
  {
   "cell_type": "markdown",
   "metadata": {
    "solution2": "hidden",
    "solution2_first": true
   },
   "source": [
    "Using an in-built operator, find out if the following strings contain numbers:\n",
    "\n",
    "* \"abc1def\"\n",
    "* \"bcdabcef\"\n",
    "* \"kdb4.0\"\n",
    "\n",
    "If the string contains numbers, then it should return `1b`"
   ]
  },
  {
   "cell_type": "code",
   "execution_count": null,
   "metadata": {
    "solution2": "hidden"
   },
   "outputs": [],
   "source": [
    "//the regex way\n",
    "match: \"*[0-9]*\"\n",
    "\"abc1def\" like match\n",
    "\"bcdabcef\" like match\n",
    "\"kdb4.0\" like match"
   ]
  },
  {
   "cell_type": "code",
   "execution_count": null,
   "metadata": {
    "solution2": "hidden"
   },
   "outputs": [],
   "source": [
    "//the string comparison way \n",
    ".Q.n    //utility functon that stores all the numbers\n",
    "any \"abc1def\" in .Q.n"
   ]
  },
  {
   "cell_type": "code",
   "execution_count": null,
   "metadata": {},
   "outputs": [],
   "source": [
    "//your answer here "
   ]
  },
  {
   "cell_type": "markdown",
   "metadata": {
    "solution2": "hidden",
    "solution2_first": true
   },
   "source": [
    "Using an in-built operator, find out if the following strings start with a capital letter, and finish with a number:\n",
    "\n",
    "* \"Abc1def\"\n",
    "* \"Bcdabcef67\"\n",
    "* \"kdb4.0\"\n",
    "\n",
    "If the string starts with a capital letter and finish with a number, then it should return `1b`"
   ]
  },
  {
   "cell_type": "code",
   "execution_count": null,
   "metadata": {
    "solution2": "hidden"
   },
   "outputs": [],
   "source": [
    "match: \"[A-Z]*[0-9]\"\n",
    "\"Abc1def\" like match\n",
    "\"Bcdabcef67\" like match\n",
    "\"kdb4.0\" like match"
   ]
  },
  {
   "cell_type": "code",
   "execution_count": null,
   "metadata": {},
   "outputs": [],
   "source": [
    "//your answer here "
   ]
  },
  {
   "cell_type": "markdown",
   "metadata": {},
   "source": [
    "## String Parsing"
   ]
  },
  {
   "cell_type": "markdown",
   "metadata": {
    "solution2": "hidden",
    "solution2_first": true
   },
   "source": [
    "Starting with variable `s` which contains the strings `(\"wK<<<De<<< arB33e &:n\";\"Ia<<< quSe<<<sGREATt!\")`, apply the following manipulations:\n",
    "* Replace all occurrences of \"&:\" with \"o\"\n",
    "* Remove all occurrences of \"<<<\"\n",
    "* Remove all capital letters\n",
    "* Remove all numbers \n",
    "* Combine the two strings with a \" \" between \n",
    "\n",
    "Once these manipulations are applied, store it to a variable called `replace`\n",
    "\n",
    "(Note the order you perform these manipulations doesn't matter)\n",
    "\n",
    "Hint: .Q.A is a utility that stores all the capital letters, .Q.n is a utility that stores all numbers, and .Q.nA stores both capital letters and numbers. These might be useful in your solutions."
   ]
  },
  {
   "cell_type": "code",
   "execution_count": null,
   "metadata": {
    "solution2": "hidden"
   },
   "outputs": [],
   "source": [
    "show s:(\"wK<<<De<<< arB33e &:n\";\"Ia<<< quSe<<<sGREATt!\")"
   ]
  },
  {
   "cell_type": "code",
   "execution_count": null,
   "metadata": {
    "solution2": "hidden"
   },
   "outputs": [],
   "source": [
    "//Replace all occurrences of \"&:\" with \"o\"\n",
    "show s1:ssr[;\"&:\";\"o\"] each s"
   ]
  },
  {
   "cell_type": "code",
   "execution_count": null,
   "metadata": {
    "solution2": "hidden"
   },
   "outputs": [],
   "source": [
    "//Remove all occurrences of \"<<<\"\n",
    "show s2: ssr[;\"<<<\";\"\"] each s1\n",
    "//alternative\n",
    "except[;\"<\"] each s1    //this actually gets rid of all < but they come in threes here"
   ]
  },
  {
   "cell_type": "code",
   "execution_count": null,
   "metadata": {
    "solution2": "hidden"
   },
   "outputs": [],
   "source": [
    "//Remove all capital letters\n",
    "show .Q.A   //a utility that stores the capital letters\n",
    "show s3: except[;.Q.A] each s2"
   ]
  },
  {
   "cell_type": "code",
   "execution_count": null,
   "metadata": {
    "solution2": "hidden"
   },
   "outputs": [],
   "source": [
    "//Remove all numbers\n",
    "show s4: except[;.Q.n] each s3    //similarly .Q.n stores the numbers \n",
    ".Q.n"
   ]
  },
  {
   "cell_type": "code",
   "execution_count": null,
   "metadata": {
    "solution2": "hidden"
   },
   "outputs": [],
   "source": [
    "//Combine the two strings with a \" \" between\n",
    "\" \" sv s4"
   ]
  },
  {
   "cell_type": "code",
   "execution_count": null,
   "metadata": {},
   "outputs": [],
   "source": [
    " //your answer here"
   ]
  },
  {
   "cell_type": "markdown",
   "metadata": {
    "solution2": "hidden",
    "solution2_first": true
   },
   "source": [
    "Given these can be performed in any order - what is the most efficient way to write to reduce the number of operations? "
   ]
  },
  {
   "cell_type": "code",
   "execution_count": null,
   "metadata": {
    "solution2": "hidden"
   },
   "outputs": [],
   "source": [
    "//altogether we can do more efficently by changing the ordering \n",
    "\" \" sv s                         //lets work with the data altogether first and avoid all the eaches!\n",
    "except[;\"<\",.Q.nA] \" \" sv s      //.Q.nA has numbers and Uppercase letters - joining in \"<\" too \n",
    "ssr[;\"&:\";\"o\"] except[;\"<\",.Q.nA] \" \" sv s   //all in one! Final step is to swap \"&:\" for \"o\""
   ]
  },
  {
   "cell_type": "code",
   "execution_count": null,
   "metadata": {},
   "outputs": [],
   "source": [
    "//your answer here"
   ]
  },
  {
   "cell_type": "markdown",
   "metadata": {
    "solution2": "hidden",
    "solution2_first": true
   },
   "source": [
    "Split the string `\"aa/bb/cc/dd\"` where the `\"/\"` occurs, to produce a 4 item list. \n",
    "\n",
    "Example: \n",
    "\n",
    "    From \"this/will/work/too\" \n",
    "    To (\"this\";\"will\";\"work\";\"too\")"
   ]
  },
  {
   "cell_type": "code",
   "execution_count": null,
   "metadata": {
    "solution2": "hidden"
   },
   "outputs": [],
   "source": [
    "(\"/\" vs \"aa/bb/cc/dd\")"
   ]
  },
  {
   "cell_type": "code",
   "execution_count": null,
   "metadata": {},
   "outputs": [],
   "source": [
    " //your answer here"
   ]
  },
  {
   "cell_type": "markdown",
   "metadata": {
    "solution2": "hidden",
    "solution2_first": true
   },
   "source": [
    "Return the filename from this filepath: `\"/mount/folder1/moreFolder/myfile.txt\"`"
   ]
  },
  {
   "cell_type": "code",
   "execution_count": null,
   "metadata": {
    "solution2": "hidden"
   },
   "outputs": [],
   "source": [
    "last \"/\" vs \"/mount/folder1/moreFolder/myfile.txt\""
   ]
  },
  {
   "cell_type": "code",
   "execution_count": null,
   "metadata": {},
   "outputs": [],
   "source": [
    "//your answer here"
   ]
  },
  {
   "cell_type": "markdown",
   "metadata": {
    "solution2": "hidden",
    "solution2_first": true
   },
   "source": [
    "Return the path from this filepath: `\"/mount/folder1/moreFolder/myfile.txt\"`"
   ]
  },
  {
   "cell_type": "code",
   "execution_count": null,
   "metadata": {
    "solution2": "hidden"
   },
   "outputs": [],
   "source": [
    "\"/\" sv -1_ \"/\" vs \"/mount/folder1/moreFolder/myfile.txt\""
   ]
  },
  {
   "cell_type": "code",
   "execution_count": null,
   "metadata": {},
   "outputs": [],
   "source": [
    "//your answer here"
   ]
  }
 ],
 "metadata": {
  "kernelspec": {
   "display_name": "Q (kdb+)",
   "language": "q",
   "name": "qpk"
  },
  "language_info": {
   "file_extension": ".q",
   "mimetype": "text/x-q",
   "name": "q",
   "version": "3.6.0"
  },
  "toc": {
   "base_numbering": 1,
   "nav_menu": {},
   "number_sections": true,
   "sideBar": true,
   "skip_h1_title": false,
   "title_cell": "Table of Contents",
   "title_sidebar": "Contents",
   "toc_cell": false,
   "toc_position": {},
   "toc_section_display": true,
   "toc_window_display": false
  }
 },
 "nbformat": 4,
 "nbformat_minor": 4
}
