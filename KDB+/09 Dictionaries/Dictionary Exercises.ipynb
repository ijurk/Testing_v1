{
 "cells": [
  {
   "cell_type": "markdown",
   "metadata": {},
   "source": [
    "# Dictionary Creation"
   ]
  },
  {
   "cell_type": "markdown",
   "metadata": {
    "solution2": "hidden",
    "solution2_first": true
   },
   "source": [
    "* Create a dictionary called `airportName` with the following key/value pairs: <br>\n",
    "\n",
    "    \tJFK | John F Kennedy\n",
    "    \tDUB | Dublin International\n",
    "    \tLON | London Heathrow "
   ]
  },
  {
   "cell_type": "code",
   "execution_count": null,
   "metadata": {
    "solution2": "hidden"
   },
   "outputs": [],
   "source": [
    "airportName: `JFK`DUB`LON!(\"John F Kennedy\";\"Dublin International\";\"London Heathrow\")\n",
    "airportName "
   ]
  },
  {
   "cell_type": "code",
   "execution_count": null,
   "metadata": {},
   "outputs": [],
   "source": [
    "/write your code"
   ]
  },
  {
   "cell_type": "markdown",
   "metadata": {
    "solution2": "hidden",
    "solution2_first": true
   },
   "source": [
    "* Create a dictionary `dicts` with the following three keys: nums, times, dates.\n",
    "The values for each key should themselves be dictionaries with the following key/value pairs.\n",
    "\n",
    "``` \n",
    "    nums:\n",
    "    1| `one\n",
    "    2| `two\n",
    "    3| `three\n",
    "\n",
    "    times:\n",
    "    12:00| `noon\n",
    "    00:00| `midnight\n",
    "\n",
    "    dates:\n",
    "    2020.04.03| `today\n",
    "    2020.04.02| `yesterday\n",
    "```"
   ]
  },
  {
   "cell_type": "code",
   "execution_count": null,
   "metadata": {
    "solution2": "hidden"
   },
   "outputs": [],
   "source": [
    "nums: 1 2 3!`one`two`three;\n",
    "times: 12:00 00:00!`noon`midnight\n",
    "dates:2020.04.03 2020.04.02!`today`yesterday \n",
    "//it's also ok if you used the current dates: \n",
    "dates: (.z.d;.z.d-1)!`today`yesterday\n",
    "\n",
    "dicts: `nums`times`dates!(nums;times;dates)\n",
    "dicts"
   ]
  },
  {
   "cell_type": "code",
   "execution_count": null,
   "metadata": {},
   "outputs": [],
   "source": [
    "/write your code"
   ]
  },
  {
   "cell_type": "markdown",
   "metadata": {},
   "source": [
    "# Dictionary Retrieval"
   ]
  },
  {
   "cell_type": "markdown",
   "metadata": {
    "solution2": "hidden",
    "solution2_first": true
   },
   "source": [
    "* From the dictionary `dicts`, write code to return the word \\`two"
   ]
  },
  {
   "cell_type": "code",
   "execution_count": null,
   "metadata": {
    "solution2": "hidden"
   },
   "outputs": [],
   "source": [
    "dicts[`nums;2]  //indexing first into the nums dictionary, \n",
    "                    //then indexing again using the key 2 to return the value `two"
   ]
  },
  {
   "cell_type": "code",
   "execution_count": null,
   "metadata": {},
   "outputs": [],
   "source": [
    "/write your code"
   ]
  },
  {
   "cell_type": "markdown",
   "metadata": {
    "solution2": "hidden",
    "solution2_first": true
   },
   "source": [
    "* Use reverse lookup to return yesterday’s date from the `dicts` dictionary."
   ]
  },
  {
   "cell_type": "code",
   "execution_count": null,
   "metadata": {
    "solution2": "hidden"
   },
   "outputs": [],
   "source": [
    "dicts[`dates]?`yesterday  //first we need to look at the dates dictionary, \n",
    "                            //then we reverse lookup the key associated with the value `yesterday"
   ]
  },
  {
   "cell_type": "code",
   "execution_count": null,
   "metadata": {},
   "outputs": [],
   "source": [
    "/write your code"
   ]
  },
  {
   "cell_type": "markdown",
   "metadata": {
    "solution2": "hidden",
    "solution2_first": true
   },
   "source": [
    "* In one execution using the `airportName` dictionary, return the list of airport names corresponding to DUB, LON and SAN "
   ]
  },
  {
   "cell_type": "code",
   "execution_count": null,
   "metadata": {
    "solution2": "hidden"
   },
   "outputs": [],
   "source": [
    "airportName[`DUB`LON`SAN]"
   ]
  },
  {
   "cell_type": "code",
   "execution_count": null,
   "metadata": {},
   "outputs": [],
   "source": [
    "/write your code"
   ]
  },
  {
   "cell_type": "markdown",
   "metadata": {},
   "source": [
    "# Dictionary amendment "
   ]
  },
  {
   "cell_type": "markdown",
   "metadata": {
    "solution2": "hidden",
    "solution2_first": true
   },
   "source": [
    "* Update the value of LON from the `airportName` dictionary to ‘London Stansted’"
   ]
  },
  {
   "cell_type": "code",
   "execution_count": null,
   "metadata": {
    "solution2": "hidden"
   },
   "outputs": [],
   "source": [
    "airportName[`LON]:\"London Stansted\"\n",
    "airportName"
   ]
  },
  {
   "cell_type": "code",
   "execution_count": null,
   "metadata": {},
   "outputs": [],
   "source": [
    "/write your code"
   ]
  },
  {
   "cell_type": "markdown",
   "metadata": {
    "solution2": "hidden",
    "solution2_first": true
   },
   "source": [
    "* Add ‘SAN | San Francisco’ to the `airportName` dictionary"
   ]
  },
  {
   "cell_type": "code",
   "execution_count": null,
   "metadata": {
    "solution2": "hidden"
   },
   "outputs": [],
   "source": [
    "airportName[`SAN]:\"San Francisco\"\n",
    "airportName"
   ]
  },
  {
   "cell_type": "code",
   "execution_count": null,
   "metadata": {},
   "outputs": [],
   "source": [
    "/write your code"
   ]
  },
  {
   "cell_type": "markdown",
   "metadata": {
    "solution2": "hidden",
    "solution2_first": true
   },
   "source": [
    "# Dictionary mapping \n",
    "\n",
    "* Create a dictionary `dictContinents` which has the same format as below:\n",
    " \n",
    "\n",
    "    1 | \"eu\"\n",
    "    2 | \"sa\"\n",
    "    3 | \"us\"\n",
    "    4 | \"as\"\n",
    "     \n",
    "Below is a dictionary `dict` which contains a list of countries with their associated continent as a number.\n",
    "\n",
    "Using these dictionaries, create the following dictionary:\n",
    "\n",
    "    Italy        | \"eu\"\n",
    "    Spain        | \"eu\"\n",
    "    Norway       | \"eu\"\n",
    "    Brazil       | \"sa\"\n",
    "    United States| \"us\"\n",
    "    Yemen        | \"as\"\n",
    "    Mexico       | \"sa\"\n",
    "    Albania      | \"eu\"\n",
    "    Japan        | \"as\"\n",
    "    Australia    | \"\""
   ]
  },
  {
   "cell_type": "code",
   "execution_count": null,
   "metadata": {
    "solution2": "hidden"
   },
   "outputs": [],
   "source": [
    "dictContinents:1 2 3 4!(\"eu\";\"sa\";\"us\";\"as\")\n",
    "newDict:key[dict]!dictContinents value dict\n",
    "newDict"
   ]
  },
  {
   "cell_type": "code",
   "execution_count": null,
   "metadata": {},
   "outputs": [],
   "source": [
    "listofCountries:(\"Italy\";\"Spain\";\"Norway\";\"Brazil\";\"United States\";\"Yemen\";\"Mexico\";\"Albania\";\"Japan\";\"Australia\")\n",
    "L:`$listofCountries\n",
    "show dict:L!1 1 1 2 3 4 2 1 4 5"
   ]
  },
  {
   "cell_type": "code",
   "execution_count": null,
   "metadata": {},
   "outputs": [],
   "source": [
    "/write your code"
   ]
  },
  {
   "cell_type": "markdown",
   "metadata": {
    "solution2": "hidden",
    "solution2_first": true
   },
   "source": [
    "* Fill in any missing values in the new dictionary to \"na\""
   ]
  },
  {
   "cell_type": "code",
   "execution_count": null,
   "metadata": {
    "solution2": "hidden"
   },
   "outputs": [],
   "source": [
    "newDict[where 0=count each newDict]:enlist\"na\""
   ]
  },
  {
   "cell_type": "code",
   "execution_count": null,
   "metadata": {},
   "outputs": [],
   "source": [
    "/write your code"
   ]
  },
  {
   "cell_type": "markdown",
   "metadata": {
    "solution2": "hidden",
    "solution2_first": true
   },
   "source": [
    "# Dictionary within functions\n",
    "\n",
    "* In memory of buzzy fizzes, let's try this exercise: \n",
    "\n",
    "> Write a monadic function that takes an integer input such that it returns the symbol \\`fizz if the number is divisible by 3, \\`buzz if the number is divisible by 5, \\`fizzbuzz if the number is divisible by both 3 and 5 and just returns the number itself otherwise. Pass the numbers 1-100 into this function. \n",
    " \n",
    "    Input: 1 2 3 4 5 6 7… \n",
    "\n",
    "    Output: 1 2 fizz 4 buzz 6 7…  \n"
   ]
  },
  {
   "cell_type": "code",
   "execution_count": null,
   "metadata": {
    "solution2": "hidden"
   },
   "outputs": [],
   "source": [
    "//another way: \n",
    "arg: 1+ til 100 \n",
    "fizzbuzz: {fizz_inds: 0=x mod 3; \n",
    "            buzz_inds: 2*0=x mod 5;\n",
    "            inds: fizz_inds+ buzz_inds ;  //fizzbuzz will be 3 \n",
    "            map: 1 2 3!`fizz`buzz`fizzbuzz;\n",
    "            (`$string x)^map inds    //map the values using the dictionary and then fill nulls with the values \n",
    " } \n",
    "\n",
    "fizzbuzz arg"
   ]
  },
  {
   "cell_type": "code",
   "execution_count": null,
   "metadata": {},
   "outputs": [],
   "source": [
    "/write your code"
   ]
  },
  {
   "cell_type": "markdown",
   "metadata": {
    "heading_collapsed": true,
    "solution2": "hidden",
    "solution2_first": true
   },
   "source": [
    "## Writing Dictionary Functions\n",
    "\n",
    "\n",
    "* Create a function: `createDict`\n",
    "\n",
    "This should be dyadic function that accepts keys and values and returns a dictionary\n",
    "\n",
    "Example of Code:\n",
    "\n",
    "    createDict[\"kdb\";1 2 3]\n",
    "    k| 1\n",
    "    d| 2\n",
    "    b| 3"
   ]
  },
  {
   "cell_type": "code",
   "execution_count": null,
   "metadata": {
    "hidden": true,
    "solution2": "hidden"
   },
   "outputs": [],
   "source": [
    "createDict:{[x;y]x!y}"
   ]
  },
  {
   "cell_type": "code",
   "execution_count": null,
   "metadata": {
    "hidden": true
   },
   "outputs": [],
   "source": [
    "/ write your code here"
   ]
  },
  {
   "cell_type": "code",
   "execution_count": null,
   "metadata": {
    "hidden": true
   },
   "outputs": [],
   "source": [
    "createDict[\"kdb\";1 2 3]  // test your function "
   ]
  },
  {
   "cell_type": "markdown",
   "metadata": {
    "hidden": true,
    "solution2": "hidden",
    "solution2_first": true
   },
   "source": [
    "* Create a function: `countHandles`. This should accept a dictionary as an argument and return the key and the count of each value per key\n",
    "\n",
    "Example of Code:\n",
    "\n",
    "    countHandles`k`d`b!(\"HELLO_WORLD\";`k`d`b;enlist 7)\n",
    "    k| 11\n",
    "    d| 3\n",
    "    b| 1"
   ]
  },
  {
   "cell_type": "code",
   "execution_count": null,
   "metadata": {
    "hidden": true,
    "solution2": "hidden"
   },
   "outputs": [],
   "source": [
    "countHandles:{[x] count each x}"
   ]
  },
  {
   "cell_type": "code",
   "execution_count": null,
   "metadata": {
    "hidden": true
   },
   "outputs": [],
   "source": [
    "/ write your code here"
   ]
  },
  {
   "cell_type": "code",
   "execution_count": null,
   "metadata": {
    "hidden": true
   },
   "outputs": [],
   "source": [
    "countHandles`k`d`b!(\"HELLO_WORLD\";`k`d`b;enlist 7)   // test output!"
   ]
  },
  {
   "cell_type": "markdown",
   "metadata": {
    "hidden": true,
    "solution2": "hidden",
    "solution2_first": true
   },
   "source": [
    "* Create a function: `removeHandles`\n",
    "\n",
    "\n",
    "This accepts two arguments:\n",
    "\n",
    "    - a dictionary that has symbols as keys and lists of ints (or longs) for each value (e.g. `trade`quote!(1 2;2 3))\n",
    "    - a long or list of longs \n",
    "\n",
    "The function should return the dictionary with the long or list of longs removed. This type of dictionary is one that you will encounter in tick architecture!\n",
    "\n",
    "Examples of Code:\n",
    "\n",
    "    removeHandles[\"tqb\"!(110 112i;enlist 110i;110 101i);110i]   //using integers in example, should work the same for longs\n",
    "    t| ,112i\n",
    "    q| `int$()\n",
    "    b| ,101i\n",
    "    \n",
    "    removeHandles[\"tqb\"!(110 112i;enlist 110i;110 101i);110 112i]     // should work for list of handles also\n",
    "    t| `int$()\n",
    "q| `int$()\n",
    "    b| ,101i"
   ]
  },
  {
   "cell_type": "code",
   "execution_count": null,
   "metadata": {
    "hidden": true,
    "solution2": "hidden"
   },
   "outputs": [],
   "source": [
    "removeHandles:{x except\\:y}"
   ]
  },
  {
   "cell_type": "code",
   "execution_count": null,
   "metadata": {
    "hidden": true
   },
   "outputs": [],
   "source": [
    "/ write your code here"
   ]
  },
  {
   "cell_type": "code",
   "execution_count": null,
   "metadata": {
    "hidden": true
   },
   "outputs": [],
   "source": [
    "removeHandles[\"tqb\"!(110 112i;enlist 110i;110 101i);110]   // test output!\n",
    "removeHandles[\"tqb\"!(110 112i;enlist 110i;110 101i);110 112i]  //test output!"
   ]
  },
  {
   "cell_type": "markdown",
   "metadata": {
    "hidden": true,
    "solution2": "hidden",
    "solution2_first": true
   },
   "source": [
    "* Create a function `simpleInterst`\n",
    "\n",
    "This accepts a dictionary as an argument which should contain:\n",
    "    - p:principal amount \n",
    "    - r:interest rate per year\n",
    "    - t: time in years \n",
    "\n",
    "This function should return A - the calculated simple interest. The formula can be found [here](https://www.calculatorsoup.com/calculators/financial/simple-interest-plus-principal-calculator.php) `A = P(1 + rt)`"
   ]
  },
  {
   "cell_type": "code",
   "execution_count": null,
   "metadata": {
    "hidden": true,
    "solution2": "hidden"
   },
   "outputs": [],
   "source": [
    "simpleInterest:{[d] d[`p]*(1+d[`r]*d[`t])}\n",
    "d:`p`r`t!(100;0.03;1.)\n",
    "simpleInterest[d]"
   ]
  },
  {
   "cell_type": "code",
   "execution_count": null,
   "metadata": {
    "hidden": true
   },
   "outputs": [],
   "source": [
    "/ write your code here"
   ]
  }
 ],
 "metadata": {
  "kernelspec": {
   "display_name": "Q (kdb+)",
   "language": "q",
   "name": "qpk"
  },
  "language_info": {
   "file_extension": ".q",
   "mimetype": "text/x-q",
   "name": "q",
   "version": "3.6.0"
  },
  "toc": {
   "base_numbering": 1,
   "nav_menu": {},
   "number_sections": true,
   "sideBar": true,
   "skip_h1_title": false,
   "title_cell": "Table of Contents",
   "title_sidebar": "Contents",
   "toc_cell": false,
   "toc_position": {},
   "toc_section_display": true,
   "toc_window_display": false
  }
 },
 "nbformat": 4,
 "nbformat_minor": 4
}
