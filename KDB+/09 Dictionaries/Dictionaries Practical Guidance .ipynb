{
 "cells": [
  {
   "cell_type": "markdown",
   "metadata": {},
   "source": [
    "<img src=\"../qbies.png\" style=\"width: 100px;padding-right:5px;padding-top:1px;padding-left:5px;\" align=\"left\"/>\n",
    "\n",
    "   # Dictionaries Practical Guidance"
   ]
  },
  {
   "cell_type": "markdown",
   "metadata": {
    "heading_collapsed": true
   },
   "source": [
    "# Dictionary lookups \n",
    "Associations and dictionaries are useful structures for storing lookup, static or rule type information. "
   ]
  },
  {
   "cell_type": "markdown",
   "metadata": {
    "hidden": true
   },
   "source": [
    "For example, let’s say we have a list of incoming bids and we wish to implement the following simple rule -if the first bid is null, replace this null with 0.0.\n",
    "\n",
    "Below is a list of incomings bids where the first value is null."
   ]
  },
  {
   "cell_type": "code",
   "execution_count": null,
   "metadata": {
    "hidden": true,
    "scrolled": true
   },
   "outputs": [],
   "source": [
    "bids:0n 1 2 3f\n",
    "if[null first bids;bids[0]:0.0]  /if initial bid is null, replace with 0\n",
    "bids"
   ]
  },
  {
   "cell_type": "markdown",
   "metadata": {
    "hidden": true
   },
   "source": [
    "Associations provide an easy way to extend this solution to handle more than one datatype. For example, the following association provides initial values for simple lists of type char, symbol, int and float."
   ]
  },
  {
   "cell_type": "code",
   "execution_count": null,
   "metadata": {
    "hidden": true,
    "scrolled": true
   },
   "outputs": [],
   "source": [
    "show iv:10 11 6 9h!(\"f\";`first;0i;0.0) //default values for 4 datatypes"
   ]
  },
  {
   "cell_type": "markdown",
   "metadata": {
    "hidden": true
   },
   "source": [
    "Assume the variable `data` is the list of incoming data. At runtime,`data` will be of one of these four datatypes.The null replacement expression becomes:"
   ]
  },
  {
   "cell_type": "code",
   "execution_count": null,
   "metadata": {
    "hidden": true,
    "scrolled": true
   },
   "outputs": [],
   "source": [
    "data:``a`c`h /data is a list of symbols\n",
    "if[null first data;data[0]:iv type data]\n",
    "data"
   ]
  },
  {
   "cell_type": "markdown",
   "metadata": {
    "hidden": true
   },
   "source": [
    "This association is easily extendable to all types.\n",
    "\n",
    "This same idea can also be used in other situations. Suppose we have a list of error messages in code format. The association below explains the code:"
   ]
  },
  {
   "cell_type": "code",
   "execution_count": null,
   "metadata": {
    "hidden": true,
    "scrolled": true
   },
   "outputs": [],
   "source": [
    "code:`c`t`o!`CorruptData`TypeMismatch`OutofRange"
   ]
  },
  {
   "cell_type": "markdown",
   "metadata": {
    "hidden": true
   },
   "source": [
    "If we have a list of errors that occurred within a program, it might be useful to decode this so that it is easily readable to a person reviewing the list."
   ]
  },
  {
   "cell_type": "code",
   "execution_count": null,
   "metadata": {
    "hidden": true,
    "scrolled": true
   },
   "outputs": [],
   "source": [
    "errors:`c`o`t`o`o`c`t`t`o`c`c\n",
    "code[errors]"
   ]
  },
  {
   "cell_type": "markdown",
   "metadata": {
    "heading_collapsed": true
   },
   "source": [
    "# Dictionaries & Code readability\n",
    "\n",
    "When dictionaries get large they can become very difficult to read in our code - we can keep our dictionaries \"clear\" by using iterators."
   ]
  },
  {
   "cell_type": "code",
   "execution_count": null,
   "metadata": {
    "hidden": true
   },
   "outputs": [],
   "source": [
    "`is`this`the`real`world`or`is`this`just`fantasy!((\"caught\";\"in a landslide\");`no`escape`from;`reality;2 3 ;(2;2f;2);.z.d;`the`neverending;`story;1;\"!!!!\")"
   ]
  },
  {
   "cell_type": "markdown",
   "metadata": {
    "hidden": true
   },
   "source": [
    "Dictionaries can be generated in a more clear and readable format if we use some tricks - like creating  key-values as pairs first, and then flipping them into two separate lists. We can then use the `.` operator to make it clear we want the lists to be considered the first and second arguments to the `!` operator."
   ]
  },
  {
   "cell_type": "code",
   "execution_count": null,
   "metadata": {
    "hidden": true
   },
   "outputs": [],
   "source": [
    ".[!; flip ((`is;(\"caught\";\"in a landslide\"));\n",
    "            (`this;`no`escape`from);\n",
    "            (`the;`reality);\n",
    "            (`real;2 3);\n",
    "            (`world;(2;2f;2));\n",
    "            (`or;.z.d);\n",
    "            (`is;`the`neverending);\n",
    "            (`this;`story);\n",
    "            (`just;1);\n",
    "            (`fantasy;\"!!!!\"))]"
   ]
  },
  {
   "cell_type": "markdown",
   "metadata": {
    "hidden": true
   },
   "source": [
    "If we move our \"make these lists a dictionary\" operation into a projection of `.` with `!` i.e. `.[!]`, we can avoid having to wrap our whole dictionary lists. In this situation, it is easier to see what dictionary we are trying to generate within the code, i.e without having to output to the console."
   ]
  },
  {
   "cell_type": "code",
   "execution_count": null,
   "metadata": {
    "hidden": true
   },
   "outputs": [],
   "source": [
    "keyVals:    ((`is;(\"caught\";\"in a landslide\"));\n",
    "            (`this;`no`escape`from);\n",
    "            (`the;`reality);\n",
    "            (`real;2 3);\n",
    "            (`world;(2;2f;2));\n",
    "            (`or;.z.d);\n",
    "            (`is;`the`neverending);\n",
    "            (`this;`story);\n",
    "            (`just;1);\n",
    "            (`fantasy;\"!!!!\"))\n",
    "flip keyVals         //our list of (keys;values)\n",
    "\n",
    "//\"make these lists a dictionary\"\n",
    ".[!] flip keyVals"
   ]
  },
  {
   "cell_type": "markdown",
   "metadata": {
    "heading_collapsed": true
   },
   "source": [
    "# Dictionaries as Function input \n",
    "\n",
    "It's good practice to use dictionaries as input to functions when: \n",
    "+ The parameters might change (e.g. two inputs atm, but might need to add more, or remove some) - less updating required in the code base as the function's valence doesn't change.\n",
    "+ The parameters are variable in nature (e.g. sometimes three, sometimes four) - avoid rank errors and unexpected projections \n",
    "+ We want to set default parameter values - can set default parameters more easily using dictionaries \n",
    "+ We have a large number of parameters, exceeding eight even - can't have more than 8 explicit arguments in functions so this avoids that. \n",
    "+ We want improved code readability - it's usually easier to read code where we reference inputs like <code>param[\\`capsSetting]</code> versus `param[2]`."
   ]
  },
  {
   "cell_type": "markdown",
   "metadata": {
    "hidden": true
   },
   "source": [
    "Worked example of a function which checks whether a student passed or not. The function takes a parameter dictionary as input and returns a string which mentions the result."
   ]
  },
  {
   "cell_type": "code",
   "execution_count": null,
   "metadata": {
    "hidden": true
   },
   "outputs": [],
   "source": [
    "checkPassed:{[paramDict]\n",
    "    //check required parameters \n",
    "    requiredParams: `name`result;\n",
    "    if[not all requiredParams in key paramDict;\n",
    "            -2 \"Error: missing required values:\",\",\" sv string requiredParams except key paramDict; \n",
    "            :0b];  //force returning a value of 0b from the function to indicate function failure\n",
    "    //other input checks could be added - e.g. that name and result are of the right format \n",
    "            \n",
    "    //setting default values\n",
    "    defaultParams:.[!] flip ((`passLevel;70);\n",
    "                            (`otherParams;`etc));\n",
    "    \n",
    "    //using dictionary coalescing to combine the passed parameters and our default inputs \n",
    "    params:defaultParams^paramDict;\n",
    "\n",
    "    //checking if the result is above the pass mark\n",
    "    res:params[`result] > params[`passLevel];\n",
    "    //using this result to index into a condition list \n",
    "    pass:$[res;\" did \"; \" did not \"],\"pass,\";\n",
    "\n",
    "    //returning a string indication of whether they passed or failed \n",
    "    \"The participant \",string[params[`name]],pass,\" with a result of:\",string[params[`result]]\n",
    "    \n",
    " }"
   ]
  },
  {
   "cell_type": "markdown",
   "metadata": {
    "hidden": true
   },
   "source": [
    "There is a lot happening in the above function so read through carefully and make sure you understand what each line is doing.\n",
    "\n",
    "Now we have the function defined we can use it to check some results: "
   ]
  },
  {
   "cell_type": "code",
   "execution_count": null,
   "metadata": {
    "hidden": true
   },
   "outputs": [],
   "source": [
    "//passing an empty dictionary alarms that we don't have the right input \n",
    "checkPassed[()!()]           \n",
    "\n",
    "//passing a dictionary with just the required input\n",
    "checkPassed[`name`result!(`rebecca;50)] \n",
    "\n",
    "//passing a dictionary with the required input and an optional parameter - changing the passLevel param\n",
    "checkPassed[`name`result`passLevel!(`rebecca;50;30)]  "
   ]
  },
  {
   "cell_type": "markdown",
   "metadata": {
    "heading_collapsed": true
   },
   "source": [
    "# Why we shouldn't use dot notation \n",
    "In our q-bee note we advise against using dot notation to update or retrieve values from dictionaries - heres why! "
   ]
  },
  {
   "cell_type": "markdown",
   "metadata": {
    "hidden": true
   },
   "source": [
    "Whenever we use dot (`.`) notation we need the dictionary to be both untyped, and global. In general in kdb+/q, any dot notation used is referencing a global value and so will error if this isn't found globally, or in some cases we might be insidiously updating values that we didn't intend.\n",
    "\n",
    "Here's an example of a case where using dot notation won't work: "
   ]
  },
  {
   "cell_type": "code",
   "execution_count": null,
   "metadata": {
    "hidden": true,
    "scrolled": true
   },
   "outputs": [],
   "source": [
    "show d: `a`b`c! 1 2 3;   //not an untyped dictionary\n",
    "d.b                      //errors\n",
    "d.this:2                 //also errors - comment the line above to see"
   ]
  },
  {
   "cell_type": "markdown",
   "metadata": {
    "hidden": true
   },
   "source": [
    "In order for this syntax to work, we change our dictionary to be untyped, and this will now work globally:  "
   ]
  },
  {
   "cell_type": "code",
   "execution_count": null,
   "metadata": {
    "hidden": true,
    "scrolled": true
   },
   "outputs": [],
   "source": [
    "show d: ``a`b`c! (::;1; 2 ;3) ;  //untyped dictionary\n",
    "d.b\n",
    "d.this:2\n",
    "d"
   ]
  },
  {
   "cell_type": "markdown",
   "metadata": {
    "hidden": true
   },
   "source": [
    "This however can lead to some odd behaviour within a function that might not have been intended by the creator: "
   ]
  },
  {
   "cell_type": "code",
   "execution_count": null,
   "metadata": {
    "hidden": true,
    "scrolled": true
   },
   "outputs": [],
   "source": [
    "//defining a value of d globally\n",
    "show d: ``a`b`c! (::;1; 2 ;3) ;\n",
    "\n",
    "\n",
    "{ d: ``a`b`c! (::;6; 6 ;6);\n",
    "    -1 \"Dictionary definition within function:\"; \n",
    "    show d; \n",
    "    -1 \"Dictionary value for `b returned when using dot notation:\",string d.b;\n",
    "    //referencing the global value!! \n",
    "    d.b }[]"
   ]
  },
  {
   "cell_type": "markdown",
   "metadata": {
    "hidden": true
   },
   "source": [
    "<img src=\"../qbies.png\" style=\"width: 50px;padding-right:5px;padding-top:15px;padding-left:5px;\" align=\"left\"/>\n",
    "\n",
    "<p style='color:#273a6e'><i> <b>All of these problems can be avoided!!</b> If we use functional notation (aka indexing notation) all of the above will return the value we expect. We can think of the key values of a dictionary as the indexes in this context.  </i></p>"
   ]
  },
  {
   "cell_type": "code",
   "execution_count": null,
   "metadata": {
    "hidden": true,
    "scrolled": true
   },
   "outputs": [],
   "source": [
    "show d: `a`b`c! 1 2 3;   //not an untyped dictionary\n",
    "show d[`b]                   \n",
    "show d[`this]:2    "
   ]
  },
  {
   "cell_type": "code",
   "execution_count": null,
   "metadata": {
    "hidden": true,
    "scrolled": true
   },
   "outputs": [],
   "source": [
    "show d: ``a`b`c! (::;1; 2 ;3) ;  //untyped dictionary\n",
    "show d[`b]\n",
    "show d[`this]:2\n",
    "show d   "
   ]
  },
  {
   "cell_type": "code",
   "execution_count": null,
   "metadata": {
    "hidden": true,
    "scrolled": true
   },
   "outputs": [],
   "source": [
    "//defining a value of d globally\n",
    "show d: ``a`b`c! (::;1; 2 ;3) ;\n",
    "\n",
    "\n",
    "{ d: ``a`b`c! (::;6; 6 ;6);\n",
    "    -1 \"Dictionary definition within function:\"; \n",
    "    show d; \n",
    "    -1 \"Dictionary value returned when using functional notation:\",string d[`b];\n",
    "    //referencing the within function scope value!! \n",
    "    d[`b] }[]"
   ]
  },
  {
   "cell_type": "markdown",
   "metadata": {
    "hidden": true
   },
   "source": [
    "This doesn't mean you should *never* use dot notation, it's just not best practice. If there is a case in which you need to use it just use with care and remember it references global values and ignores function scope! "
   ]
  },
  {
   "cell_type": "markdown",
   "metadata": {},
   "source": [
    "# Dictionaries and Tables - the link, column dictionaries \n",
    "Dictionaries and tables are intrinsically related - in fact a table is just a list of dictionaries! "
   ]
  },
  {
   "cell_type": "markdown",
   "metadata": {},
   "source": [
    "##### Column dictionaries\n",
    "Column dictionaries are the foundation for tables. They are a special subset of dictionaries where the mapping is from a simple list of symbols to a rectangular list of lists. We can create a table from dictionaries of this format. "
   ]
  },
  {
   "cell_type": "code",
   "execution_count": null,
   "metadata": {},
   "outputs": [],
   "source": [
    "d: `col1`col2`col3!(1 2 2; 7 5 2; `a`b`cc)\n",
    "flip d"
   ]
  },
  {
   "cell_type": "code",
   "execution_count": null,
   "metadata": {},
   "outputs": [],
   "source": [
    "d: string[`col1`col2`col3]!(1 2 2; 7 5 2; `a`b`cc)  //not a symbol list key\n",
    "flip d                                              //therefore can't be interpreted as a table"
   ]
  },
  {
   "cell_type": "markdown",
   "metadata": {},
   "source": [
    "<img src=\"../qbies.png\" style=\"width: 50px;padding-right:5px;padding-top:5px;padding-left:5px;\" align=\"left\"/>\n",
    "\n",
    "<p style='color:#273a6e'><i> We can only <code>flip</code> rectangular dictionaries - i.e. dictionaries where each key  is assigned to lists of the same length.</i></p>\n",
    " "
   ]
  },
  {
   "cell_type": "markdown",
   "metadata": {},
   "source": [
    "Similarly we can `flip` a table to return to a dictionary:"
   ]
  },
  {
   "cell_type": "code",
   "execution_count": null,
   "metadata": {},
   "outputs": [],
   "source": [
    "show t:([]name:`john`steve`rachel;ages:20 31 22) //defining a table\n",
    "flip t"
   ]
  },
  {
   "cell_type": "markdown",
   "metadata": {},
   "source": [
    "We could also have defined the above table from a dictionary as follows: "
   ]
  },
  {
   "cell_type": "code",
   "execution_count": null,
   "metadata": {},
   "outputs": [],
   "source": [
    "t2: `name`ages!(`john`steve`rachel;20 31 22)\n",
    "flip t2\n",
    "t~flip t2   //are these the same?"
   ]
  },
  {
   "cell_type": "markdown",
   "metadata": {},
   "source": [
    "<img src=\"../qbies.png\" style=\"width: 50px;padding-right:5px;padding-top:5px;padding-left:5px;\" align=\"left\"/>\n",
    "\n",
    "<p style='color:#273a6e'><i> Each row in a kdb+/q table is actually a dictionary! This is pretty central to understanding the relationship between tables and dictionaries.</i></p>\n",
    " "
   ]
  },
  {
   "cell_type": "markdown",
   "metadata": {},
   "source": [
    "We can prove this by indexing into a row of our table: "
   ]
  },
  {
   "cell_type": "code",
   "execution_count": null,
   "metadata": {},
   "outputs": [],
   "source": [
    "t[0]     //first row of our table"
   ]
  },
  {
   "cell_type": "markdown",
   "metadata": {},
   "source": [
    "##### Atomic dictionaries  -> Tables\n",
    "A nuance to this, is that tables in kdb+/q require their columns to be lists so if we have an atomic value dictionary we can't `flip` this to a table in the same way: "
   ]
  },
  {
   "cell_type": "code",
   "execution_count": null,
   "metadata": {},
   "outputs": [],
   "source": [
    "d: `a`b!1 2\n",
    "flip d"
   ]
  },
  {
   "cell_type": "markdown",
   "metadata": {},
   "source": [
    "If we remember that a table really is a list of dictionaries, we can create a table from a list of dictionaries (with conforming keys): "
   ]
  },
  {
   "cell_type": "code",
   "execution_count": null,
   "metadata": {},
   "outputs": [],
   "source": [
    "(d;d)     //simple table\n",
    "enlist d  //therefore, enlist our atomic dictionary will create a table!"
   ]
  },
  {
   "cell_type": "markdown",
   "metadata": {
    "heading_collapsed": true
   },
   "source": [
    "# Namespaces"
   ]
  },
  {
   "cell_type": "markdown",
   "metadata": {
    "hidden": true
   },
   "source": [
    "[`Namespaces`](https://code.kx.com/q4m3/12_Workspace_Organization/#120-overview) is the idea of placing a (usually hierarchical) structure on names. Namespacing in q is implemented with dictionaries. A context is a dictionary whose keys are the symbolic names of the variables in the corresponding namespace. The context dictionary associates each variable name with its currently assigned value."
   ]
  },
  {
   "cell_type": "markdown",
   "metadata": {
    "hidden": true
   },
   "source": [
    "A context is a specially formatted q dictionary. Its keys are the symbolic names of the variables it contains; each is associated with the current value of the corresponding variable."
   ]
  },
  {
   "cell_type": "markdown",
   "metadata": {
    "hidden": true
   },
   "source": [
    "The context dictionaries are dictionaries that live in the workspace along with ordinary variables, which have special meaning to q. We can perform operations on them just as with our own dictionaries.\n",
    "\n",
    "When we start a fresh q session, the root dictionary is empty. As with any variable, we can reveal the root context by applying `get` (or `value`) to its name and then applying the utility [`.Q.s1`](https://code.kx.com/q/ref/dotq/#qs1-string-representation) to display its internal form since it is empty."
   ]
  },
  {
   "cell_type": "markdown",
   "metadata": {
    "hidden": true
   },
   "source": [
    "Let's restart our Kernel before doing this."
   ]
  },
  {
   "cell_type": "code",
   "execution_count": null,
   "metadata": {
    "hidden": true
   },
   "outputs": [],
   "source": [
    ".Q.s1  get `."
   ]
  },
  {
   "cell_type": "markdown",
   "metadata": {
    "hidden": true
   },
   "source": [
    "Here we can see all the symbols and their values in the current root namespace."
   ]
  },
  {
   "cell_type": "markdown",
   "metadata": {
    "hidden": true
   },
   "source": [
    "Let's define a variable and a function"
   ]
  },
  {
   "cell_type": "code",
   "execution_count": null,
   "metadata": {
    "hidden": true
   },
   "outputs": [],
   "source": [
    "a:5\n",
    "func : {x+y}"
   ]
  },
  {
   "cell_type": "code",
   "execution_count": null,
   "metadata": {
    "hidden": true
   },
   "outputs": [],
   "source": [
    "get `."
   ]
  },
  {
   "cell_type": "markdown",
   "metadata": {
    "hidden": true
   },
   "source": [
    "The entries in a context dictionary are sorted by name"
   ]
  },
  {
   "cell_type": "markdown",
   "metadata": {
    "hidden": true
   },
   "source": [
    "Things get more interesting when we use namespacing and create a context."
   ]
  },
  {
   "cell_type": "code",
   "execution_count": null,
   "metadata": {
    "hidden": true
   },
   "outputs": [],
   "source": [
    ".foo.bar : 50\n",
    "\n",
    "get `.\n",
    "get `.foo"
   ]
  },
  {
   "cell_type": "markdown",
   "metadata": {
    "hidden": true
   },
   "source": [
    "Observe that the newly created context dictionary for .foo is not physically in the root directory; it is a separate dictionary."
   ]
  },
  {
   "cell_type": "markdown",
   "metadata": {
    "hidden": true
   },
   "source": [
    "<img src=\"../qbies.png\" style=\"width: 50px;padding-right:5px;padding-top:5px;padding-left:5px;\" align=\"left\"/>\n",
    "\n",
    "<p style='color:#273a6e'><i> The significance of the :: in the first entry of the .foo context dictionary is to prevent the value list of the context dictionary from collapsing to a simple list in case all the variables should have values of the same scalar type. This would then prevent subsequent definition of variables of other types in that context.</i></p>\n",
    " \n"
   ]
  },
  {
   "cell_type": "markdown",
   "metadata": {
    "heading_collapsed": true
   },
   "source": [
    "# Advanced - Dictionaries and attributes\n",
    "[Attributes](https://code.kx.com/q4m3/8_Tables/#88-attributes) are metadata (e.g. like tags) in kdb+/q that indicate that the referenced data is in a particular format. When we apply attributes to dictionaries we can achieve some interesting results"
   ]
  },
  {
   "cell_type": "markdown",
   "metadata": {
    "heading_collapsed": true,
    "hidden": true
   },
   "source": [
    "## Sorted attribute - Step function "
   ]
  },
  {
   "cell_type": "markdown",
   "metadata": {
    "hidden": true
   },
   "source": [
    "When we apply a sorted attribute to our dictionary we can use it as a [step function](https://en.wikipedia.org/wiki/Step_function) - namely we can retrieve values from our dictionary that don't have explicit keys. \n",
    "\n",
    "For example, imagine we wanted to know the associated [viscosity of water depending on it's temperature](https://www.engineersedge.com/physics/water__density_viscosity_specific_weight_13146.htm) - we can encode that into a dictionary: "
   ]
  },
  {
   "cell_type": "code",
   "execution_count": null,
   "metadata": {
    "hidden": true
   },
   "outputs": [],
   "source": [
    "show tempVisc: 10 20 30 40 50f! 1.308 1.002 0.7978 0.6531 0.5471\n",
    "tempVisc[10f]\n",
    "tempVisc[15f]"
   ]
  },
  {
   "cell_type": "markdown",
   "metadata": {
    "hidden": true
   },
   "source": [
    "If we apply a sorted attribute to our dictionary, it will becomes a step function:"
   ]
  },
  {
   "cell_type": "code",
   "execution_count": null,
   "metadata": {
    "hidden": true
   },
   "outputs": [],
   "source": [
    "show step: `s#tempVisc\n",
    "step[10f]\n",
    "step[15 35 29.99999f]   //returns the value associated with the largest key that our input exceed\n",
    "                        //aka - it returns the previous \"step\""
   ]
  },
  {
   "cell_type": "markdown",
   "metadata": {
    "heading_collapsed": true,
    "hidden": true
   },
   "source": [
    "## Unique attribute - consistent performance\n",
    "When you know that the keys are unique you can apply the <code>\\`u#</code> attribute to the keys. This will effectively cause the dictionary to be a hash table with the attendant improvement in lookup speed over the default linear lookup."
   ]
  },
  {
   "cell_type": "code",
   "execution_count": null,
   "metadata": {
    "hidden": true
   },
   "outputs": [],
   "source": [
    "(`u#`a`b`c)!10 20 30"
   ]
  }
 ],
 "metadata": {
  "kernelspec": {
   "display_name": "Q (kdb+)",
   "language": "q",
   "name": "qpk"
  },
  "language_info": {
   "file_extension": ".q",
   "mimetype": "text/x-q",
   "name": "q",
   "version": "3.6.0"
  },
  "toc": {
   "base_numbering": 1,
   "nav_menu": {},
   "number_sections": true,
   "sideBar": true,
   "skip_h1_title": false,
   "title_cell": "Table of Contents",
   "title_sidebar": "Contents",
   "toc_cell": false,
   "toc_position": {
    "height": "calc(100% - 180px)",
    "left": "10px",
    "top": "150px",
    "width": "165px"
   },
   "toc_section_display": true,
   "toc_window_display": true
  }
 },
 "nbformat": 4,
 "nbformat_minor": 4
}
