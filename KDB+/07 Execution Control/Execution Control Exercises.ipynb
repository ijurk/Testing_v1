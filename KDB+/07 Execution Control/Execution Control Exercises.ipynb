{
 "cells": [
  {
   "cell_type": "markdown",
   "metadata": {},
   "source": [
    "# Kx Training: Exercises - Execution Control"
   ]
  },
  {
   "cell_type": "markdown",
   "metadata": {
    "heading_collapsed": true
   },
   "source": [
    "## If"
   ]
  },
  {
   "cell_type": "markdown",
   "metadata": {
    "hidden": true,
    "solution2": "hidden",
    "solution2_first": true
   },
   "source": [
    "Create a variable `v` which is a random number between 1 and 100. Write an if statement that will double `a` if it is less than 50.  "
   ]
  },
  {
   "cell_type": "code",
   "execution_count": 12,
   "metadata": {
    "hidden": true,
    "solution2": "hidden"
   },
   "outputs": [
    {
     "name": "stdout",
     "output_type": "stream",
     "text": [
      "54\n",
      "54\n"
     ]
    }
   ],
   "source": [
    "v:rand 100\n",
    "show v\n",
    "if[v<50;v*:2]\n",
    "show v"
   ]
  },
  {
   "cell_type": "code",
   "execution_count": null,
   "metadata": {
    "hidden": true
   },
   "outputs": [],
   "source": [
    "//your answer here"
   ]
  },
  {
   "cell_type": "markdown",
   "metadata": {
    "hidden": true,
    "solution2": "hidden",
    "solution2_first": true
   },
   "source": [
    "Create a function `checkIfThresholdBreached` that uses `if` to check if a number is greater than or equal to 0.9, if so print a warning message e.g `\"Warning! Threshold breached. Level is above 90%\"` to std error and continue with the function to return today's date."
   ]
  },
  {
   "cell_type": "code",
   "execution_count": 15,
   "metadata": {
    "hidden": true,
    "solution2": "hidden"
   },
   "outputs": [
    {
     "name": "stderr",
     "output_type": "stream",
     "text": [
      "Warning! Threshold breached. Level is above 90%\n"
     ]
    },
    {
     "data": {
      "text/plain": [
       "2020.07.31\n"
      ]
     },
     "execution_count": 15,
     "metadata": {},
     "output_type": "execute_result"
    }
   ],
   "source": [
    "checkIfThresholdBreached:{[thresh] if[thresh>=0.9;-2\"Warning! Threshold breached. Level is above 90%\"];.z.D}\n",
    "checkIfThresholdBreached[0.9]"
   ]
  },
  {
   "cell_type": "code",
   "execution_count": null,
   "metadata": {
    "hidden": true
   },
   "outputs": [],
   "source": [
    "//your answer here"
   ]
  },
  {
   "cell_type": "markdown",
   "metadata": {
    "hidden": true,
    "solution2": "hidden",
    "solution2_first": true
   },
   "source": [
    "Create a function `tomorrow` that uses `if` to ensure that the input is a date. If it is not a date then use an error signal to return the error:\n",
    "\n",
    "`'Parameter should be a date`\n",
    "\n",
    "If it is a date, add 1 to the date to return tomorrow's date."
   ]
  },
  {
   "cell_type": "code",
   "execution_count": 15,
   "metadata": {
    "hidden": true,
    "solution2": "hidden"
   },
   "outputs": [
    {
     "data": {
      "text/plain": [
       "2020.08.01\n"
      ]
     },
     "execution_count": 16,
     "metadata": {},
     "output_type": "execute_result"
    },
    {
     "ename": "\u001b[0;31mParameter should be a date\u001b[0m",
     "evalue": "\u001b[0;31mParameter should be a date\u001b[0m",
     "output_type": "error",
     "traceback": [
      "\u001b[0;31mevaluation error:\n\u001b[0m",
      "\u001b[0;31mParameter should be a date\u001b[0m",
      "\u001b[0;31m\u001b[0m",
      "\u001b[0;31m  [0]  tomorrow .z.T\n       ^\n\u001b[0m"
     ]
    }
   ],
   "source": [
    "tomorrow:{[param] if[not -14h=type param;\n",
    "                        '`$\"Parameter should be a date\"];\n",
    "                  param+1}\n",
    "tomorrow .z.D\n",
    "tomorrow .z.T"
   ]
  },
  {
   "cell_type": "code",
   "execution_count": null,
   "metadata": {
    "hidden": true
   },
   "outputs": [],
   "source": [
    "//your answer here"
   ]
  },
  {
   "cell_type": "markdown",
   "metadata": {
    "heading_collapsed": true
   },
   "source": [
    "## If-Else"
   ]
  },
  {
   "cell_type": "markdown",
   "metadata": {
    "hidden": true,
    "solution2": "hidden",
    "solution2_first": true
   },
   "source": [
    "Create a monadic function `oddOrEven` that takes a whole number as an input and will return `` `odd`` if the input is an odd number and `` `even`` if the input is an even number."
   ]
  },
  {
   "cell_type": "code",
   "execution_count": 19,
   "metadata": {
    "hidden": true,
    "solution2": "hidden"
   },
   "outputs": [
    {
     "data": {
      "text/plain": [
       "`even\n"
      ]
     },
     "execution_count": 19,
     "metadata": {},
     "output_type": "execute_result"
    },
    {
     "data": {
      "text/plain": [
       "`odd\n"
      ]
     },
     "execution_count": 19,
     "metadata": {},
     "output_type": "execute_result"
    }
   ],
   "source": [
    "oddOrEven:{$[0=x mod 2;`even;`odd]}\n",
    "oddOrEven 2\n",
    "//aside - this can be achieved without the conditonal by indexing \n",
    "nonConditionalOddOrEven: {`even`odd x mod 2}\n",
    "nonConditionalOddOrEven 1"
   ]
  },
  {
   "cell_type": "code",
   "execution_count": null,
   "metadata": {
    "hidden": true
   },
   "outputs": [],
   "source": [
    "//your answer here"
   ]
  },
  {
   "cell_type": "markdown",
   "metadata": {
    "hidden": true,
    "solution2": "hidden",
    "solution2_first": true
   },
   "source": [
    "Create a monadic function `isFLoat` that returns a boolean stating if the input is a float."
   ]
  },
  {
   "cell_type": "code",
   "execution_count": 20,
   "metadata": {
    "hidden": true,
    "solution2": "hidden"
   },
   "outputs": [],
   "source": [
    "isFloat:{$[-9=type x;1b;0b]}\n",
    "//aside - this can be achieved without the conditonal\n",
    "nonConditionalIsFloat:{-9=type x}"
   ]
  },
  {
   "cell_type": "code",
   "execution_count": null,
   "metadata": {
    "hidden": true
   },
   "outputs": [],
   "source": [
    "//your answer here"
   ]
  },
  {
   "cell_type": "markdown",
   "metadata": {
    "hidden": true,
    "solution2": "hidden",
    "solution2_first": true
   },
   "source": [
    "Create a monadic function `abc` that takes a symbol as an input.  If the symbol is `a` return the number 1, if the symbol is `b` return 2, if the symbol is `c` return 3.  For all other symbols return 0. "
   ]
  },
  {
   "cell_type": "code",
   "execution_count": null,
   "metadata": {
    "hidden": true,
    "solution2": "hidden"
   },
   "outputs": [],
   "source": [
    "abc:{$[x~`a;1;x~`b;2;x~`c;3;0]}"
   ]
  },
  {
   "cell_type": "code",
   "execution_count": null,
   "metadata": {
    "hidden": true
   },
   "outputs": [],
   "source": [
    "//your answer here"
   ]
  },
  {
   "cell_type": "markdown",
   "metadata": {
    "hidden": true,
    "solution2": "hidden",
    "solution2_first": true
   },
   "source": [
    "Create a monadic function `ensureString`. If the argument is a char or char array (string) just return the argument. Otherwise the return value should be the argument converted to a string"
   ]
  },
  {
   "cell_type": "code",
   "execution_count": null,
   "metadata": {
    "hidden": true,
    "solution2": "hidden"
   },
   "outputs": [],
   "source": [
    "ensureStr:{$[10h=abs type x;x;string x]}"
   ]
  },
  {
   "cell_type": "code",
   "execution_count": null,
   "metadata": {
    "hidden": true
   },
   "outputs": [],
   "source": [
    "//your answer here"
   ]
  },
  {
   "cell_type": "markdown",
   "metadata": {},
   "source": [
    "## Vector Conditional Evaluation"
   ]
  },
  {
   "cell_type": "markdown",
   "metadata": {
    "solution2": "hidden",
    "solution2_first": true
   },
   "source": [
    "Create a monadic function `replaceNegatives` that takes a list of postive and negative numbers and replaces and negative numbers with 0."
   ]
  },
  {
   "cell_type": "code",
   "execution_count": null,
   "metadata": {
    "solution2": "hidden"
   },
   "outputs": [],
   "source": [
    "replaceNegatives:{?[x<0;0;x]}"
   ]
  },
  {
   "cell_type": "code",
   "execution_count": null,
   "metadata": {},
   "outputs": [],
   "source": [
    "//your answer here"
   ]
  },
  {
   "cell_type": "markdown",
   "metadata": {
    "solution2": "hidden",
    "solution2_first": true
   },
   "source": [
    "Create a monadic function `halfIfGreaterThan100` that takes a list of numbers and replaces numbers greater than 100 with half their value."
   ]
  },
  {
   "cell_type": "code",
   "execution_count": null,
   "metadata": {
    "solution2": "hidden"
   },
   "outputs": [],
   "source": [
    "halfIfGreaterThan100:{?[x>100;0.5*x;x]}"
   ]
  },
  {
   "cell_type": "code",
   "execution_count": null,
   "metadata": {},
   "outputs": [],
   "source": [
    "//your answer here"
   ]
  },
  {
   "cell_type": "markdown",
   "metadata": {
    "solution2": "hidden",
    "solution2_first": true
   },
   "source": [
    "Create a monadic function `BuyOrSell` that will take a list of orderIds and use the last character to return \\`Buy (B) or \\`Sell (S)\n",
    "\n",
    "Example:\n",
    "\n",
    "    Input: (`9280408_B`71100_B`938437_B`9925000_S`9071038_B`4273247_S`8025275_S`3975890_B`3141039_S`6836122_S)\n",
    "    Output: `Buy`Buy`Buy`Sell`Buy`Sell`Sell`Buy`Sell`Sell"
   ]
  },
  {
   "cell_type": "code",
   "execution_count": 25,
   "metadata": {
    "solution2": "hidden"
   },
   "outputs": [
    {
     "data": {
      "text/plain": [
       "`Buy`Buy`Buy`Sell`Buy`Sell`Sell`Buy`Sell`Sell\n"
      ]
     },
     "execution_count": 25,
     "metadata": {},
     "output_type": "execute_result"
    }
   ],
   "source": [
    "BuyOrSell:{?[\"B\"=last each string x;`Buy;`Sell]}\n",
    "BuyOrSell (`9280408_B`71100_B`938437_B`9925000_S`9071038_B`4273247_S`8025275_S`3975890_B`3141039_S`6836122_S)"
   ]
  },
  {
   "cell_type": "code",
   "execution_count": null,
   "metadata": {},
   "outputs": [],
   "source": [
    "//your answer here"
   ]
  },
  {
   "cell_type": "markdown",
   "metadata": {
    "heading_collapsed": true
   },
   "source": [
    "## Protected Evaluation"
   ]
  },
  {
   "cell_type": "markdown",
   "metadata": {
    "hidden": true,
    "solution2": "hidden",
    "solution2_first": true
   },
   "source": [
    "Create the following function: `add1:{[a] {a+1}[a]}` \n",
    "    \n",
    "- Execute `add1[2]`. What is the problem? Fix the problem. "
   ]
  },
  {
   "cell_type": "markdown",
   "metadata": {
    "hidden": true,
    "solution2": "hidden"
   },
   "source": [
    "a is a local variable only defined within add1 so the inner function doesn’t know of an a"
   ]
  },
  {
   "cell_type": "code",
   "execution_count": null,
   "metadata": {
    "hidden": true,
    "solution2": "hidden"
   },
   "outputs": [],
   "source": [
    "show add1:{[a] {a+1}[a] } \n",
    "add1[2]"
   ]
  },
  {
   "cell_type": "code",
   "execution_count": null,
   "metadata": {
    "hidden": true,
    "solution2": "hidden"
   },
   "outputs": [],
   "source": [
    "//fixing the issue\n",
    "show add1:{[a] {x+1}[a] } //can fix with implicit variable \n",
    "show add1:{[a] {[a] a+1}[a] } //can fix with explicit variable \n",
    "\n",
    "add1[2]"
   ]
  },
  {
   "cell_type": "code",
   "execution_count": null,
   "metadata": {
    "hidden": true
   },
   "outputs": [],
   "source": [
    "//your answer here"
   ]
  },
  {
   "cell_type": "markdown",
   "metadata": {
    "hidden": true,
    "solution2": "hidden",
    "solution2_first": true
   },
   "source": [
    "- Execute ``add1[`a]``. What is the problem?"
   ]
  },
  {
   "cell_type": "markdown",
   "metadata": {
    "hidden": true,
    "solution2": "hidden"
   },
   "source": [
    "Cant perform addition on a symbol"
   ]
  },
  {
   "cell_type": "code",
   "execution_count": null,
   "metadata": {
    "hidden": true,
    "solution2": "hidden"
   },
   "outputs": [],
   "source": [
    "add1[`a]"
   ]
  },
  {
   "cell_type": "code",
   "execution_count": null,
   "metadata": {
    "hidden": true
   },
   "outputs": [],
   "source": [
    "//your answer here"
   ]
  },
  {
   "cell_type": "markdown",
   "metadata": {
    "hidden": true,
    "solution2": "hidden",
    "solution2_first": true
   },
   "source": [
    "- Call `add1` with argument `` `a`` in a protected evaluation statement and return `0` upon failure. "
   ]
  },
  {
   "cell_type": "code",
   "execution_count": null,
   "metadata": {
    "hidden": true,
    "solution2": "hidden"
   },
   "outputs": [],
   "source": [
    "@[add1;`a;{0}]"
   ]
  },
  {
   "cell_type": "code",
   "execution_count": null,
   "metadata": {
    "hidden": true
   },
   "outputs": [],
   "source": [
    "//your answer here"
   ]
  },
  {
   "cell_type": "markdown",
   "metadata": {
    "hidden": true,
    "solution2": "hidden",
    "solution2_first": true
   },
   "source": [
    "- Call `add1` with argument `` `a`` and print out the error text, then return `0` upon failure "
   ]
  },
  {
   "cell_type": "code",
   "execution_count": null,
   "metadata": {
    "hidden": true,
    "solution2": "hidden"
   },
   "outputs": [],
   "source": [
    "@[add1;`a;{show x;0}]"
   ]
  },
  {
   "cell_type": "code",
   "execution_count": null,
   "metadata": {
    "hidden": true
   },
   "outputs": [],
   "source": [
    "//your answer here"
   ]
  },
  {
   "cell_type": "markdown",
   "metadata": {
    "hidden": true,
    "solution2": "hidden",
    "solution2_first": true
   },
   "source": [
    "Create a function `multiply`that will take two arguments and multiply them together. If the argument is not numerical return a customized error explaining that the input is the incorrect type `e.g \"Error: The inputs should be of numerical types\"`"
   ]
  },
  {
   "cell_type": "code",
   "execution_count": null,
   "metadata": {
    "hidden": true,
    "solution2": "hidden"
   },
   "outputs": [],
   "source": [
    "multiply:{.[*; (x;y);{\"Error: The inputs should be of numerical types\"}]}\n",
    "multiply[2;10]\n",
    "multiply[2;`10]"
   ]
  },
  {
   "cell_type": "code",
   "execution_count": null,
   "metadata": {
    "hidden": true
   },
   "outputs": [],
   "source": [
    "//your answer here"
   ]
  },
  {
   "cell_type": "markdown",
   "metadata": {
    "heading_collapsed": true
   },
   "source": [
    "## Puzzles"
   ]
  },
  {
   "cell_type": "markdown",
   "metadata": {
    "hidden": true,
    "solution2": "hidden",
    "solution2_first": true
   },
   "source": [
    "Create a monadic function `fizzbuzz` that takes an integer input such that it returns the symbol:<br> \n",
    "- \\`fizz if the number is divisible by 3, \n",
    "- \\`buzz if the number is divisible by 5, \n",
    "- \\`fizzbuzz if the number is divisible by both 3 and 5\n",
    "- otherwise just return the number itself\n",
    "\n",
    "Pass the numbers 1-100 into this function. \n",
    "\n",
    "Example:  \n",
    "\n",
    "    Input: 1 2 3 4 5 6 7… \n",
    "    Output: 1 2 fizz 4 buzz fizz 7…  "
   ]
  },
  {
   "cell_type": "code",
   "execution_count": 21,
   "metadata": {
    "hidden": true,
    "solution2": "hidden"
   },
   "outputs": [
    {
     "data": {
      "text/plain": [
       "1\n",
       "2\n",
       "`fizz\n",
       "4\n",
       "`buzz\n",
       "`fizz\n",
       "7\n",
       "8\n",
       "`fizz\n",
       "`buzz\n",
       "11\n",
       "`fizz\n",
       "13\n",
       "14\n",
       "`fizzbuzz\n",
       "16\n",
       "17\n",
       "`fizz\n",
       "19\n",
       "`buzz\n"
      ]
     },
     "execution_count": 21,
     "metadata": {},
     "output_type": "execute_result"
    }
   ],
   "source": [
    "// Create list of arguments\n",
    "arg:1+ til 100 \n",
    "fizzbuzz: { \n",
    "            {$[0=x mod 3;\n",
    "                    $[0=x mod 5;\n",
    "                        `fizzbuzz;\n",
    "                        `fizz];\n",
    "                0=x mod 5;\n",
    "                    `buzz;\n",
    "                    x]} each x}\n",
    "20 sublist fizzbuzz arg"
   ]
  },
  {
   "cell_type": "code",
   "execution_count": 22,
   "metadata": {
    "hidden": true,
    "solution2": "hidden"
   },
   "outputs": [
    {
     "data": {
      "text/plain": [
       "1\n",
       "2\n",
       "`fizz\n",
       "4\n",
       "`buzz\n",
       "`fizz\n",
       "7\n",
       "8\n",
       "`fizz\n",
       "`buzz\n",
       "11\n",
       "`fizz\n",
       "13\n",
       "14\n",
       "`fizzbuzz\n",
       "16\n",
       "17\n",
       "`fizz\n",
       "19\n",
       "`buzz\n",
       "`fizz\n",
       "22\n",
       "..\n"
      ]
     },
     "execution_count": 22,
     "metadata": {},
     "output_type": "execute_result"
    }
   ],
   "source": [
    "//alternative technique - vectorized \n",
    "nonConditionalFizzBuzz:{[vector]\n",
    "                divByThree:where 0=vector mod 3;                //getting the indexes where mod each\n",
    "                divByFive:where 0=vector mod 5; \n",
    "                divByBoth: divByThree inter divByFive;          //intersection is both 3 and 5\n",
    "                v:vector,` ;                                    //making general list \n",
    "                v:@[v;divByBoth;:;`fizzbuzz];                   //amended to the right thing for each \n",
    "                v:@[v;divByThree except divByFive;:;`fizz]; \n",
    "                -1 _ @[v;divByFive except divByThree;:;`buzz]   //remembering to drop off that empty symbol\n",
    "                }\n",
    "nonConditionalFizzBuzz arg"
   ]
  },
  {
   "cell_type": "code",
   "execution_count": 24,
   "metadata": {
    "hidden": true,
    "solution2": "hidden"
   },
   "outputs": [
    {
     "data": {
      "text/plain": [
       "284 2384\n"
      ]
     },
     "execution_count": 24,
     "metadata": {},
     "output_type": "execute_result"
    },
    {
     "data": {
      "text/plain": [
       "22 5376\n"
      ]
     },
     "execution_count": 24,
     "metadata": {},
     "output_type": "execute_result"
    }
   ],
   "source": [
    "//vectorised code is normally faster! \n",
    "\\ts:2000 fizzbuzz arg\n",
    "\\ts:2000 nonConditionalFizzBuzz arg  //working with the whole vector at once will take more memory "
   ]
  },
  {
   "cell_type": "code",
   "execution_count": null,
   "metadata": {
    "hidden": true
   },
   "outputs": [],
   "source": [
    "//your answer here"
   ]
  },
  {
   "cell_type": "markdown",
   "metadata": {
    "hidden": true,
    "solution2": "hidden",
    "solution2_first": true
   },
   "source": [
    "Create a monadic function `convertToKm` that takes a list of string values of distances in both miles and km. Extract the distance value and any value that is in miles, convert to km (multiply miles by 1.609 to convert to km). Return a numerical list.\n",
    "\n",
    "Example:\n",
    "\n",
    "    Input: (\"1 mile\";\"5 km\";\"3 miles\";\"7.5 km\";\"3 km\";\"4.2 km\";\"0.5 miles\")\n",
    "    Output: 1.609 5 4.827 7.5 3 4.2 0.8045"
   ]
  },
  {
   "cell_type": "code",
   "execution_count": null,
   "metadata": {
    "hidden": true,
    "solution2": "hidden"
   },
   "outputs": [],
   "source": [
    "arg:(\"1 mile\";\"5 km\";\"3 miles\";\"7.5 km\";\"3 km\";\"4.2 km\";\"0.5 miles\")\n",
    "convertToKm:{b:x like \"*mile*\";                // Create boolean like of those that are miles\n",
    "             v:\"F\"$first each \" \" vs/: x;      // Extract numerical value from string\n",
    "             ?[b;1.609*v;v]                    // Apply vector conditional\n",
    " }\n",
    "convertToKm arg"
   ]
  },
  {
   "cell_type": "code",
   "execution_count": null,
   "metadata": {
    "hidden": true
   },
   "outputs": [],
   "source": [
    "//your answer here"
   ]
  }
 ],
 "metadata": {
  "kernelspec": {
   "display_name": "Q (kdb+)",
   "language": "q",
   "name": "qpk"
  },
  "language_info": {
   "file_extension": ".q",
   "mimetype": "text/x-q",
   "name": "q",
   "version": "3.6.0"
  },
  "toc": {
   "base_numbering": 1,
   "nav_menu": {},
   "number_sections": true,
   "sideBar": true,
   "skip_h1_title": false,
   "title_cell": "Table of Contents",
   "title_sidebar": "Contents",
   "toc_cell": false,
   "toc_position": {},
   "toc_section_display": true,
   "toc_window_display": false
  }
 },
 "nbformat": 4,
 "nbformat_minor": 4
}
