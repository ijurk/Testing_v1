{
 "cells": [
  {
   "cell_type": "markdown",
   "metadata": {},
   "source": [
    "# Lists\n",
    "\n",
    "**Learning Objectives**\n",
    "\n",
    "To understand: \n",
    "* How to identify a list?\n",
    "* How to create a list?\n",
    "* List indexing and access\n",
    "* List Manipulation \n",
    "* List Comparison\n",
    "* List Amendment"
   ]
  },
  {
   "cell_type": "markdown",
   "metadata": {},
   "source": [
    "# Introduction\n",
    "Lists are the basis of all data structures in kdb+. For example, a dictionary is a collection of lists and a table is a list of dictionaries. As kdb+ is a column orientated database and a column is really a list, the list data structure is of great importance in this technology.\n",
    "\n",
    "One very powerful feature of q is the ability to execute the built in arithmetic and logical operators\n",
    "directly on lists without the need for some explicit loops across the list. In the examples below,\n",
    "the operation will implicitly be applied uniformly to all elements in the list:"
   ]
  },
  {
   "cell_type": "code",
   "execution_count": 1,
   "metadata": {},
   "outputs": [
    {
     "name": "stdout",
     "output_type": "stream",
     "text": [
      "10 20 30 40 50\n"
     ]
    }
   ],
   "source": [
    "show x:10 20 30 40 50"
   ]
  },
  {
   "cell_type": "code",
   "execution_count": 2,
   "metadata": {},
   "outputs": [
    {
     "data": {
      "text/plain": [
       "11 21 31 41 51\n"
      ]
     },
     "execution_count": 2,
     "metadata": {},
     "output_type": "execute_result"
    }
   ],
   "source": [
    "x+1 /Increment all elements in x by 1"
   ]
  },
  {
   "cell_type": "code",
   "execution_count": 3,
   "metadata": {},
   "outputs": [
    {
     "data": {
      "text/plain": [
       "1 2 3 4 5f\n"
      ]
     },
     "execution_count": 3,
     "metadata": {},
     "output_type": "execute_result"
    }
   ],
   "source": [
    "x%10 /Divide all elements in x by 10"
   ]
  },
  {
   "cell_type": "code",
   "execution_count": 4,
   "metadata": {},
   "outputs": [
    {
     "data": {
      "text/plain": [
       "11100b\n"
      ]
     },
     "execution_count": 4,
     "metadata": {},
     "output_type": "execute_result"
    }
   ],
   "source": [
    "x<=30 /Check all elements in x to see if they are less than or equal to 30"
   ]
  },
  {
   "cell_type": "markdown",
   "metadata": {
    "solution2": "hidden",
    "solution2_first": true
   },
   "source": [
    "##### Exercise\n",
    "\n",
    "Given the following: `\"a\"` and `\"abc\"`\n",
    "* What are their respective types \n",
    "* How are these different?"
   ]
  },
  {
   "cell_type": "code",
   "execution_count": null,
   "metadata": {
    "solution2": "hidden"
   },
   "outputs": [],
   "source": [
    "type \"a\"\n",
    "type \"abc\" //10 is character type and as abc is a vector (string list) it is 10h"
   ]
  },
  {
   "cell_type": "code",
   "execution_count": 5,
   "metadata": {},
   "outputs": [
    {
     "data": {
      "text/plain": [
       "-10h\n"
      ]
     },
     "execution_count": 5,
     "metadata": {},
     "output_type": "execute_result"
    },
    {
     "data": {
      "text/plain": [
       "10h\n"
      ]
     },
     "execution_count": 5,
     "metadata": {},
     "output_type": "execute_result"
    }
   ],
   "source": [
    "//your answer here\n",
    "type \"a\"\n",
    "type \"abc\""
   ]
  },
  {
   "cell_type": "markdown",
   "metadata": {},
   "source": [
    "There are two types of lists:\n",
    "\n",
    "* Simple Lists\n",
    "* General Lists\n"
   ]
  },
  {
   "cell_type": "markdown",
   "metadata": {},
   "source": [
    "## Simple Lists\n",
    "A list consisting of atoms all of which are the same type is called a simple list or a vector.\n",
    "\n",
    "To create a list you can use brackets or no brackets:"
   ]
  },
  {
   "cell_type": "code",
   "execution_count": 6,
   "metadata": {},
   "outputs": [
    {
     "name": "stdout",
     "output_type": "stream",
     "text": [
      "1 2 3\n"
     ]
    }
   ],
   "source": [
    "show l1:(1;2;3)"
   ]
  },
  {
   "cell_type": "code",
   "execution_count": 7,
   "metadata": {},
   "outputs": [
    {
     "name": "stdout",
     "output_type": "stream",
     "text": [
      "1.2 3.4 4.5\n"
     ]
    }
   ],
   "source": [
    "show l2:1.2 3.4 4.5 "
   ]
  },
  {
   "cell_type": "markdown",
   "metadata": {},
   "source": [
    "Lets create a number of lists of various types and then use the type command to check the returned values"
   ]
  },
  {
   "cell_type": "code",
   "execution_count": 8,
   "metadata": {},
   "outputs": [
    {
     "name": "stdout",
     "output_type": "stream",
     "text": [
      "10 20 30\n",
      "3.4 5 3.1\n",
      "3 4 5 6i\n",
      "100 200 300h\n",
      "\"hello there\"\n",
      "`JPM`GE`IBM\n"
     ]
    }
   ],
   "source": [
    "show L:10 20 30         // simple list of longs\n",
    "show F:3.4 5.0 3.1      // simple list of floats\n",
    "show I:3 4 5 6i         // simple list of ints - note not the default type, so trailing i in the output\n",
    "show H:100 200 300h     // simple list of shorts\n",
    "show str:\"hello there\"  // simple list of chars (also called a string)\n",
    "show s:`JPM`GE`IBM      // simple list of symbols"
   ]
  },
  {
   "cell_type": "markdown",
   "metadata": {},
   "source": [
    "As you would expect, the [type](https://code.kx.com/q/ref/type/) function should return a positive number (as a short type) for each of the above lists"
   ]
  },
  {
   "cell_type": "code",
   "execution_count": 9,
   "metadata": {},
   "outputs": [
    {
     "data": {
      "text/plain": [
       "7h\n"
      ]
     },
     "execution_count": 9,
     "metadata": {},
     "output_type": "execute_result"
    },
    {
     "data": {
      "text/plain": [
       "9h\n"
      ]
     },
     "execution_count": 9,
     "metadata": {},
     "output_type": "execute_result"
    },
    {
     "data": {
      "text/plain": [
       "6h\n"
      ]
     },
     "execution_count": 9,
     "metadata": {},
     "output_type": "execute_result"
    },
    {
     "data": {
      "text/plain": [
       "5h\n"
      ]
     },
     "execution_count": 9,
     "metadata": {},
     "output_type": "execute_result"
    },
    {
     "data": {
      "text/plain": [
       "10h\n"
      ]
     },
     "execution_count": 9,
     "metadata": {},
     "output_type": "execute_result"
    },
    {
     "data": {
      "text/plain": [
       "11h\n"
      ]
     },
     "execution_count": 9,
     "metadata": {},
     "output_type": "execute_result"
    }
   ],
   "source": [
    "type L\n",
    "type F\n",
    "type I\n",
    "type H\n",
    "type str\n",
    "type s"
   ]
  },
  {
   "cell_type": "markdown",
   "metadata": {},
   "source": [
    "<img src=\"../qbies.png\" style=\"width: 50px;padding-right:5px;padding-top:20px;padding-left:5px;\" align=\"left\"/>\n",
    "\n",
    "<p style='color:#273a6e'><i> Notice that in list L above we didn't explicitly \"type\" the list (like we did for I and H), rather we just supplied a list of numbers. In kdb+/q there are default datatypes that are assumed when not explicitly declared. For whole numbers, the default type is long and for decimal numbers the default type is float. In older versions of kdb+/q, specifically below v3.X.(e.g. v2.X) the default datatype for whole numbers used to be integer. </i></p>"
   ]
  },
  {
   "cell_type": "markdown",
   "metadata": {
    "solution2": "shown",
    "solution2_first": true
   },
   "source": [
    "##### Exercise\n",
    "\n",
    "Create a 10 digit integer list called `t1`"
   ]
  },
  {
   "cell_type": "code",
   "execution_count": null,
   "metadata": {
    "solution2": "shown"
   },
   "outputs": [],
   "source": [
    "t1: `int$til 10 //using built-in operator til to generate a list of integers\n",
    "type t1    //checking the type"
   ]
  },
  {
   "cell_type": "code",
   "execution_count": 11,
   "metadata": {},
   "outputs": [
    {
     "name": "stdout",
     "output_type": "stream",
     "text": [
      "1 2 3 4 5 6 7 8 -9 10i\n"
     ]
    },
    {
     "data": {
      "text/plain": [
       "6h\n"
      ]
     },
     "execution_count": 11,
     "metadata": {},
     "output_type": "execute_result"
    }
   ],
   "source": [
    "//your answer here\n",
    "show t1: 1 2 3 4 5 6 7 8 -9 10i\n",
    "type t1"
   ]
  },
  {
   "cell_type": "markdown",
   "metadata": {},
   "source": [
    "## General Lists\n",
    "\n",
    "A general list is either:\n",
    "* A list where not all elements are of the same type\n",
    "* A list of lists\n",
    "\n",
    "Below are examples of general lists:"
   ]
  },
  {
   "cell_type": "code",
   "execution_count": 12,
   "metadata": {},
   "outputs": [
    {
     "name": "stdout",
     "output_type": "stream",
     "text": [
      "`John\n",
      "32\n",
      "`USA\n"
     ]
    }
   ],
   "source": [
    "show person:(`John;32;`USA)"
   ]
  },
  {
   "cell_type": "code",
   "execution_count": 13,
   "metadata": {},
   "outputs": [
    {
     "name": "stdout",
     "output_type": "stream",
     "text": [
      "`John\n",
      "32\n",
      "`USA\n"
     ]
    }
   ],
   "source": [
    "show `John,32,`USA"
   ]
  },
  {
   "cell_type": "markdown",
   "metadata": {},
   "source": [
    "<img src=\"../qbies.png\" style=\"width: 50px;padding-right:5px;padding-top:15px;padding-left:5px;\" align=\"left\"/>\n",
    "\n",
    "<p style='color:#273a6e'><i> When creating a general list, we need to use brackets <code>()</code> and semicolons <code>;</code>  to explicitly delimit the different items and associated types in our list or else we can use <code>,</code> the join operator, to explicitly join together lists or atoms of different types. </i></p>"
   ]
  },
  {
   "cell_type": "markdown",
   "metadata": {},
   "source": [
    "A general list has type `0h`"
   ]
  },
  {
   "cell_type": "code",
   "execution_count": 14,
   "metadata": {},
   "outputs": [
    {
     "data": {
      "text/plain": [
       "0h\n"
      ]
     },
     "execution_count": 14,
     "metadata": {},
     "output_type": "execute_result"
    }
   ],
   "source": [
    "type person"
   ]
  },
  {
   "cell_type": "markdown",
   "metadata": {},
   "source": [
    "In the case of `person`, each element is an atom and they aren't all of the same type. We can use the [`each`](https://code.kx.com/q/ref/each/) command in conjunction with `type` to determine the type of each item in our list. \n",
    "\n",
    "The `each` operator extends the behaviour of a function to act over each item to the right and is our first example of an [Iterator](https://code.kx.com/q/ref/iterators/) in kdb+/q."
   ]
  },
  {
   "cell_type": "code",
   "execution_count": 15,
   "metadata": {},
   "outputs": [
    {
     "data": {
      "text/plain": [
       "-11 -7 -11h\n"
      ]
     },
     "execution_count": 15,
     "metadata": {},
     "output_type": "execute_result"
    }
   ],
   "source": [
    "type each person"
   ]
  },
  {
   "cell_type": "markdown",
   "metadata": {},
   "source": [
    "To reiterate, a general list can also be a list of lists as seen below.  "
   ]
  },
  {
   "cell_type": "code",
   "execution_count": 16,
   "metadata": {},
   "outputs": [
    {
     "name": "stdout",
     "output_type": "stream",
     "text": [
      "1 2 3\n",
      "4 5 6\n"
     ]
    },
    {
     "data": {
      "text/plain": [
       "0h\n"
      ]
     },
     "execution_count": 16,
     "metadata": {},
     "output_type": "execute_result"
    },
    {
     "data": {
      "text/plain": [
       "7 7h\n"
      ]
     },
     "execution_count": 16,
     "metadata": {},
     "output_type": "execute_result"
    }
   ],
   "source": [
    "show matrix:(1 2 3;4 5 6)\n",
    "type matrix\n",
    "type each matrix"
   ]
  },
  {
   "cell_type": "markdown",
   "metadata": {
    "solution2": "hidden",
    "solution2_first": true
   },
   "source": [
    "##### Exercise\n",
    "\n",
    "Create a general list `t2`, comprising of a list of lists. The first list should be a list of floats from 1 to 3, and the second should be a list of the symbols \\`a, \\`b, and \\`c. Confirm the type of `t2`."
   ]
  },
  {
   "cell_type": "code",
   "execution_count": null,
   "metadata": {
    "solution2": "hidden"
   },
   "outputs": [],
   "source": [
    "show t2:(1 2 3f; `a`b`c)\n",
    "type t2"
   ]
  },
  {
   "cell_type": "code",
   "execution_count": 18,
   "metadata": {},
   "outputs": [
    {
     "name": "stdout",
     "output_type": "stream",
     "text": [
      "1 2 3\n",
      "a b c\n"
     ]
    },
    {
     "data": {
      "text/plain": [
       "0h\n"
      ]
     },
     "execution_count": 18,
     "metadata": {},
     "output_type": "execute_result"
    },
    {
     "data": {
      "text/plain": [
       "9 11h\n"
      ]
     },
     "execution_count": 18,
     "metadata": {},
     "output_type": "execute_result"
    }
   ],
   "source": [
    "//your answer here \n",
    "show t2:(1 2 3f;`a`b`c)\n",
    "type t2\n",
    "type each t2"
   ]
  },
  {
   "cell_type": "markdown",
   "metadata": {},
   "source": [
    "# List creation"
   ]
  },
  {
   "cell_type": "markdown",
   "metadata": {},
   "source": [
    "## Creating lists from atoms\n",
    "The most simple list to create in kdb+/q is an empty list"
   ]
  },
  {
   "cell_type": "code",
   "execution_count": 19,
   "metadata": {},
   "outputs": [],
   "source": [
    "show el:()"
   ]
  },
  {
   "cell_type": "markdown",
   "metadata": {},
   "source": [
    "Joining an empty list to an atom will make it a list, or we can use the keyword [`enlist`](https://code.kx.com/q/ref/enlist/) to manually create a level of nesting"
   ]
  },
  {
   "cell_type": "code",
   "execution_count": 20,
   "metadata": {},
   "outputs": [
    {
     "name": "stdout",
     "output_type": "stream",
     "text": [
      "4\n"
     ]
    },
    {
     "data": {
      "text/plain": [
       "-7h\n"
      ]
     },
     "execution_count": 20,
     "metadata": {},
     "output_type": "execute_result"
    }
   ],
   "source": [
    "/creating a variable\n",
    "show a:4\n",
    "type a"
   ]
  },
  {
   "cell_type": "code",
   "execution_count": 21,
   "metadata": {},
   "outputs": [
    {
     "name": "stdout",
     "output_type": "stream",
     "text": [
      ",4\n"
     ]
    },
    {
     "data": {
      "text/plain": [
       "7h\n"
      ]
     },
     "execution_count": 21,
     "metadata": {},
     "output_type": "execute_result"
    }
   ],
   "source": [
    "/adding an empty list to create a list\n",
    "show el,a\n",
    "type el,a"
   ]
  },
  {
   "cell_type": "code",
   "execution_count": 22,
   "metadata": {},
   "outputs": [
    {
     "data": {
      "text/plain": [
       "4\n"
      ]
     },
     "execution_count": 22,
     "metadata": {},
     "output_type": "execute_result"
    },
    {
     "data": {
      "text/plain": [
       ",4\n"
      ]
     },
     "execution_count": 22,
     "metadata": {},
     "output_type": "execute_result"
    }
   ],
   "source": [
    "enlist enlist 4 \n",
    "(),(),4"
   ]
  },
  {
   "cell_type": "markdown",
   "metadata": {
    "solution2": "hidden",
    "solution2_first": true
   },
   "source": [
    "##### Exercise \n",
    "\n",
    "Create a single item list of the symbol <code>`onMyOwn</code>"
   ]
  },
  {
   "cell_type": "code",
   "execution_count": null,
   "metadata": {
    "solution2": "hidden"
   },
   "outputs": [],
   "source": [
    "type `onMyOwn\n",
    "(),`onMyOwn\n",
    "type (),`onMyOwn   //this is now a single item list"
   ]
  },
  {
   "cell_type": "code",
   "execution_count": 26,
   "metadata": {},
   "outputs": [
    {
     "data": {
      "text/plain": [
       ",`onMyOwn\n"
      ]
     },
     "execution_count": 26,
     "metadata": {},
     "output_type": "execute_result"
    },
    {
     "data": {
      "text/plain": [
       ",`onMyOwn\n"
      ]
     },
     "execution_count": 26,
     "metadata": {},
     "output_type": "execute_result"
    },
    {
     "data": {
      "text/plain": [
       "11h\n"
      ]
     },
     "execution_count": 26,
     "metadata": {},
     "output_type": "execute_result"
    }
   ],
   "source": [
    "//your code here \n",
    "enlist `onMyOwn\n",
    "(), `onMyOwn\n",
    "type enlist `onMyOwn"
   ]
  },
  {
   "cell_type": "markdown",
   "metadata": {},
   "source": [
    "## Generating lists\n",
    "\n",
    "There are two very useful operators for generating lists, [`til`](https://code.kx.com/q/ref/til/) and [`?`](https://code.kx.com/q/ref/deal/#roll-and-deal)(aka [roll/deal](https://code.kx.com/q/ref/deal/#roll-and-deal))."
   ]
  },
  {
   "cell_type": "code",
   "execution_count": 27,
   "metadata": {},
   "outputs": [
    {
     "name": "stdout",
     "output_type": "stream",
     "text": [
      "10 257 73 90 171 90 221 182 68 45 233 64 177 238 241 296 216 205 145 123\n",
      "0 1 2 3 4 5 6 7 8 9 10 11 12 13 14 15 16 17 18 19\n"
     ]
    }
   ],
   "source": [
    "show L:20?300\n",
    "show M:til 20"
   ]
  },
  {
   "cell_type": "markdown",
   "metadata": {},
   "source": [
    "The Q language has a built in operator (`?`) which allows for the generation of random data\n",
    "according to a uniform distribution. \n"
   ]
  },
  {
   "cell_type": "code",
   "execution_count": 28,
   "metadata": {},
   "outputs": [
    {
     "data": {
      "text/plain": [
       "2 4 5 4 2\n"
      ]
     },
     "execution_count": 28,
     "metadata": {},
     "output_type": "execute_result"
    },
    {
     "data": {
      "text/plain": [
       "7 8 5 6 4\n"
      ]
     },
     "execution_count": 28,
     "metadata": {},
     "output_type": "execute_result"
    }
   ],
   "source": [
    "?[5;10]     //generate a list of 5 random longs between 0 and 9\n",
    "5?10"
   ]
  },
  {
   "cell_type": "code",
   "execution_count": 29,
   "metadata": {},
   "outputs": [
    {
     "data": {
      "text/plain": [
       "1.024432 8.671096 7.278528 1.627662 6.884756\n"
      ]
     },
     "execution_count": 29,
     "metadata": {},
     "output_type": "execute_result"
    },
    {
     "data": {
      "text/plain": [
       "8.177547 7.520102 1.086824 9.598964 0.3668341\n"
      ]
     },
     "execution_count": 29,
     "metadata": {},
     "output_type": "execute_result"
    }
   ],
   "source": [
    "?[5;10.0]   //generates a list of 5 random floats between 0 and 10.0\n",
    "5?10."
   ]
  },
  {
   "cell_type": "markdown",
   "metadata": {},
   "source": [
    "Generate a list of 5 unique random longs between 0 and 9 - the negative number indicates we want to draw *without* replacement. "
   ]
  },
  {
   "cell_type": "code",
   "execution_count": 30,
   "metadata": {},
   "outputs": [
    {
     "data": {
      "text/plain": [
       "1 5 4 3 2\n"
      ]
     },
     "execution_count": 30,
     "metadata": {},
     "output_type": "execute_result"
    },
    {
     "data": {
      "text/plain": [
       "5 9 7 1 2\n"
      ]
     },
     "execution_count": 30,
     "metadata": {},
     "output_type": "execute_result"
    }
   ],
   "source": [
    "?[-5;10]   //generates without replacement\n",
    "-5?10"
   ]
  },
  {
   "cell_type": "markdown",
   "metadata": {
    "solution2": "hidden",
    "solution2_first": true
   },
   "source": [
    "What would we get if this number was -11? i.e. `?[-11;10]`"
   ]
  },
  {
   "cell_type": "markdown",
   "metadata": {
    "solution2": "hidden"
   },
   "source": [
    "We would get an error, as we can't draw 11 items from 10 items without replacing some of them! (see [Pidgeonhole principle](https://en.wikipedia.org/wiki/Pigeonhole_principle))  "
   ]
  },
  {
   "cell_type": "markdown",
   "metadata": {},
   "source": [
    "It is also possible to specify the right argument as a list. In that case, the random data will be drawn uniformly  from the elements in that list. For example:"
   ]
  },
  {
   "cell_type": "code",
   "execution_count": 32,
   "metadata": {},
   "outputs": [
    {
     "data": {
      "text/plain": [
       "1 1 3 3 2\n"
      ]
     },
     "execution_count": 32,
     "metadata": {},
     "output_type": "execute_result"
    },
    {
     "data": {
      "text/plain": [
       "1 3 2 2 3\n"
      ]
     },
     "execution_count": 32,
     "metadata": {},
     "output_type": "execute_result"
    }
   ],
   "source": [
    "?[5;1 2 3]             //select 5 elements from the list 1 2 3\n",
    "5?1 2 3"
   ]
  },
  {
   "cell_type": "code",
   "execution_count": 31,
   "metadata": {},
   "outputs": [
    {
     "data": {
      "text/plain": [
       "`IBM`GOOG`IBM`IBM`GOOG\n"
      ]
     },
     "execution_count": 31,
     "metadata": {},
     "output_type": "execute_result"
    },
    {
     "data": {
      "text/plain": [
       "`GOOG`IBM`GOOG`IBM`GOOG\n"
      ]
     },
     "execution_count": 31,
     "metadata": {},
     "output_type": "execute_result"
    }
   ],
   "source": [
    "?[5;`IBM`GOOG]         //select 5 elements from the list `IBM`GOOG\n",
    "5?`IBM`GOOG"
   ]
  },
  {
   "cell_type": "code",
   "execution_count": 33,
   "metadata": {},
   "outputs": [
    {
     "data": {
      "text/plain": [
       "2010.12.30 2011.01.01 2011.01.01 2010.12.31 2010.12.30\n"
      ]
     },
     "execution_count": 33,
     "metadata": {},
     "output_type": "execute_result"
    },
    {
     "data": {
      "text/plain": [
       "2010.12.31 2010.12.30 2010.12.31 2010.12.31 2011.01.01\n"
      ]
     },
     "execution_count": 33,
     "metadata": {},
     "output_type": "execute_result"
    }
   ],
   "source": [
    "?[5;2011.01.01-til 3]  //select 5 elements from a list of 3 dates\n",
    "5?2011.01.01-til 3"
   ]
  },
  {
   "cell_type": "markdown",
   "metadata": {
    "solution2": "shown",
    "solution2_first": true
   },
   "source": [
    "##### Exercise \n",
    " \n",
    "Generate a list of 100 random numbers between 10-20. \n",
    "\n",
    "Hint - (highlight using cursor to see hidden text): <font color='white'> The 10 and 20 are inclusive, so we have a range of 11 numbers. Start with generating 100 values in this range and then shift up. </font>"
   ]
  },
  {
   "cell_type": "code",
   "execution_count": null,
   "metadata": {
    "solution2": "shown"
   },
   "outputs": [],
   "source": [
    "show myList: 10 + 100?11  //we shift the numbers up by ten to introduce the range\n",
    "min myList \n",
    "max myList"
   ]
  },
  {
   "cell_type": "code",
   "execution_count": 38,
   "metadata": {},
   "outputs": [
    {
     "name": "stdout",
     "output_type": "stream",
     "text": [
      "17 19 17 17 20 16 19 14 13 14 20 14 18 16 12 19 15 11 12 20 16 18 19 16 13 14..\n",
      "11 18 16 18 20 16 17 10 15 17 13 16 20 19 19 10 12 15 13 12 18 16 20 19 19 20..\n"
     ]
    },
    {
     "data": {
      "text/plain": [
       "20\n"
      ]
     },
     "execution_count": 38,
     "metadata": {},
     "output_type": "execute_result"
    },
    {
     "data": {
      "text/plain": [
       "20\n"
      ]
     },
     "execution_count": 38,
     "metadata": {},
     "output_type": "execute_result"
    },
    {
     "data": {
      "text/plain": [
       "10\n"
      ]
     },
     "execution_count": 38,
     "metadata": {},
     "output_type": "execute_result"
    },
    {
     "data": {
      "text/plain": [
       "10\n"
      ]
     },
     "execution_count": 38,
     "metadata": {},
     "output_type": "execute_result"
    }
   ],
   "source": [
    "//your code here \n",
    "show mylist: 10 + 100?11\n",
    "show mylist2: ?[100;10 + til 11]\n",
    "max mylist\n",
    "max mylist2\n",
    "min mylist\n",
    "min mylist2"
   ]
  },
  {
   "cell_type": "markdown",
   "metadata": {},
   "source": [
    "## Joining lists\n",
    "We can join lists with [`,`](https://code.kx.com/q/ref/join/) - we did this earlier when we created lists from atoms."
   ]
  },
  {
   "cell_type": "code",
   "execution_count": 39,
   "metadata": {},
   "outputs": [
    {
     "data": {
      "text/plain": [
       "1 2 3 4 5\n"
      ]
     },
     "execution_count": 39,
     "metadata": {},
     "output_type": "execute_result"
    }
   ],
   "source": [
    "1 2 3,4 5"
   ]
  },
  {
   "cell_type": "code",
   "execution_count": 40,
   "metadata": {},
   "outputs": [
    {
     "data": {
      "text/plain": [
       "1 2 3 4\n"
      ]
     },
     "execution_count": 40,
     "metadata": {},
     "output_type": "execute_result"
    },
    {
     "data": {
      "text/plain": [
       "1.8\n",
       "2\n",
       "3\n",
       "4\n",
       "10:00\n",
       "10:01\n"
      ]
     },
     "execution_count": 40,
     "metadata": {},
     "output_type": "execute_result"
    }
   ],
   "source": [
    "1,2 3 4\n",
    "1.8,2 3 4,10:00+ til 2"
   ]
  },
  {
   "cell_type": "markdown",
   "metadata": {},
   "source": [
    "Observe that if the arguments are not of uniform type, the result is a general list. "
   ]
  },
  {
   "cell_type": "markdown",
   "metadata": {},
   "source": [
    "<img src=\"../qbies.png\" style=\"width: 50px;padding-right:5px;padding-top:5px;padding-left:5px;\" align=\"left\"/>\n",
    "\n",
    "<p style='color:#273a6e'><i> Notice when kdb+/q returns a general list it displays it vertically - this is to make it visually clearer that the items in the list are different types. </i></p>"
   ]
  },
  {
   "cell_type": "markdown",
   "metadata": {},
   "source": [
    "# List indexing and access \n"
   ]
  },
  {
   "cell_type": "markdown",
   "metadata": {},
   "source": [
    "## List indexing\n",
    "\n",
    "One or more items may be extracted from a simple list with N items by passing their indices which range from 0 up to N-1"
   ]
  },
  {
   "cell_type": "markdown",
   "metadata": {},
   "source": [
    "<img src=\"../qbies.png\" style=\"width: 50px;padding-right:5px;padding-top:5px;padding-left:5px;\" align=\"left\"/>\n",
    "\n",
    "<p style='color:#273a6e'><i> When specifying the index you can only use a whole value like an integer, long  or short - if you try to use a float it will throw a type error! </i></p>\n"
   ]
  },
  {
   "cell_type": "code",
   "execution_count": 41,
   "metadata": {},
   "outputs": [
    {
     "name": "stdout",
     "output_type": "stream",
     "text": [
      "10 20 30 40 50\n"
     ]
    },
    {
     "data": {
      "text/plain": [
       "5\n"
      ]
     },
     "execution_count": 41,
     "metadata": {},
     "output_type": "execute_result"
    }
   ],
   "source": [
    "show L:10 20 30 40 50\n",
    "count L"
   ]
  },
  {
   "cell_type": "markdown",
   "metadata": {},
   "source": [
    "You can use indexes to retrieve the list items at those locations"
   ]
  },
  {
   "cell_type": "code",
   "execution_count": 42,
   "metadata": {},
   "outputs": [
    {
     "data": {
      "text/plain": [
       "10\n"
      ]
     },
     "execution_count": 42,
     "metadata": {},
     "output_type": "execute_result"
    },
    {
     "data": {
      "text/plain": [
       "10 20 30\n"
      ]
     },
     "execution_count": 42,
     "metadata": {},
     "output_type": "execute_result"
    }
   ],
   "source": [
    "L 0       //Obtain first item \n",
    "L 0 1 2   //Obtain the first 3 items"
   ]
  },
  {
   "cell_type": "code",
   "execution_count": 43,
   "metadata": {},
   "outputs": [
    {
     "data": {
      "text/plain": [
       "10\n"
      ]
     },
     "execution_count": 43,
     "metadata": {},
     "output_type": "execute_result"
    },
    {
     "data": {
      "text/plain": [
       "20 30 40\n"
      ]
     },
     "execution_count": 43,
     "metadata": {},
     "output_type": "execute_result"
    }
   ],
   "source": [
    "//or written explicitly (functionally)\n",
    "L[0]\n",
    "L[1 2 3]"
   ]
  },
  {
   "cell_type": "markdown",
   "metadata": {},
   "source": [
    "One interesting feature of lists is that indexing out of bounds does not throw an out of bounds\n",
    "exception. Instead, it returns a null value of the appropriate data type. For example:"
   ]
  },
  {
   "cell_type": "code",
   "execution_count": 44,
   "metadata": {},
   "outputs": [
    {
     "data": {
      "text/plain": [
       "0N\n"
      ]
     },
     "execution_count": 44,
     "metadata": {},
     "output_type": "execute_result"
    }
   ],
   "source": [
    "L[10]"
   ]
  },
  {
   "cell_type": "markdown",
   "metadata": {},
   "source": [
    "0N is returned because `L` is a homogeneous list of longs. Below you will see two other examples including symbols and reals"
   ]
  },
  {
   "cell_type": "code",
   "execution_count": 45,
   "metadata": {},
   "outputs": [
    {
     "data": {
      "text/plain": [
       "`\n"
      ]
     },
     "execution_count": 45,
     "metadata": {},
     "output_type": "execute_result"
    }
   ],
   "source": [
    "z:`IBM`MSFT`GOOG \n",
    "z[10] "
   ]
  },
  {
   "cell_type": "code",
   "execution_count": 46,
   "metadata": {},
   "outputs": [
    {
     "data": {
      "text/plain": [
       "0Ne\n"
      ]
     },
     "execution_count": 46,
     "metadata": {},
     "output_type": "execute_result"
    }
   ],
   "source": [
    "y:1 2 3e\n",
    "y[4]"
   ]
  },
  {
   "cell_type": "markdown",
   "metadata": {
    "solution2": "shown",
    "solution2_first": true
   },
   "source": [
    "##### Exercise \n",
    "What is returned when you index out of the bounds of a general list? Let's find out!\n",
    "\n",
    "Create a general list `GList` with three items of different types of your choosing (verify the list is general by showing `type GList` is `0h`). \n",
    "\n",
    "* What is the type of each list item? \n",
    "* Retrieve the value at index 3 - what is it's type? "
   ]
  },
  {
   "cell_type": "code",
   "execution_count": null,
   "metadata": {
    "solution2": "shown"
   },
   "outputs": [],
   "source": [
    "show GList: (`a;1;\"b\")\n",
    "type each GList   //using each with the type command to iterate over the General List and get the type for each item\n",
    "type GList        //type of the whole list \n",
    "type GList 3      //type when we index out of bounds is the type of the first item"
   ]
  },
  {
   "cell_type": "code",
   "execution_count": 50,
   "metadata": {},
   "outputs": [
    {
     "name": "stdout",
     "output_type": "stream",
     "text": [
      "1\n",
      "`M\n",
      "\"h\"\n",
      "\"j\"\n",
      "\"k\"\n"
     ]
    },
    {
     "data": {
      "text/plain": [
       "0h\n"
      ]
     },
     "execution_count": 50,
     "metadata": {},
     "output_type": "execute_result"
    },
    {
     "data": {
      "text/plain": [
       "0N\n"
      ]
     },
     "execution_count": 50,
     "metadata": {},
     "output_type": "execute_result"
    },
    {
     "data": {
      "text/plain": [
       "-7h\n"
      ]
     },
     "execution_count": 50,
     "metadata": {},
     "output_type": "execute_result"
    },
    {
     "data": {
      "text/plain": [
       "-7 -11 -10 -10 -10h\n"
      ]
     },
     "execution_count": 50,
     "metadata": {},
     "output_type": "execute_result"
    }
   ],
   "source": [
    "//your code here \n",
    "show GList: 1,`M,\"hjk\"\n",
    "type GList\n",
    "GList[5]\n",
    "type GList[5] //same type as the first element \n",
    "type each GList"
   ]
  },
  {
   "cell_type": "markdown",
   "metadata": {},
   "source": [
    "## Indexing Lists at Depth\n",
    "We can continue to index into list structures to retrieve nested items. The keyword [`cut`](https://code.kx.com/q/ref/cut/) can be used to create a matrix by cutting a list at every third index. "
   ]
  },
  {
   "cell_type": "code",
   "execution_count": 51,
   "metadata": {},
   "outputs": [
    {
     "name": "stdout",
     "output_type": "stream",
     "text": [
      "0  3  6 \n",
      "9  12 15\n",
      "18 21 24\n"
     ]
    },
    {
     "data": {
      "text/plain": [
       "0 3 6\n"
      ]
     },
     "execution_count": 51,
     "metadata": {},
     "output_type": "execute_result"
    }
   ],
   "source": [
    "show matrix: 3 cut 3* til 9 \n",
    "matrix[0]    //the first item of our matrix is the first \"row\""
   ]
  },
  {
   "cell_type": "code",
   "execution_count": 52,
   "metadata": {},
   "outputs": [
    {
     "data": {
      "text/plain": [
       "3 6\n"
      ]
     },
     "execution_count": 52,
     "metadata": {},
     "output_type": "execute_result"
    }
   ],
   "source": [
    "matrix[0][1 2] //we can now index into *that* list to get the 2nd and 3rd items"
   ]
  },
  {
   "cell_type": "markdown",
   "metadata": {},
   "source": [
    "There is more simple syntax to achieve this in kdb+ where we can provide the associated indexing chain directly."
   ]
  },
  {
   "cell_type": "code",
   "execution_count": 53,
   "metadata": {},
   "outputs": [
    {
     "data": {
      "text/plain": [
       "3 6\n"
      ]
     },
     "execution_count": 53,
     "metadata": {},
     "output_type": "execute_result"
    }
   ],
   "source": [
    "matrix[0;1 2]"
   ]
  },
  {
   "cell_type": "markdown",
   "metadata": {},
   "source": [
    "<img src=\"../qbies.png\" style=\"width: 50px;padding-right:5px;padding-top:15px;padding-left:5px;\" align=\"left\"/>\n",
    "\n",
    "<p style='color:#273a6e'><i> There is a difference between <code>matrix[0;1]</code> versus <code>matrix 0 1</code>. The <code>;</code> indicates a change in depth at which the indexing applies. Make sure you understand the difference between both before moving on.</i></p>"
   ]
  },
  {
   "cell_type": "markdown",
   "metadata": {
    "solution2": "shown",
    "solution2_first": true
   },
   "source": [
    "##### Exercise\n",
    "\n",
    "Create a two item list `t3` containing the string lists \"hello\" \"world\". Index at top level to obtain the string \"hello\""
   ]
  },
  {
   "cell_type": "code",
   "execution_count": null,
   "metadata": {
    "solution2": "shown"
   },
   "outputs": [],
   "source": [
    "t3:(\"hello\";\"world\")\n",
    "t3[0]\n",
    "type t3[0] //checking the type"
   ]
  },
  {
   "cell_type": "code",
   "execution_count": 56,
   "metadata": {},
   "outputs": [
    {
     "name": "stdout",
     "output_type": "stream",
     "text": [
      "\"hello\"\n",
      "\"world\"\n"
     ]
    },
    {
     "data": {
      "text/plain": [
       "\"hello\"\n"
      ]
     },
     "execution_count": 56,
     "metadata": {},
     "output_type": "execute_result"
    },
    {
     "data": {
      "text/plain": [
       "10h\n"
      ]
     },
     "execution_count": 56,
     "metadata": {},
     "output_type": "execute_result"
    }
   ],
   "source": [
    " //your answer here\n",
    "show t3: (\"hello\";\"world\")\n",
    "t3[0]\n",
    "type t3[0]"
   ]
  },
  {
   "cell_type": "markdown",
   "metadata": {
    "solution2": "hidden",
    "solution2_first": true
   },
   "source": [
    "##### Exercise\n",
    "\n",
    "Using the list `t3` index at depth to create a list `t4` from the vowels in \"hello\"\n"
   ]
  },
  {
   "cell_type": "code",
   "execution_count": null,
   "metadata": {
    "solution2": "hidden"
   },
   "outputs": [],
   "source": [
    "t3:(\"hello\";\"world\")\n",
    "show t4:t3[0;1 4] //indexing into the list to get the vowels\n",
    "type t4           //checking the type"
   ]
  },
  {
   "cell_type": "code",
   "execution_count": 60,
   "metadata": {},
   "outputs": [
    {
     "name": "stdout",
     "output_type": "stream",
     "text": [
      "\"eo\"\n"
     ]
    },
    {
     "data": {
      "text/plain": [
       "10h\n"
      ]
     },
     "execution_count": 60,
     "metadata": {},
     "output_type": "execute_result"
    }
   ],
   "source": [
    "//your answer here \n",
    "show t4: t3[0;1,4]\n",
    "type t4"
   ]
  },
  {
   "cell_type": "markdown",
   "metadata": {},
   "source": [
    "## Index Elision\n",
    "\n",
    "If we know that our list is a list of lists, like our `matrix` variable, and we want to return the first item of each of these nested lists, we can do this explicitly  as follows."
   ]
  },
  {
   "cell_type": "code",
   "execution_count": 61,
   "metadata": {},
   "outputs": [
    {
     "data": {
      "text/plain": [
       "0  3  6 \n",
       "9  12 15\n",
       "18 21 24\n"
      ]
     },
     "execution_count": 61,
     "metadata": {},
     "output_type": "execute_result"
    },
    {
     "data": {
      "text/plain": [
       "0 9 18\n"
      ]
     },
     "execution_count": 61,
     "metadata": {},
     "output_type": "execute_result"
    }
   ],
   "source": [
    "matrix\n",
    "matrix[0 1 2;0]"
   ]
  },
  {
   "cell_type": "markdown",
   "metadata": {},
   "source": [
    "If we want to do this more generally without explicitly defining the specific indexes we care about at a given level, we can use this syntax instead:  "
   ]
  },
  {
   "cell_type": "code",
   "execution_count": 62,
   "metadata": {},
   "outputs": [
    {
     "data": {
      "text/plain": [
       "0 9 18\n"
      ]
     },
     "execution_count": 62,
     "metadata": {},
     "output_type": "execute_result"
    }
   ],
   "source": [
    "matrix[;0]  //get the first item of all lists"
   ]
  },
  {
   "cell_type": "markdown",
   "metadata": {},
   "source": [
    "By not specifying the first index, we actually apply to all and this is extensible across lists we don’t know the full size of. "
   ]
  },
  {
   "cell_type": "markdown",
   "metadata": {
    "solution2": "hidden",
    "solution2_first": true
   },
   "source": [
    "##### Exercise \n",
    "* Retrieve the 2nd and 3rd items from each list in the matrix variable.\n",
    "* Retrieve the 2nd and 3rd items from the matrix variable "
   ]
  },
  {
   "cell_type": "code",
   "execution_count": null,
   "metadata": {
    "solution2": "hidden"
   },
   "outputs": [],
   "source": [
    "matrix[;1 2]  //extracting the columns "
   ]
  },
  {
   "cell_type": "code",
   "execution_count": null,
   "metadata": {
    "solution2": "hidden"
   },
   "outputs": [],
   "source": [
    "matrix[1 2;]  //extracting the rows - matrix[1 2] is equivalent"
   ]
  },
  {
   "cell_type": "code",
   "execution_count": 65,
   "metadata": {},
   "outputs": [
    {
     "data": {
      "text/plain": [
       "3  6 \n",
       "12 15\n",
       "21 24\n"
      ]
     },
     "execution_count": 65,
     "metadata": {},
     "output_type": "execute_result"
    },
    {
     "data": {
      "text/plain": [
       "9  12 15\n",
       "18 21 24\n"
      ]
     },
     "execution_count": 65,
     "metadata": {},
     "output_type": "execute_result"
    },
    {
     "data": {
      "text/plain": [
       "9  12 15\n",
       "18 21 24\n"
      ]
     },
     "execution_count": 65,
     "metadata": {},
     "output_type": "execute_result"
    }
   ],
   "source": [
    "//your code here \n",
    "matrix[;1 2]\n",
    "matrix[1 2;]\n",
    "matrix[1 2]"
   ]
  },
  {
   "cell_type": "markdown",
   "metadata": {},
   "source": [
    "# List Manipulation\n"
   ]
  },
  {
   "cell_type": "markdown",
   "metadata": {},
   "source": [
    "## Subsetting lists\n",
    "\n",
    "The keyword [`#`](https://code.kx.com/q/ref/take/) (referred to as [take](https://code.kx.com/q/ref/take/)) is used to retrieve the first or last N elements of a list. "
   ]
  },
  {
   "cell_type": "code",
   "execution_count": 66,
   "metadata": {},
   "outputs": [
    {
     "data": {
      "text/plain": [
       "10 20 30 40 50\n"
      ]
     },
     "execution_count": 66,
     "metadata": {},
     "output_type": "execute_result"
    },
    {
     "data": {
      "text/plain": [
       "10 20 30\n"
      ]
     },
     "execution_count": 66,
     "metadata": {},
     "output_type": "execute_result"
    }
   ],
   "source": [
    "L\n",
    "3#L"
   ]
  },
  {
   "cell_type": "code",
   "execution_count": 67,
   "metadata": {},
   "outputs": [
    {
     "data": {
      "text/plain": [
       "30 40 50\n"
      ]
     },
     "execution_count": 67,
     "metadata": {},
     "output_type": "execute_result"
    }
   ],
   "source": [
    "-3#L / If you change the number to negative, you retrieve the last 3 elements"
   ]
  },
  {
   "cell_type": "markdown",
   "metadata": {},
   "source": [
    "Alternatively, by using the keyword [`_`](https://code.kx.com/q4m3/A_Built-in_Functions/#a20-cut-_) (referred to as [cut/drop](https://code.kx.com/q4m3/A_Built-in_Functions/#a20-cut-_) ), we can remove the first or last N elements of a list to return just the remainder of the list."
   ]
  },
  {
   "cell_type": "code",
   "execution_count": 68,
   "metadata": {},
   "outputs": [
    {
     "data": {
      "text/plain": [
       "30 40 50\n"
      ]
     },
     "execution_count": 68,
     "metadata": {},
     "output_type": "execute_result"
    }
   ],
   "source": [
    "2_L "
   ]
  },
  {
   "cell_type": "code",
   "execution_count": 69,
   "metadata": {},
   "outputs": [
    {
     "data": {
      "text/plain": [
       "10 20 30\n"
      ]
     },
     "execution_count": 69,
     "metadata": {},
     "output_type": "execute_result"
    }
   ],
   "source": [
    "-2_L  /removes the last 2 elements"
   ]
  },
  {
   "cell_type": "markdown",
   "metadata": {},
   "source": [
    "We can use the keyword [`sublist`](https://code.kx.com/q/ref/sublist/) to return a sublist of a list in a similar way to `#`. The first parameter is a simple list of two non-negative integers: the first item is the starting index (start); the second item is the number of items to retrieve (count). The second parameter (target) is a list (or dictionary)."
   ]
  },
  {
   "cell_type": "code",
   "execution_count": 70,
   "metadata": {},
   "outputs": [
    {
     "data": {
      "text/plain": [
       "3 4 5\n"
      ]
     },
     "execution_count": 70,
     "metadata": {},
     "output_type": "execute_result"
    },
    {
     "data": {
      "text/plain": [
       "\"KDB is\"\n"
      ]
     },
     "execution_count": 70,
     "metadata": {},
     "output_type": "execute_result"
    }
   ],
   "source": [
    "2 3 sublist 1 2 3 4 5\n",
    "0 6 sublist \"KDB is fun\""
   ]
  },
  {
   "cell_type": "code",
   "execution_count": 71,
   "metadata": {},
   "outputs": [
    {
     "data": {
      "text/plain": [
       "0 1 2 3 4 0 1 2\n"
      ]
     },
     "execution_count": 71,
     "metadata": {},
     "output_type": "execute_result"
    },
    {
     "data": {
      "text/plain": [
       "0 1 2 3 4\n"
      ]
     },
     "execution_count": 71,
     "metadata": {},
     "output_type": "execute_result"
    }
   ],
   "source": [
    "8#til 5\n",
    "8 sublist til 5 //assumes teh index you want to start at is 0 , if 8 > 5 only returns full list no looping"
   ]
  },
  {
   "cell_type": "markdown",
   "metadata": {},
   "source": [
    "<img src=\"../qbies.png\" style=\"width: 50px;padding-right:5px;padding-top:15px;padding-left:5px;\" align=\"left\"/>\n",
    "\n",
    "<p style='color:#273a6e'><i>The only broadcasting that kdb+/q does as a rule is between atomic values and lists e.g. <code>1 + 1 2 3</code>. If broadcasting is required we can use <code>#</code> to force lists to be the same length, but this behavior is not standard or expected.</i></p>"
   ]
  },
  {
   "cell_type": "markdown",
   "metadata": {
    "solution2": "shown",
    "solution2_first": true
   },
   "source": [
    "##### Exercise\n",
    "\n",
    "Return:\n",
    "* The last 2 items of `L`\n",
    "* The second from last item of `L`\n",
    "* The next 2 items starting from the 2nd item from `L`"
   ]
  },
  {
   "cell_type": "code",
   "execution_count": 80,
   "metadata": {
    "solution2": "shown"
   },
   "outputs": [
    {
     "data": {
      "text/plain": [
       "10 20 30 40 50\n"
      ]
     },
     "execution_count": 80,
     "metadata": {},
     "output_type": "execute_result"
    },
    {
     "data": {
      "text/plain": [
       "40 50\n"
      ]
     },
     "execution_count": 80,
     "metadata": {},
     "output_type": "execute_result"
    }
   ],
   "source": [
    "L\n",
    "-2#L   //take the last two "
   ]
  },
  {
   "cell_type": "code",
   "execution_count": 77,
   "metadata": {
    "solution2": "shown"
   },
   "outputs": [
    {
     "data": {
      "text/plain": [
       "40\n"
      ]
     },
     "execution_count": 77,
     "metadata": {},
     "output_type": "execute_result"
    },
    {
     "data": {
      "text/plain": [
       "40\n"
      ]
     },
     "execution_count": 77,
     "metadata": {},
     "output_type": "execute_result"
    },
    {
     "data": {
      "text/plain": [
       "40\n"
      ]
     },
     "execution_count": 77,
     "metadata": {},
     "output_type": "execute_result"
    }
   ],
   "source": [
    "first -2#L \n",
    "(-2#L) 0         //using indexing to get the first of the last two items\n",
    "L[-2 + count L]  //using indexing directly on L to move 2 back from the end of the list"
   ]
  },
  {
   "cell_type": "code",
   "execution_count": 78,
   "metadata": {
    "solution2": "shown"
   },
   "outputs": [
    {
     "data": {
      "text/plain": [
       "20 30\n"
      ]
     },
     "execution_count": 78,
     "metadata": {},
     "output_type": "execute_result"
    },
    {
     "data": {
      "text/plain": [
       "20 30\n"
      ]
     },
     "execution_count": 78,
     "metadata": {},
     "output_type": "execute_result"
    },
    {
     "data": {
      "text/plain": [
       "20 30\n"
      ]
     },
     "execution_count": 78,
     "metadata": {},
     "output_type": "execute_result"
    }
   ],
   "source": [
    "1 2 sublist L   //using sublist \n",
    "L[1+ til 2]     //using direct indexing \n",
    "2#1_L           //dropping the first item then taking the first 2"
   ]
  },
  {
   "cell_type": "code",
   "execution_count": 83,
   "metadata": {},
   "outputs": [
    {
     "data": {
      "text/plain": [
       "10 20 30 40 50\n"
      ]
     },
     "execution_count": 83,
     "metadata": {},
     "output_type": "execute_result"
    },
    {
     "data": {
      "text/plain": [
       "40 50\n"
      ]
     },
     "execution_count": 83,
     "metadata": {},
     "output_type": "execute_result"
    },
    {
     "data": {
      "text/plain": [
       "40\n"
      ]
     },
     "execution_count": 83,
     "metadata": {},
     "output_type": "execute_result"
    },
    {
     "data": {
      "text/plain": [
       ",40\n"
      ]
     },
     "execution_count": 83,
     "metadata": {},
     "output_type": "execute_result"
    },
    {
     "data": {
      "text/plain": [
       "20 30\n"
      ]
     },
     "execution_count": 83,
     "metadata": {},
     "output_type": "execute_result"
    }
   ],
   "source": [
    "//your code here\n",
    "L\n",
    "-2#L\n",
    "(-2#L) 0\n",
    "3 1 sublist L //returns list -> one element list in this case\n",
    "1 2 sublist L"
   ]
  },
  {
   "cell_type": "markdown",
   "metadata": {},
   "source": [
    "## Finding items in lists \n",
    "\n",
    "Depending on the type of arguments passed, the behavior of the `?` operator can differ. We previously used `?` to generate random data as follows: "
   ]
  },
  {
   "cell_type": "code",
   "execution_count": 84,
   "metadata": {},
   "outputs": [
    {
     "data": {
      "text/plain": [
       "7 5 5 6 6\n"
      ]
     },
     "execution_count": 84,
     "metadata": {},
     "output_type": "execute_result"
    },
    {
     "data": {
      "text/plain": [
       "5 7 7 6 5\n"
      ]
     },
     "execution_count": 84,
     "metadata": {},
     "output_type": "execute_result"
    }
   ],
   "source": [
    "?[5;1 4 5 5 6 7]   //generate 5 items drawn randomly from the passed list\n",
    "5?1 4 5 5 6 7      //infix - generate 5 items from the list "
   ]
  },
  {
   "cell_type": "markdown",
   "metadata": {},
   "source": [
    "Above the first argument is an atomic integer, therefore q is generating a list of 5 random elements taken from the 2nd argument.\n",
    "\n",
    "If the first argument is a list however, it is known as the [`find`](https://code.kx.com/q4m3/8_Tables/#863-find) operator. This operator will return the index of the first occurrence of each element in the 2nd argument. For example:"
   ]
  },
  {
   "cell_type": "code",
   "execution_count": 85,
   "metadata": {},
   "outputs": [
    {
     "data": {
      "text/plain": [
       "2\n"
      ]
     },
     "execution_count": 85,
     "metadata": {},
     "output_type": "execute_result"
    },
    {
     "data": {
      "text/plain": [
       "2\n"
      ]
     },
     "execution_count": 85,
     "metadata": {},
     "output_type": "execute_result"
    }
   ],
   "source": [
    "?[1 4 5 5 6 7;5]     //first occurance of 5\n",
    "1 4 5 5 6 7?5        //infix - where is the first occurance of 5 in this list"
   ]
  },
  {
   "cell_type": "code",
   "execution_count": 86,
   "metadata": {},
   "outputs": [
    {
     "data": {
      "text/plain": [
       "2 0\n"
      ]
     },
     "execution_count": 86,
     "metadata": {},
     "output_type": "execute_result"
    },
    {
     "data": {
      "text/plain": [
       "2 0\n"
      ]
     },
     "execution_count": 86,
     "metadata": {},
     "output_type": "execute_result"
    }
   ],
   "source": [
    "?[1 4 5 5 6 7;5 1]   //first occurance of 5 and 1 \n",
    "1 4 5 5 6 7?5 1 "
   ]
  },
  {
   "cell_type": "markdown",
   "metadata": {},
   "source": [
    "Another very important keyword in kdb+/q is [where](https://code.kx.com/q/ref/where/) which returns the indices that are 1b in a boolean list."
   ]
  },
  {
   "cell_type": "code",
   "execution_count": 87,
   "metadata": {},
   "outputs": [
    {
     "data": {
      "text/plain": [
       "0 2 4\n"
      ]
     },
     "execution_count": 87,
     "metadata": {},
     "output_type": "execute_result"
    }
   ],
   "source": [
    "where 101010b"
   ]
  },
  {
   "cell_type": "markdown",
   "metadata": {},
   "source": [
    "This is useful to find the positions where a certain criteria is met: "
   ]
  },
  {
   "cell_type": "code",
   "execution_count": 88,
   "metadata": {},
   "outputs": [
    {
     "name": "stdout",
     "output_type": "stream",
     "text": [
      "41 15 44 10 43 6 34 36 15 22\n"
     ]
    },
    {
     "data": {
      "text/plain": [
       "1010101100b\n"
      ]
     },
     "execution_count": 88,
     "metadata": {},
     "output_type": "execute_result"
    },
    {
     "data": {
      "text/plain": [
       "0 2 4 6 7\n"
      ]
     },
     "execution_count": 88,
     "metadata": {},
     "output_type": "execute_result"
    }
   ],
   "source": [
    "show L:10?50\n",
    "L >30\n",
    "where L >30"
   ]
  },
  {
   "cell_type": "markdown",
   "metadata": {},
   "source": [
    "We can then use the list of indices returned by the `where` command, to index into our original list and return the values from our list that meet the filter criteria."
   ]
  },
  {
   "cell_type": "code",
   "execution_count": 89,
   "metadata": {},
   "outputs": [
    {
     "data": {
      "text/plain": [
       "41 44 43 34 36\n"
      ]
     },
     "execution_count": 89,
     "metadata": {},
     "output_type": "execute_result"
    }
   ],
   "source": [
    "L[where[L>=30]]"
   ]
  },
  {
   "cell_type": "markdown",
   "metadata": {
    "solution2": "hidden",
    "solution2_first": true
   },
   "source": [
    "##### Exercise \n",
    "Return the items of `L` that are divisible by 3. "
   ]
  },
  {
   "cell_type": "code",
   "execution_count": null,
   "metadata": {
    "solution2": "hidden"
   },
   "outputs": [],
   "source": [
    "L\n",
    "0=L mod 3 //a boolean list \n",
    "L where 0= L mod 3"
   ]
  },
  {
   "cell_type": "code",
   "execution_count": 91,
   "metadata": {},
   "outputs": [
    {
     "data": {
      "text/plain": [
       "15 6 36 15\n"
      ]
     },
     "execution_count": 91,
     "metadata": {},
     "output_type": "execute_result"
    },
    {
     "data": {
      "text/plain": [
       "15 6 36 15\n"
      ]
     },
     "execution_count": 91,
     "metadata": {},
     "output_type": "execute_result"
    }
   ],
   "source": [
    "//your code here\n",
    "L[where[0 = L mod 3]]\n",
    "L[where 0 = L mod 3]"
   ]
  },
  {
   "cell_type": "markdown",
   "metadata": {
    "solution2": "hidden",
    "solution2_first": true
   },
   "source": [
    "##### Exercise \n",
    "\n",
    "Given the list 1 1 2 3 1 1 2, find: \n",
    "* The index of first occurrence of 3 \n",
    "* All index occurrences of 3 \n",
    "* The type of each return value \n",
    "\n",
    "What do you notice? "
   ]
  },
  {
   "cell_type": "code",
   "execution_count": null,
   "metadata": {
    "solution2": "hidden"
   },
   "outputs": [],
   "source": [
    "1 1 2 3 1 1 2?3\n",
    "type 1 1 2 3 1 1 2?3   //find always returns an atomic value - it stops at the first one"
   ]
  },
  {
   "cell_type": "code",
   "execution_count": null,
   "metadata": {
    "solution2": "hidden"
   },
   "outputs": [],
   "source": [
    "where 1 1 2 3 1 1 2=3\n",
    "type where 1 1 2 3 1 1 2=3   //where returns a list, even if there is only one result"
   ]
  },
  {
   "cell_type": "code",
   "execution_count": null,
   "metadata": {},
   "outputs": [],
   "source": [
    "//your code here"
   ]
  },
  {
   "cell_type": "markdown",
   "metadata": {},
   "source": [
    "## Analysing lists\n",
    "The q language has some useful built-in functions that can be used to get information about a list. \n",
    "Some of the keywords (notice no loops!) return singular values and in some case aggregate values, while others may return lists."
   ]
  },
  {
   "cell_type": "markdown",
   "metadata": {},
   "source": [
    "**Some keywords that return singular/atomic values:**\n",
    "* [count](https://code.kx.com/q/ref/count/) - Obtain the count of a list  \n",
    "* [first](https://code.kx.com/q/ref/first/) - Extract the first element of a list\n",
    "* [last](https://code.kx.com/q/ref/first/#last) - Extract the last element of the list\n",
    "* [max](https://code.kx.com/q4m3/A_Built-in_Functions/#a51-max) - Find the maximum value in a list\n",
    "* [min](https://code.kx.com/q4m3/A_Built-in_Functions/#a57-min) - Find the minimum value in a list\n",
    "* [avg](https://code.kx.com/q/ref/avg/) - Find the mean of a list\n",
    "* [dev](https://code.kx.com/q/ref/dev/) - Standard deviation of a list\n",
    "* [var](https://code.kx.com/q/ref/var/) - Variance of a list\n",
    "* [sum](https://code.kx.com/q/ref/sum/) - Total summation of a list"
   ]
  },
  {
   "cell_type": "code",
   "execution_count": 92,
   "metadata": {},
   "outputs": [
    {
     "data": {
      "text/plain": [
       "41 15 44 10 43 6 34 36 15 22\n"
      ]
     },
     "execution_count": 92,
     "metadata": {},
     "output_type": "execute_result"
    },
    {
     "data": {
      "text/plain": [
       "10\n"
      ]
     },
     "execution_count": 92,
     "metadata": {},
     "output_type": "execute_result"
    },
    {
     "data": {
      "text/plain": [
       "41\n"
      ]
     },
     "execution_count": 92,
     "metadata": {},
     "output_type": "execute_result"
    },
    {
     "data": {
      "text/plain": [
       "22\n"
      ]
     },
     "execution_count": 92,
     "metadata": {},
     "output_type": "execute_result"
    },
    {
     "data": {
      "text/plain": [
       "44\n"
      ]
     },
     "execution_count": 92,
     "metadata": {},
     "output_type": "execute_result"
    },
    {
     "data": {
      "text/plain": [
       "6\n"
      ]
     },
     "execution_count": 92,
     "metadata": {},
     "output_type": "execute_result"
    },
    {
     "data": {
      "text/plain": [
       "26.6\n"
      ]
     },
     "execution_count": 92,
     "metadata": {},
     "output_type": "execute_result"
    },
    {
     "data": {
      "text/plain": [
       "13.82896\n"
      ]
     },
     "execution_count": 92,
     "metadata": {},
     "output_type": "execute_result"
    },
    {
     "data": {
      "text/plain": [
       "191.24\n"
      ]
     },
     "execution_count": 92,
     "metadata": {},
     "output_type": "execute_result"
    },
    {
     "data": {
      "text/plain": [
       "266\n"
      ]
     },
     "execution_count": 92,
     "metadata": {},
     "output_type": "execute_result"
    }
   ],
   "source": [
    "L\n",
    "count L\n",
    "first L\n",
    "last L\n",
    "max L\n",
    "min L\n",
    "avg L\n",
    "dev L\n",
    "var L\n",
    "sum L"
   ]
  },
  {
   "cell_type": "markdown",
   "metadata": {
    "solution2": "hidden",
    "solution2_first": true
   },
   "source": [
    "##### Exercise\n",
    "\n",
    "Create a list `t5` of the first five negative numbers. Obtain the first and last items from this list"
   ]
  },
  {
   "cell_type": "code",
   "execution_count": null,
   "metadata": {
    "solution2": "hidden"
   },
   "outputs": [],
   "source": [
    "t5:(-1 -2 -3 -4 -5)\n",
    "t5[0 4]"
   ]
  },
  {
   "cell_type": "code",
   "execution_count": null,
   "metadata": {
    "solution2": "hidden"
   },
   "outputs": [],
   "source": [
    "//More generally for a list of length L\n",
    "L:5\n",
    "show t5: neg 1+ til L //more general list -1 -> L\n",
    "show l:(first t5; last t5) "
   ]
  },
  {
   "cell_type": "code",
   "execution_count": 94,
   "metadata": {},
   "outputs": [
    {
     "name": "stdout",
     "output_type": "stream",
     "text": [
      "-1 -2 -3 -4 -5\n"
     ]
    },
    {
     "data": {
      "text/plain": [
       "-1\n"
      ]
     },
     "execution_count": 94,
     "metadata": {},
     "output_type": "execute_result"
    },
    {
     "data": {
      "text/plain": [
       "-5\n"
      ]
     },
     "execution_count": 94,
     "metadata": {},
     "output_type": "execute_result"
    }
   ],
   "source": [
    "//your answer here \n",
    "show t5: neg 1 + til 5\n",
    "first t5\n",
    "last t5"
   ]
  },
  {
   "cell_type": "markdown",
   "metadata": {},
   "source": [
    "**Some keywords return list/vector values:**\n",
    "You can retrieve the running maximum and minimum by applying the keywords below:\n",
    "\n",
    "* [sums](https://code.kx.com/q/ref/sum/#sums) - Running total of a list\n",
    "* [maxs](https://code.kx.com/q/ref/max/#maxs) - Running maximums through a list\n",
    "* [mins](https://code.kx.com/q/ref/min/#mins) - Running minimums through a list \n",
    "* [avgs](https://code.kx.com/q/ref/avg/#avgs) - Running average through a list\n",
    "* [null](https://code.kx.com/q/ref/null/) - Returns a boolean list with `1b` where any value of a list is null\n",
    "* [distinct](https://code.kx.com/q/ref/distinct/) -Returns the unique items in the list, in order of first occurrence\n",
    "* [group](https://code.kx.com/q/ref/group/) - Returns a dictionary where each distinct item in the list is mapped to the indexes of occurrence, in order of occurrence\n"
   ]
  },
  {
   "cell_type": "code",
   "execution_count": 95,
   "metadata": {},
   "outputs": [
    {
     "name": "stdout",
     "output_type": "stream",
     "text": [
      "30 0N 10 20 50 30 60 30 40 50\n"
     ]
    },
    {
     "data": {
      "text/plain": [
       "30 30 30 30 50 50 60 60 60 60\n"
      ]
     },
     "execution_count": 95,
     "metadata": {},
     "output_type": "execute_result"
    },
    {
     "data": {
      "text/plain": [
       "30 30 10 10 10 10 10 10 10 10\n"
      ]
     },
     "execution_count": 95,
     "metadata": {},
     "output_type": "execute_result"
    },
    {
     "data": {
      "text/plain": [
       "30 30 20 20 27.5 28 33.33333 32.85714 33.75 35.55556\n"
      ]
     },
     "execution_count": 95,
     "metadata": {},
     "output_type": "execute_result"
    },
    {
     "data": {
      "text/plain": [
       "30 30 40 60 110 140 200 230 270 320\n"
      ]
     },
     "execution_count": 95,
     "metadata": {},
     "output_type": "execute_result"
    },
    {
     "data": {
      "text/plain": [
       "30| 0 5 7\n",
       "  | ,1\n",
       "10| ,2\n",
       "20| ,3\n",
       "50| 4 9\n",
       "60| ,6\n",
       "40| ,8\n"
      ]
     },
     "execution_count": 95,
     "metadata": {},
     "output_type": "execute_result"
    }
   ],
   "source": [
    "show L:30 0N 10 20 50 30 60 30 40 50\n",
    "maxs L\n",
    "mins L  \n",
    "avgs L \n",
    "sums L \n",
    "group L // each unique value is a key and returns indices "
   ]
  },
  {
   "cell_type": "markdown",
   "metadata": {},
   "source": [
    "Notice in the examples above the behavior of each function with respect to null values. "
   ]
  },
  {
   "cell_type": "markdown",
   "metadata": {
    "solution2": "hidden",
    "solution2_first": true
   },
   "source": [
    "##### Exercise \n",
    "\n",
    "Create a string list `t6` similar to above saying-- `(\"Welcome\";\"to\";\"KDB\")`. \n",
    "\n",
    "Using the built-in functions above, deduce and return the word with the most letters.\n",
    "\n",
    "HINT: (you may wish to use the iterator [`each`](https://code.kx.com/q/ref/each/) to apply `count` to every item in the list) "
   ]
  },
  {
   "cell_type": "code",
   "execution_count": null,
   "metadata": {
    "solution2": "hidden"
   },
   "outputs": [],
   "source": [
    "show t6:(\"Welcome\";\"to\";\"KDB\")"
   ]
  },
  {
   "cell_type": "code",
   "execution_count": null,
   "metadata": {
    "solution2": "hidden"
   },
   "outputs": [],
   "source": [
    "count each t6      //how long is each word"
   ]
  },
  {
   "cell_type": "code",
   "execution_count": null,
   "metadata": {
    "solution2": "hidden"
   },
   "outputs": [],
   "source": [
    "show m:max count each t6  //which word is longest?\n",
    "m= count each t6"
   ]
  },
  {
   "cell_type": "code",
   "execution_count": null,
   "metadata": {
    "solution2": "hidden"
   },
   "outputs": [],
   "source": [
    "t6 where c= max c:count each t6    //which word corresponds to the biggest count (now we have the count for each)"
   ]
  },
  {
   "cell_type": "code",
   "execution_count": 100,
   "metadata": {},
   "outputs": [
    {
     "name": "stdout",
     "output_type": "stream",
     "text": [
      "\"Welcome\"\n",
      "\"to\"\n",
      "\"KDB\"\n"
     ]
    },
    {
     "data": {
      "text/plain": [
       "3\n"
      ]
     },
     "execution_count": 100,
     "metadata": {},
     "output_type": "execute_result"
    },
    {
     "data": {
      "text/plain": [
       "7 2 3\n"
      ]
     },
     "execution_count": 100,
     "metadata": {},
     "output_type": "execute_result"
    },
    {
     "data": {
      "text/plain": [
       "\"Welcome\"\n",
       "\"Welcome\"\n",
       "\"Welcome\"\n",
       "\"Welcome\"\n",
       "\"Welcome\"\n",
       "\"Welcome\"\n",
       "\"Welcome\"\n",
       "\"to\"\n",
       "\"to\"\n",
       "\"KDB\"\n",
       "\"KDB\"\n",
       "\"KDB\"\n"
      ]
     },
     "execution_count": 100,
     "metadata": {},
     "output_type": "execute_result"
    }
   ],
   "source": [
    " //your answer here \n",
    "show t6: (\"Welcome\";\"to\";\"KDB\")\n",
    "count t6\n",
    "count each t6\n",
    "max_word: max count each t6 \n",
    "t6 where count each t6 = max_word"
   ]
  },
  {
   "cell_type": "markdown",
   "metadata": {},
   "source": [
    "# List comparison\n"
   ]
  },
  {
   "cell_type": "markdown",
   "metadata": {},
   "source": [
    "We use the [`=` (equals)](https://code.kx.com/q/ref/equal/) operator to find which atoms within a list have equal values - it applies in a pairwise fashion"
   ]
  },
  {
   "cell_type": "code",
   "execution_count": 101,
   "metadata": {},
   "outputs": [
    {
     "data": {
      "text/plain": [
       "011b\n"
      ]
     },
     "execution_count": 101,
     "metadata": {},
     "output_type": "execute_result"
    },
    {
     "data": {
      "text/plain": [
       "01100b\n"
      ]
     },
     "execution_count": 101,
     "metadata": {},
     "output_type": "execute_result"
    }
   ],
   "source": [
    "`b`b`c=(`a`b`c)\n",
    "\n",
    "(1;2;3;4;5)=(5;2;3;2;1)"
   ]
  },
  {
   "cell_type": "markdown",
   "metadata": {},
   "source": [
    "We can use the [`~` (match)](https://code.kx.com/q/ref/match/) operator to check if two items are **identical**. Match also checks the data type of the arguments, not just the values."
   ]
  },
  {
   "cell_type": "code",
   "execution_count": 102,
   "metadata": {},
   "outputs": [
    {
     "data": {
      "text/plain": [
       "1b\n"
      ]
     },
     "execution_count": 102,
     "metadata": {},
     "output_type": "execute_result"
    },
    {
     "data": {
      "text/plain": [
       "0b\n"
      ]
     },
     "execution_count": 102,
     "metadata": {},
     "output_type": "execute_result"
    },
    {
     "data": {
      "text/plain": [
       "0b\n"
      ]
     },
     "execution_count": 102,
     "metadata": {},
     "output_type": "execute_result"
    }
   ],
   "source": [
    "`a`b`c~`a`b`c\n",
    "(1;2;3)~(1;2;3;4)\n",
    "(1;2;3)~(1.0;2.0;3.0)"
   ]
  },
  {
   "cell_type": "markdown",
   "metadata": {},
   "source": [
    "<img src=\"../qbies.png\" style=\"width: 50px;padding-right:5px;padding-top:15px;padding-left:5px;\" align=\"left\"/>\n",
    "\n",
    "<p style='color:#273a6e'><i> Lists must be of equal length when using <code>=</code> or this will return a length error! Match doesn't error with different lengths of input, but since the length is different it won't match. </i></p>"
   ]
  },
  {
   "cell_type": "markdown",
   "metadata": {},
   "source": [
    "# List Amendment"
   ]
  },
  {
   "cell_type": "markdown",
   "metadata": {},
   "source": [
    "## Amendment by Indexing \n",
    "Items in a list can also be reassigned via item indexing - meaning we can amend an item in a list without having to explicitly redefine it."
   ]
  },
  {
   "cell_type": "code",
   "execution_count": 103,
   "metadata": {},
   "outputs": [
    {
     "data": {
      "text/plain": [
       "30 0N 10 20 50 30 60 30 40 50\n"
      ]
     },
     "execution_count": 103,
     "metadata": {},
     "output_type": "execute_result"
    },
    {
     "data": {
      "text/plain": [
       "30 0N 40 20 50 30 60 30 40 50\n"
      ]
     },
     "execution_count": 103,
     "metadata": {},
     "output_type": "execute_result"
    }
   ],
   "source": [
    "/reassign the third element as 40\n",
    "L\n",
    "L[2]:40\n",
    "L"
   ]
  },
  {
   "cell_type": "code",
   "execution_count": 103,
   "metadata": {},
   "outputs": [
    {
     "ename": "\u001b[0;31mtype\u001b[0m",
     "evalue": "\u001b[0;31mtype\u001b[0m",
     "output_type": "error",
     "traceback": [
      "\u001b[0;31mevaluation error:\n\u001b[0m",
      "\u001b[0;31mtype\u001b[0m",
      "\u001b[0;31m\u001b[0m",
      "\u001b[0;31m  [0]  L[1]:10h /note different type\n           ^\n\u001b[0m"
     ]
    }
   ],
   "source": [
    "L[1]:10h /note different type"
   ]
  },
  {
   "cell_type": "markdown",
   "metadata": {},
   "source": [
    "This next example sets a cap on the values `x` can take - using the `where` keyword, we can find and update the indexes where `x` is greater than 30."
   ]
  },
  {
   "cell_type": "code",
   "execution_count": 104,
   "metadata": {},
   "outputs": [
    {
     "name": "stdout",
     "output_type": "stream",
     "text": [
      "27 7 12 34 35 13 46 25 1 1\n"
     ]
    }
   ],
   "source": [
    "show x:10?50"
   ]
  },
  {
   "cell_type": "code",
   "execution_count": 105,
   "metadata": {},
   "outputs": [
    {
     "data": {
      "text/plain": [
       "27 7 12 30 30 13 30 25 1 1\n"
      ]
     },
     "execution_count": 105,
     "metadata": {},
     "output_type": "execute_result"
    }
   ],
   "source": [
    "x[where x>30]:30 /Cap the elements of x at 30\n",
    "x"
   ]
  },
  {
   "cell_type": "markdown",
   "metadata": {
    "solution2": "shown",
    "solution2_first": true
   },
   "source": [
    "##### Exercise \n",
    "\n",
    "Given the list `a:10 20 1 15 102 3 8 40 3e` of reals, update the value of every second item to be null. "
   ]
  },
  {
   "cell_type": "code",
   "execution_count": null,
   "metadata": {
    "solution2": "shown"
   },
   "outputs": [],
   "source": [
    "show a:10 20 1 15 102 3 8 40 3e"
   ]
  },
  {
   "cell_type": "code",
   "execution_count": null,
   "metadata": {
    "solution2": "shown"
   },
   "outputs": [],
   "source": [
    "show inds:1+2* til div[count a;2]   //getting the odd indexes - div is integer division"
   ]
  },
  {
   "cell_type": "code",
   "execution_count": null,
   "metadata": {
    "solution2": "shown"
   },
   "outputs": [],
   "source": [
    "a[inds]:0Ne      //updating - have to use the real type null as the list itself is typed\n",
    "a"
   ]
  },
  {
   "cell_type": "code",
   "execution_count": 114,
   "metadata": {},
   "outputs": [
    {
     "name": "stdout",
     "output_type": "stream",
     "text": [
      "1 3 5 7\n"
     ]
    },
    {
     "data": {
      "text/plain": [
       "10 0N 1 0N 102 0N 8 0N 3e\n"
      ]
     },
     "execution_count": 114,
     "metadata": {},
     "output_type": "execute_result"
    }
   ],
   "source": [
    "//your code here \n",
    "a:10 20 1 15 102 3 8 40 3e\n",
    "show ind:1+ 2 * til div[count a ;2]\n",
    "a[ind]: 0Ne\n",
    "a"
   ]
  },
  {
   "cell_type": "markdown",
   "metadata": {},
   "source": [
    "## Amendment using @\n",
    "We can also use the primitive [`@`](https://code.kx.com/q/ref/amend/) (also referred as amend or apply) to amend a list. Firstly we see how this can be used to return the value at a given index in the same way as indexing:"
   ]
  },
  {
   "cell_type": "code",
   "execution_count": 115,
   "metadata": {},
   "outputs": [
    {
     "name": "stdout",
     "output_type": "stream",
     "text": [
      "10 10 14 5 5 17 7 2 15 10\n"
     ]
    },
    {
     "data": {
      "text/plain": [
       "10 14\n"
      ]
     },
     "execution_count": 115,
     "metadata": {},
     "output_type": "execute_result"
    }
   ],
   "source": [
    "show L: 10?20\n",
    "@[L; 1 2]"
   ]
  },
  {
   "cell_type": "markdown",
   "metadata": {},
   "source": [
    "The `@` primitive can take more arguments to extend it's behavior - namely, we can apply functions directly to our list by passing the function we wish to apply as a third argument. The fourth argument is only used if the function requires additional input."
   ]
  },
  {
   "cell_type": "code",
   "execution_count": 116,
   "metadata": {},
   "outputs": [
    {
     "data": {
      "text/plain": [
       "-10 -10 -14 -5 -5 -17 -7 -2 -15 -10\n"
      ]
     },
     "execution_count": 116,
     "metadata": {},
     "output_type": "execute_result"
    },
    {
     "data": {
      "text/plain": [
       "12 12 16 7 7 19 9 4 17 12\n"
      ]
     },
     "execution_count": 116,
     "metadata": {},
     "output_type": "execute_result"
    },
    {
     "data": {
      "text/plain": [
       "10 10 14 5 5 17 7 2 15 10\n"
      ]
     },
     "execution_count": 116,
     "metadata": {},
     "output_type": "execute_result"
    }
   ],
   "source": [
    "@[L; ::; neg]    //amend the list to apply single argument function \n",
    "@[L; ::; + ; 2]  //amend the list at the null index (all indexes) to add 2 to each \n",
    "L "
   ]
  },
  {
   "cell_type": "markdown",
   "metadata": {},
   "source": [
    "<img src=\"../qbies.png\" style=\"width: 50px;padding-right:5px;padding-top:20px;padding-left:5px;\" align=\"left\"/>\n",
    "\n",
    "<p style='color:#273a6e'><i> The identity <code>::</code> in kdb+/q serves two purposes - it is both a <a href=\"https://code.kx.com/q/ref/identity/#null\">generic null</a> (for any type) and also as an identity function (see Functions section). In the example above we are using it as the generic null to indicate we selected no indexes in particular. The following statements are equivalent <code>L[::]</code>,<code>L[]</code> and <code>L</code>. </i></p>"
   ]
  },
  {
   "cell_type": "markdown",
   "metadata": {
    "solution2": "shown",
    "solution2_first": true
   },
   "source": [
    "What would happen if we didn't use the null and instead just called <code>@[L; ; + ; 2]</code>?"
   ]
  },
  {
   "cell_type": "markdown",
   "metadata": {
    "solution2": "shown"
   },
   "source": [
    "We would create a projection! Similar to `+[;2]` or `mavg[2;]`  "
   ]
  },
  {
   "cell_type": "markdown",
   "metadata": {},
   "source": [
    "By specifying the assignment operator `:` as the third argument we can update our list values:"
   ]
  },
  {
   "cell_type": "code",
   "execution_count": null,
   "metadata": {},
   "outputs": [],
   "source": [
    "@[L;where L>10;:;0N]   //make everything above 10 null"
   ]
  },
  {
   "cell_type": "markdown",
   "metadata": {},
   "source": [
    "Note that this doesn't actually update our original list `L` (unlike the index assignment), to do that we need to reassign the output back to `L`."
   ]
  },
  {
   "cell_type": "code",
   "execution_count": null,
   "metadata": {},
   "outputs": [],
   "source": [
    "show L:@[L;0 1;10+] //add 10 to the first two indices in list x\n",
    "@[L;where L>25;10+] //add 10 to any indice in list x which is greater 25"
   ]
  },
  {
   "cell_type": "markdown",
   "metadata": {
    "solution2": "hidden",
    "solution2_first": true
   },
   "source": [
    "##### Exercise \n",
    "\n",
    "Add 300 to every item in the list L that is [`within`](https://code.kx.com/q/ref/within/) the range 10-15 "
   ]
  },
  {
   "cell_type": "code",
   "execution_count": null,
   "metadata": {
    "solution2": "hidden"
   },
   "outputs": [],
   "source": [
    "L \n",
    "where L within 10 15\n",
    "@[L;where L within 10 15;+;300]"
   ]
  },
  {
   "cell_type": "code",
   "execution_count": 119,
   "metadata": {},
   "outputs": [
    {
     "data": {
      "text/plain": [
       "310 310 314 5 5 17 7 2 315 310\n"
      ]
     },
     "execution_count": 119,
     "metadata": {},
     "output_type": "execute_result"
    }
   ],
   "source": [
    "//your code here\n",
    "@[L;where L within 10 15;+;300]"
   ]
  },
  {
   "cell_type": "markdown",
   "metadata": {},
   "source": [
    "## Amendment using . \n",
    "If we want to index at depth, we instead use [`.`](https://code.kx.com/q/ref/apply/#apply-index)(aka [apply-index](https://code.kx.com/q/ref/apply/#apply-index)). "
   ]
  },
  {
   "cell_type": "code",
   "execution_count": null,
   "metadata": {},
   "outputs": [],
   "source": [
    "matrix\n",
    "matrix . 1 2      //Indexing into the second row to get third item \n",
    "matrix . (::;0)   //different syntax- we get the same result as matrix[;0] - :: is a null index"
   ]
  },
  {
   "cell_type": "code",
   "execution_count": null,
   "metadata": {},
   "outputs": [],
   "source": [
    ".[matrix; 0 1]             //equivalent to matrix[0;1]\n",
    ".[matrix; 0 1; : ; 500 ]   //we can now update at depth"
   ]
  },
  {
   "cell_type": "markdown",
   "metadata": {},
   "source": [
    "**Cross sections**\n",
    "\n",
    "Index is cross-sectional when the indexes are themselves lists. The simplest case of cross-sectional indexing occurs when the indexes provided are both vectors.\n",
    "\n",
    "For example, `matrix .(2 1;0 1)` selects items 0 and 1 from both items 2 and 1:"
   ]
  },
  {
   "cell_type": "code",
   "execution_count": null,
   "metadata": {},
   "outputs": [],
   "source": [
    "show matrix\n",
    "matrix . (2 1; 0 1)"
   ]
  },
  {
   "cell_type": "markdown",
   "metadata": {
    "solution2": "hidden",
    "solution2_first": true
   },
   "source": [
    "##### Exercise \n",
    "\n",
    "Use indexing at depth on (\"nuf\";\"BDK\";\" si\") to make<br>\n",
    "\n",
    "    \"KDB\"\n",
    "    \"is \"\n",
    "    \"fun\""
   ]
  },
  {
   "cell_type": "code",
   "execution_count": null,
   "metadata": {
    "solution2": "hidden"
   },
   "outputs": [],
   "source": [
    "(\"nuf\";\"BDK\";\" si\") . (1 2 0;2 1 0)\n",
    ".[(\"nuf\";\"BDK\";\" si\");(1 2 0;2 1 0)]  //functional syntax\n"
   ]
  },
  {
   "cell_type": "code",
   "execution_count": null,
   "metadata": {},
   "outputs": [],
   "source": [
    "//your answer here "
   ]
  }
 ],
 "metadata": {
  "kernelspec": {
   "display_name": "Q (kdb+)",
   "language": "q",
   "name": "qpk"
  },
  "language_info": {
   "file_extension": ".q",
   "mimetype": "text/x-q",
   "name": "q",
   "version": "3.6.0"
  },
  "toc": {
   "base_numbering": 1,
   "nav_menu": {},
   "number_sections": true,
   "sideBar": true,
   "skip_h1_title": false,
   "title_cell": "Table of Contents",
   "title_sidebar": "Contents",
   "toc_cell": false,
   "toc_position": {
    "height": "calc(100% - 180px)",
    "left": "10px",
    "top": "150px",
    "width": "186px"
   },
   "toc_section_display": true,
   "toc_window_display": true
  }
 },
 "nbformat": 4,
 "nbformat_minor": 4
}
